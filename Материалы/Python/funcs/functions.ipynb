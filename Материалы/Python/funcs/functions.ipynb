{
 "cells": [
  {
   "cell_type": "markdown",
   "metadata": {},
   "source": [
    "![logo](img/lambda_funcs.webp)"
   ]
  },
  {
   "cell_type": "markdown",
   "metadata": {},
   "source": [
    "# Функции и элементы функционального программирования в `Python`"
   ]
  },
  {
   "cell_type": "markdown",
   "metadata": {},
   "source": [
    "## Содержание\n",
    "\n",
    "* Создание функций\n",
    "* Объектная природа функций в `Python`\n",
    "* Элементы функционального программирования в `Python`\n",
    "* Рекурсия\n",
    "* Декораторы\n",
    "* Итерируемые объекты\n",
    "* Включения для списков, множеств и словарей\n",
    "* Объекты генераторы"
   ]
  },
  {
   "cell_type": "markdown",
   "metadata": {},
   "source": [
    "**Определение.** Функцией называют именованный фрагмент программного кода, к которому можно обратиться из другого места вашей программы (однако, есть **lambda**-функции, у которых нет имени, о них будет рассказано в конце урока). Как правило, функции создаются для работы с данными, которые передаются ей в качестве аргументов, также функция может формировать некоторое возвращаемое значение. "
   ]
  },
  {
   "cell_type": "markdown",
   "metadata": {},
   "source": [
    "## Создание функций"
   ]
  },
  {
   "cell_type": "markdown",
   "metadata": {},
   "source": [
    "### Объявление функции в `Python`"
   ]
  },
  {
   "cell_type": "markdown",
   "metadata": {},
   "source": [
    "Структура объявления функции в `Python`"
   ]
  },
  {
   "cell_type": "code",
   "execution_count": null,
   "metadata": {},
   "outputs": [],
   "source": [
    "def имя_функции(параметры):\n",
    "    тело_функции\n",
    "    return [значение]"
   ]
  },
  {
   "cell_type": "markdown",
   "metadata": {},
   "source": [
    "- Объявление происходит с помощью ключевого слова **def**, за ним идёт идентификатор функции, на который накладываются такие же ограничения, как и на прочие идентификаторы;\n",
    "- За идентификатором, в круглых скобках `()`, указываются *параметры*, принимаемые функцией. Если параметры отсутствуют, то указываются скобки без параметров;\n",
    "- После скобок дожен следовать символ двоеточия `:` и начинается *тело функции*. Тело функции представляет собой блок операторов, которые выделяются отступами (табуляцией). "
   ]
  },
  {
   "cell_type": "markdown",
   "metadata": {},
   "source": [
    "**Определение.** *Параметром* (*формальным параметром*) функции называется переменная внутри функции, которая будет содержать передаваемое снаружи входное значение.\n",
    "\n",
    "**Определение.** *Аргументом* (*фактическим параметром*) называют переменную или выражение, значение которого используется как входное значение при вызове функции."
   ]
  },
  {
   "cell_type": "markdown",
   "metadata": {},
   "source": [
    "Функция в Python может возвращать результат своего выполнения, используя оператор **return** (например, **return** 5). В случае, если он не был указан или указан пустой оператор **return**, возвращается специальное значение **None**."
   ]
  },
  {
   "cell_type": "markdown",
   "metadata": {},
   "source": [
    "#### Пример"
   ]
  },
  {
   "cell_type": "markdown",
   "metadata": {},
   "source": [
    "Функция, вычисляющая гипотенузу по теореме Пифагора."
   ]
  },
  {
   "cell_type": "code",
   "execution_count": null,
   "metadata": {},
   "outputs": [],
   "source": [
    "# Имя: hypot, 2 параметра: x, y\n",
    "# return возвращает результат работы функции вызвавшему\n",
    "def hypot(x, y):\n",
    "    return (x**2 + y**2)**0.5\n",
    "\n",
    "# Передача в функцию 2-х аргументов: 3 и 4\n",
    "z = hypot(3, 4)\n",
    "print(z)  # 5.0\n",
    "\n",
    "a = 5\n",
    "b = 12\n",
    "# 13.0 - результат функции может быть использован сразу\n",
    "print(hypot(a, b))"
   ]
  },
  {
   "cell_type": "markdown",
   "metadata": {},
   "source": [
    "<center>\n",
    "    <img src=\"img/05_01_01.png\">\n",
    "</center>"
   ]
  },
  {
   "cell_type": "markdown",
   "metadata": {},
   "source": [
    "Функция может возвращать любой объект, в том числе и другую функцию:"
   ]
  },
  {
   "cell_type": "code",
   "execution_count": null,
   "metadata": {},
   "outputs": [],
   "source": [
    "def f1():\n",
    "    print(\"f1\")\n",
    "    def f2():\n",
    "        print(\"Hello!\")\n",
    "    return f2\n",
    "\n",
    "print(f1)\n",
    "print(f1())\n",
    "print(f1()())"
   ]
  },
  {
   "cell_type": "markdown",
   "metadata": {},
   "source": [
    "Тело функции может отсутствовать, для этого используется оператор **pass**:"
   ]
  },
  {
   "cell_type": "code",
   "execution_count": null,
   "metadata": {},
   "outputs": [],
   "source": [
    "def foo():\n",
    "    pass #Оператор-заглушка, равноценный пустому телу функции"
   ]
  },
  {
   "cell_type": "markdown",
   "metadata": {},
   "source": [
    "Функцию можно объявить в любом участке кода: внутри модуля, класса, другой функции. Если функцию объявляют внутри класса, то она называется методом, с которым мы познакомились на прошлом уроке."
   ]
  },
  {
   "cell_type": "markdown",
   "metadata": {},
   "source": [
    "#### Необязательные параметры"
   ]
  },
  {
   "cell_type": "markdown",
   "metadata": {},
   "source": [
    "При описании функции в `Python` можно задать значения параметров по умолчанию, такие аргументы являются *необязательными*. Вначале нужно описывать обязательные параметры, а после них $-$ необязательные.\n",
    "\n",
    "При вызове функции значения *необязательных* аргументов можно не передавать. Если мы хотим изменить значение аргумента, не меняя начальные значения других аргументов, можно обращаться к нему по ключу."
   ]
  },
  {
   "cell_type": "code",
   "execution_count": null,
   "metadata": {},
   "outputs": [],
   "source": [
    "def example(first, second=3, third=5):\n",
    "    print(first)\n",
    "    print(second)\n",
    "    print(third)\n",
    "    \n",
    "example('my string', third=4)"
   ]
  },
  {
   "cell_type": "markdown",
   "metadata": {},
   "source": [
    "### Особенности передачи аргументов изменяемых и неизменяемых типов"
   ]
  },
  {
   "cell_type": "markdown",
   "metadata": {},
   "source": [
    "#### Изменяемые и неизменяемые типы данных\n",
    "\n",
    "Типы данных в `Python` делятся на\n",
    "\n",
    "- неизменяемые (**immutable**) $-$ **int**, **float**, **complex**, **bool**, **str**, **tuple** (кортеж), **frosen set** (неизменяемое множество);\n",
    "\n",
    "- изменяемые (**mutable**) $-$ **list** (список), **set** (множества), **dict** (словари).\n",
    "\n",
    "При создании переменной, вначале создается объект, который имеет уникальный идентификатор, тип и значение, после чего переменная может ссылаться на созданный объект.\n",
    "\n",
    "Неизменяемость типа означает, что созданный объект больше не изменяется.\n",
    "\n",
    "При передаче аргументов в функцию\n",
    "- неизменяемые объекты передаются по значению (*by value*). Это означает, что при изменении значения переменной будет создан новый объект;\n",
    "\n",
    "- изменяемые объекты передаются по ссылке (*by reference*). Это значит, что при изменении значения переменной объект будет изменен."
   ]
  },
  {
   "cell_type": "markdown",
   "metadata": {},
   "source": [
    "#### Передача аргументов неизменяемых типов\n",
    "\n",
    "Передача аргумента осуществляется по значению. Изменения параметра, внутри тела функции, не отражаются на агрументе из внешнего кода."
   ]
  },
  {
   "cell_type": "code",
   "execution_count": null,
   "metadata": {},
   "outputs": [],
   "source": [
    "def func(arg, arg2):\n",
    "    arg = \"Inside\"\n",
    "    arg2 = 4\n",
    "    print(arg)\n",
    "    print(arg2)\n",
    "    print(\"=========\")\n",
    "\n",
    "\n",
    "var1 = \"Outside\"\n",
    "var2 = 10\n",
    "print(var1)\n",
    "print(var2)\n",
    "func(var1,var2)\n",
    "print(var1) # значение аргумента не изменилось\n",
    "print(var2)"
   ]
  },
  {
   "cell_type": "markdown",
   "metadata": {},
   "source": [
    "##### Пример\n",
    "\n",
    "Требуется распечатать зарплаты по месяцам в порядке возрастания, но сохранить порядок следования в исходной последовательности."
   ]
  },
  {
   "cell_type": "code",
   "execution_count": null,
   "metadata": {},
   "outputs": [],
   "source": [
    "salaries = (40000, 30000, 25000, 42000)\n",
    "\n",
    "def f(salaries):\n",
    "    for (i, salary) in enumerate(sorted(salaries)):\n",
    "        print(f\"Зарплата за {i+1}-й месяц {salary}\")\n",
    "\n",
    "f(salaries)"
   ]
  },
  {
   "cell_type": "code",
   "execution_count": null,
   "metadata": {},
   "outputs": [],
   "source": [
    "print(salaries)"
   ]
  },
  {
   "cell_type": "markdown",
   "metadata": {},
   "source": [
    "#### Передача аргументов изменяемых типов\n",
    "\n",
    "Передача параметров изменяемых типов происходит по ссылке, таким образом изменения объекта в теле функции влияют на аргумент из внешнего кода"
   ]
  },
  {
   "cell_type": "code",
   "execution_count": null,
   "metadata": {},
   "outputs": [],
   "source": [
    "def changeme(mylist, mydict):\n",
    "    mylist.append([1, 2, 3, 4])\n",
    "    mydict[1] = \"ccc\"\n",
    "    print(\"List inside: \", mylist)\n",
    "    print(\"Dict inside: \", mydict)\n",
    "    print(\"====================\")\n",
    "\n",
    "l1 = [10, 20, 30]\n",
    "d1 = {1: \"a\", 2: \"b\"}\n",
    "print(\"List outside: \", l1)\n",
    "print(\"Dict outside: \", d1)\n",
    "print(\"==================\")\n",
    "changeme(l1, d1)\n",
    "print(\"List outside: \", l1)\n",
    "print(\"Dict outside: \", d1)"
   ]
  },
  {
   "cell_type": "markdown",
   "metadata": {},
   "source": [
    "Функция, которая изменит переданный ей список:"
   ]
  },
  {
   "cell_type": "code",
   "execution_count": null,
   "metadata": {},
   "outputs": [],
   "source": [
    "salaries = [40000, 30000, 25000, 42000]\n",
    "\n",
    "def f(salaries):\n",
    "    salaries.sort()\n",
    "    for (i, salary) in enumerate(salaries):\n",
    "        print(f\"Зарплата за {i+1}-й месяц {salary}\")\n",
    "\n",
    "print(f\"Порядок последовательности зарплат до вызова f: {salaries}\")\n",
    "f(salaries)\n",
    "print(f\"Порядок последовательности зарплат после вызова f: {salaries}\")"
   ]
  },
  {
   "cell_type": "markdown",
   "metadata": {},
   "source": [
    "### Позиционные и именованные аргументы"
   ]
  },
  {
   "cell_type": "markdown",
   "metadata": {},
   "source": [
    "Аргументы, указываемые в Python при вызове функции делятся на:"
   ]
  },
  {
   "cell_type": "markdown",
   "metadata": {},
   "source": [
    "- *позиционные*, указываются простым перечислением:"
   ]
  },
  {
   "cell_type": "code",
   "execution_count": null,
   "metadata": {},
   "outputs": [],
   "source": [
    "function_name(1, 2, 3)"
   ]
  },
  {
   "cell_type": "markdown",
   "metadata": {},
   "source": [
    "- *именованные*, указываются перечислением `ключ=значение`:"
   ]
  },
  {
   "cell_type": "code",
   "execution_count": null,
   "metadata": {},
   "outputs": [],
   "source": [
    "function_name(key=3, key2=2)"
   ]
  },
  {
   "cell_type": "markdown",
   "metadata": {},
   "source": [
    "#### Передача аргументов по позиции"
   ]
  },
  {
   "cell_type": "markdown",
   "metadata": {},
   "source": [
    "Ранее аргументы, при вызове функции, передавались в определённой последовательности (на определённых позициях), без указания их имён. Такие аргументы называются *позиционными*."
   ]
  },
  {
   "cell_type": "markdown",
   "metadata": {},
   "source": [
    "#### Передача аргументов по имени"
   ]
  },
  {
   "cell_type": "markdown",
   "metadata": {},
   "source": [
    "В отличие от передачи по позиции, передача по *имени* позволяет указать имя конкретного параметра, которому присваивается значение. В этом случае порядок следования не важен"
   ]
  },
  {
   "cell_type": "code",
   "execution_count": null,
   "metadata": {},
   "outputs": [],
   "source": [
    "def describe_person(first_name, last_name, age):\n",
    "    print(\"First name: %s\" % first_name.title())\n",
    "    print(\"Last name: %s\" % last_name.title())\n",
    "    print(\"Age: %d\\n\" % age)\n",
    "\n",
    "describe_person(age=87, first_name='niklaus', last_name='wirth')"
   ]
  },
  {
   "cell_type": "markdown",
   "metadata": {},
   "source": [
    "#### Совместная передача позиционных и именованных аргументов"
   ]
  },
  {
   "cell_type": "code",
   "execution_count": null,
   "metadata": {},
   "outputs": [],
   "source": [
    "def describe_person(first_name, last_name='romero', age=77):\n",
    "    print(\"First name: %s\" % first_name.title())\n",
    "    print(\"Last name: %s\" % last_name.title())\n",
    "    print(\"Age: %d\\n\" % age)\n",
    "\n",
    "describe_person('john',age=53)"
   ]
  },
  {
   "cell_type": "markdown",
   "metadata": {},
   "source": [
    "### Упаковка и распаковка аргументов"
   ]
  },
  {
   "cell_type": "markdown",
   "metadata": {},
   "source": [
    "В ряде случаев бывает полезно определить функцию, способную принимать произвольное, неизвестное заранее, число аргументов. Так, например, работает функция `print()`, которая может принимать на печать различное количество объектов и выводить их на экран."
   ]
  },
  {
   "cell_type": "markdown",
   "metadata": {},
   "source": [
    "Достичь такого поведения можно, используя механизм упаковки аргументов, указав при объявлении параметра в функции один из двух символов:"
   ]
  },
  {
   "cell_type": "markdown",
   "metadata": {},
   "source": [
    "- Все позиционные аргументы начиная с этой позиции и до конца будут собраны в кортеж;\n",
    "- Все ключевые аргументы начиная с этой позиции и до конца будут собраны в словарь."
   ]
  },
  {
   "cell_type": "markdown",
   "metadata": {},
   "source": [
    "#### Пример"
   ]
  },
  {
   "cell_type": "markdown",
   "metadata": {},
   "source": [
    "Выводит на экран музыкальные композиции, композитора и день его рождения."
   ]
  },
  {
   "cell_type": "code",
   "execution_count": null,
   "metadata": {},
   "outputs": [],
   "source": [
    "# При упаковке аргументов все переданные позиционные аргументы\n",
    "# будут собраны в кортеж `order`, а ключевые - в словарь `info`\n",
    "def print_order(*order, **info):\n",
    "    print(\"Музыкальная библиотека №1\\n\")\n",
    "\n",
    "    # Словарь 'infos' должен содержать ключи 'author' и 'birthday'\n",
    "    for key, value in sorted(info.items()):\n",
    "        print(key, \":\", value)\n",
    "\n",
    "    # Кортеж 'order' содержит все наименования произведений\n",
    "    print(\"Вы выбрали:\")\n",
    "    for item in order:\n",
    "        print(\"  -\", item)\n",
    "\n",
    "    print(\"\\nПриходите еще!\")\n",
    "\n",
    "print_order(\"Славянский марш\", \"Лебединое озеро\", \"Спящая красавица\",\n",
    "            \"Пиковая дама\", \"Щелкунчик\",\n",
    "            author=\"П.И. Чайковский\", birthday=\"07/05/1840\")"
   ]
  },
  {
   "cell_type": "markdown",
   "metadata": {},
   "source": [
    "`Python` также предусматривает и обратный механизм $-$ распаковку аргументов, используя аналогичные обозначения перед аргументом:"
   ]
  },
  {
   "cell_type": "markdown",
   "metadata": {},
   "source": [
    "- Кортеж/список распаковывается как отдельные позиционные аргументы и передается в функцию;\n",
    "\n",
    "- Словарь распаковывается как набор ключевых аргументов и передается в функцию."
   ]
  },
  {
   "cell_type": "markdown",
   "metadata": {},
   "source": [
    "#### Пример\n",
    "\n",
    "Вычислить площадь треугольника по формуле Герона и возвращает строковое значение площади."
   ]
  },
  {
   "cell_type": "code",
   "execution_count": null,
   "metadata": {},
   "outputs": [],
   "source": [
    "# Не проектируйте функцию таким образом -\n",
    "# расчетная функция должна возвращать число, а не строку!\n",
    "def heron_area_str(a, b, c, units=\"сантиметры\", print_error=True):\n",
    "    if a + b <= c or a + c <= b or b + c <= a:\n",
    "        if print_error:\n",
    "            return \"Проверьте введенные стороны треугольника!\"\n",
    "        return\n",
    "\n",
    "    p = (a + b + c) / 2\n",
    "    s = (p * (p - a) * (p - b) * (p - c)) ** 0.5\n",
    "    return f\"{s} {units} ** 2\"\n",
    "\n",
    "abc = [3, 4, 5]\n",
    "params = dict(print_error=True, units=\"см.\")\n",
    "\n",
    "# При распаковке аргументов список 'abc' будет распакован в\n",
    "# позиционные аргументы, а словарь 'params' - ключевые\n",
    "print(heron_area_str(*abc, **params))"
   ]
  },
  {
   "cell_type": "markdown",
   "metadata": {},
   "source": [
    "### Области видимости"
   ]
  },
  {
   "cell_type": "markdown",
   "metadata": {},
   "source": [
    "**Определение.** Область видимости $-$ область программы, где определяются идентификаторы, и транслятор выполняет их поиск. За пределами области видимости тот же самый идентификатор может быть связан с другой переменной, либо быть свободным (не связанным ни с какой из них)."
   ]
  },
  {
   "cell_type": "markdown",
   "metadata": {},
   "source": [
    "#### Локальные переменные\n",
    "Для создания переменных, обладающих локальной областью видимости, необходимо всего лишь поместить их в отдельный блок кода, изолированный от остальной программы. Например, у нас таким свойством обладают все переменные, которые мы прежде использовали в функциях, например:"
   ]
  },
  {
   "cell_type": "code",
   "execution_count": null,
   "metadata": {},
   "outputs": [],
   "source": [
    "def f(x):\n",
    "    output = x+1\n",
    "    output2 = output + 1\n",
    "    return output2\n",
    "\n",
    "print(f(4))\n",
    "print(output)"
   ]
  },
  {
   "cell_type": "markdown",
   "metadata": {},
   "source": [
    "Функция корректно отработала, а переменная за пределами функции не была найдена транслятором. Однако, из тела функции можно обращаться к переменной, определенной вне."
   ]
  },
  {
   "cell_type": "code",
   "execution_count": null,
   "metadata": {},
   "outputs": [],
   "source": [
    "x = 11\n",
    "\n",
    "def foo(z):\n",
    "    print(x)\n",
    "    return None\n",
    "\n",
    "foo(10)"
   ]
  },
  {
   "cell_type": "markdown",
   "metadata": {},
   "source": [
    "Выходит, что все переменные, объявленные \"в более широкой области видимости\" всегда доступны \"в более узкой области видимости\"."
   ]
  },
  {
   "cell_type": "markdown",
   "metadata": {},
   "source": [
    "#### Области видимости `Python`"
   ]
  },
  {
   "cell_type": "markdown",
   "metadata": {},
   "source": [
    "- *Локальная* (`Local`). Собственная область внутри инструкции **def**;\n",
    "\n",
    "- *Нелокальная* (`Enclosed`). Область в пределах вышестоящей инструкции **def**;\n",
    "\n",
    "- *Глобальная* (`Global`). Область за пределами всех инструкций **def** $-$ глобальная для всего модуля;\n",
    "\n",
    "- *Встроенная* (`Built-in`). *Системная* область модуля **builtins**: содержит предопределенные идентификаторы, например, функцию `max()` и т. п.\n",
    "\n",
    "Локальная и нелокальная области видимости являются относительными, глобальная и встроенная $-$ абсолютными."
   ]
  },
  {
   "cell_type": "markdown",
   "metadata": {},
   "source": [
    "##### Основные положения\n",
    "\n",
    "- Идентификатор может называться локальным, глобальным и т. д., если имеет соответствующую область видимости;\n",
    "\n",
    "- Функции образуют локальную область видимости, а модули $-$ глобальную;\n",
    "\n",
    "- Чем ближе область к концу списка, тем более она открыта (ее содержимое доступно для более закрытых областей видимости; например, глобальные идентификаторы и предопределенные имена могут быть доступны в локальной области видимости функции, но не наоборот)."
   ]
  },
  {
   "cell_type": "markdown",
   "metadata": {},
   "source": [
    "Основное правило поиска идентификаторов в `Python` называется `LEGB`: `Local` -> `Enclosed` -> `Global` -> `Built-in`. По этому правилу, когда внутри функции выполняется обращение к неизвестному имени, интерпретатор пытается отыскать его в четырех областях видимости по очереди до первого нахождения."
   ]
  },
  {
   "cell_type": "markdown",
   "metadata": {},
   "source": [
    "##### Пример"
   ]
  },
  {
   "cell_type": "code",
   "execution_count": null,
   "metadata": {},
   "outputs": [],
   "source": [
    "#Global\n",
    "\n",
    "def bar():\n",
    "    #Enclosed\n",
    "\n",
    "    def func():\n",
    "        #Local\n",
    "        pass\n",
    "\n",
    "    #Enclosed\n",
    "    return func()\n",
    "#Global"
   ]
  },
  {
   "cell_type": "markdown",
   "metadata": {},
   "source": [
    "Доступность глобальных переменных"
   ]
  },
  {
   "cell_type": "code",
   "execution_count": null,
   "metadata": {},
   "outputs": [],
   "source": [
    "res = 'Global'\n",
    "\n",
    "def func():\n",
    "    print('[local]\\t\\t', res)\n",
    "\n",
    "func()"
   ]
  },
  {
   "cell_type": "markdown",
   "metadata": {},
   "source": [
    "По умолчанию, идентификаторы из другой области видимости доступны только для чтения, а, при попытке присвоения, функция создает локальный идентификатор."
   ]
  },
  {
   "cell_type": "code",
   "execution_count": null,
   "metadata": {},
   "outputs": [],
   "source": [
    "res = 'Global'\n",
    "\n",
    "def func():\n",
    "    res = 'Local'\n",
    "    print('[local]\\t\\t', res)\n",
    "\n",
    "print('res = ', res)\n",
    "func()\n",
    "print('res = ', res)"
   ]
  },
  {
   "cell_type": "code",
   "execution_count": null,
   "metadata": {},
   "outputs": [],
   "source": [
    "res = 'Global'\n",
    "\n",
    "def func():\n",
    "    print('[local]\\t\\t', res)#Используем глобальную переменную\n",
    "    res = 'Local'\n",
    "    print('[local]\\t\\t', res)#Используем локальную переменную\n",
    "\n",
    "print('res = ', res)\n",
    "func()\n",
    "print('res = ', res)"
   ]
  },
  {
   "cell_type": "markdown",
   "metadata": {},
   "source": [
    "Чтобы изменять в функции переменные следующих областей видимости, используются следующие инструменты:\n",
    "\n",
    "- Инструкция **global** сообщает, что функция будет изменять один или более глобальных идентификаторов;\n",
    "\n",
    "- Инструкция **nonlocal** сообщает, что вложенная функция будет изменять один или более идентификаторов внешних функций."
   ]
  },
  {
   "cell_type": "markdown",
   "metadata": {},
   "source": [
    "##### Пример"
   ]
  },
  {
   "cell_type": "markdown",
   "metadata": {},
   "source": [
    "Рассмотрим пример использования ключевых слов **global** и **nonlocal**."
   ]
  },
  {
   "cell_type": "code",
   "execution_count": null,
   "metadata": {},
   "outputs": [],
   "source": [
    "res = 'Global'\n",
    "\n",
    "def func_outer():\n",
    "    #nonlocal res #в охватывающем блоке global\n",
    "    #global res\n",
    "    res = 'Enclosed'\n",
    "    print('[enclosed]\\t\\t', res)\n",
    "\n",
    "    def func():        \n",
    "        #global res#Используем глобальную переменную\n",
    "        nonlocal res #обращается к ближайшей переменной из охватывающего кода\n",
    "        res = 'Local'#Используем локальную переменную\n",
    "        print('[local]\\t\\t', res)\n",
    "    \n",
    "    func()\n",
    "    print('[enclosed]\\t\\t', res)\n",
    "\n",
    "print('[global]\\t\\t', res)\n",
    "func_outer()\n",
    "print('[global]\\t\\t', res)"
   ]
  },
  {
   "cell_type": "markdown",
   "metadata": {},
   "source": [
    "### Строки документации"
   ]
  },
  {
   "cell_type": "markdown",
   "metadata": {},
   "source": [
    "`Python` предоставляет возможность добавить документацию (описание) к любой функции, используя строки документирования $-$ это обычные строки в тройных кавычках \"\"\", которые следуют сразу за строкой с инструкцией **def** перед программным кодом функции и воспринимаются транслятором специальным образом.\n",
    "\n",
    "Верно оформленная строка документации является краткой справкой по функции, которую можно увидеть, вызвав функцию `help()`."
   ]
  },
  {
   "cell_type": "markdown",
   "metadata": {},
   "source": [
    "#### Пример"
   ]
  },
  {
   "cell_type": "code",
   "execution_count": null,
   "metadata": {},
   "outputs": [],
   "source": [
    "def heron(a, b, c):\n",
    "    \"\"\"Вернуть площадь треугольника по формуле Герона.\n",
    "\n",
    "    Параметры:\n",
    "        - a, b, c (float): стороны треугольника.\n",
    "\n",
    "    Результат:\n",
    "        - float: значение площади.\n",
    "        - None: если треугольник не существует.\n",
    "    \"\"\"\n",
    "    if not (a + b > c and a + c > b and b + c > a):\n",
    "        return\n",
    "\n",
    "    p = (a + b + c) / 2\n",
    "    return sqrt(p * (p - a) * (p - b) * (p - c))\n",
    "\n",
    "help(heron)"
   ]
  },
  {
   "cell_type": "code",
   "execution_count": null,
   "metadata": {},
   "outputs": [],
   "source": [
    "heron?"
   ]
  },
  {
   "cell_type": "markdown",
   "metadata": {},
   "source": [
    "### Возврат нескольких значений\n",
    "\n",
    "При помощи оператора **return** функция может возвращать несколько значений, упакованных в кортеж."
   ]
  },
  {
   "cell_type": "markdown",
   "metadata": {},
   "source": [
    "#### Пример"
   ]
  },
  {
   "cell_type": "code",
   "execution_count": null,
   "metadata": {},
   "outputs": [],
   "source": [
    "def sum_diff(a,b):\n",
    "    return a+b, a-b\n",
    "\n",
    "summa, diff = sum_diff(4,1)\n",
    "print(summa)\n",
    "print(diff)"
   ]
  },
  {
   "cell_type": "markdown",
   "metadata": {},
   "source": [
    "## Объектная природа функций в Python"
   ]
  },
  {
   "cell_type": "markdown",
   "metadata": {},
   "source": [
    "Для примера рассмотрим функцию, выводящую секунды данного момента времени"
   ]
  },
  {
   "cell_type": "code",
   "execution_count": null,
   "metadata": {},
   "outputs": [],
   "source": [
    "from datetime import datetime\n",
    "\n",
    "def current_seconds():\n",
    "    \"\"\"Return current seconds\"\"\"\n",
    "    return datetime.now().second\n",
    "\n",
    "current_seconds()"
   ]
  },
  {
   "cell_type": "code",
   "execution_count": null,
   "metadata": {},
   "outputs": [],
   "source": [
    "print(type(current_seconds))"
   ]
  },
  {
   "cell_type": "markdown",
   "metadata": {},
   "source": [
    "Функции в `Python` представляют собой объекты класса `function`, а значит у них есть атрибуты и методы"
   ]
  },
  {
   "cell_type": "code",
   "execution_count": null,
   "metadata": {},
   "outputs": [],
   "source": [
    "current_seconds.__name__"
   ]
  },
  {
   "cell_type": "code",
   "execution_count": null,
   "metadata": {},
   "outputs": [],
   "source": [
    "current_seconds.__doc__"
   ]
  },
  {
   "cell_type": "markdown",
   "metadata": {},
   "source": [
    "Выведем члены класса `function`, к которому относится объект `current_seconds`"
   ]
  },
  {
   "cell_type": "code",
   "execution_count": null,
   "metadata": {},
   "outputs": [],
   "source": [
    "dir(current_seconds)"
   ]
  },
  {
   "cell_type": "markdown",
   "metadata": {},
   "source": [
    "### Применение объектной природы функций на практике"
   ]
  },
  {
   "cell_type": "markdown",
   "metadata": {},
   "source": [
    "#### Использование псевдонима (`alias`) функции"
   ]
  },
  {
   "cell_type": "code",
   "execution_count": null,
   "metadata": {},
   "outputs": [],
   "source": [
    "f = current_seconds\n",
    "f()"
   ]
  },
  {
   "cell_type": "code",
   "execution_count": null,
   "metadata": {},
   "outputs": [],
   "source": [
    "f"
   ]
  },
  {
   "cell_type": "markdown",
   "metadata": {},
   "source": [
    "#### Использование последовательности функций, с выбором необходимой, следуя логике программы"
   ]
  },
  {
   "cell_type": "code",
   "execution_count": null,
   "metadata": {},
   "outputs": [],
   "source": [
    "def add(a, b):\n",
    "    return a + b\n",
    "\n",
    "def power(a, b):\n",
    "    return a ** b\n",
    "\n",
    "def sub(a, b):\n",
    "    return a - b\n",
    "\n",
    "key = \"power\"\n",
    "d = { \"add\": add, \"power\": power, \"sub\": sub }\n",
    "\n",
    "f = d[key]\n",
    "\n",
    "print(f(2, 8))"
   ]
  },
  {
   "cell_type": "markdown",
   "metadata": {},
   "source": [
    "#### Объявление пользовательских атрибутов для функции"
   ]
  },
  {
   "cell_type": "code",
   "execution_count": null,
   "metadata": {},
   "outputs": [],
   "source": [
    "def func():\n",
    "    func.counter += 1\n",
    "\n",
    "func.counter = 0\n",
    "for i in range(5):\n",
    "    func()\n",
    "\n",
    "print(func.counter)"
   ]
  },
  {
   "cell_type": "markdown",
   "metadata": {},
   "source": [
    "#### Замена кода функции\n",
    "\n",
    "*Хулиганский* прием программирования. Такие приемы приводят к плохо читаемому коду."
   ]
  },
  {
   "cell_type": "code",
   "execution_count": null,
   "metadata": {},
   "outputs": [],
   "source": [
    "def sum(a, b):\n",
    "    pass\n",
    "\n",
    "print(sum(2, 3))\n",
    "\n",
    "sum.__code__ = current_seconds.__code__\n",
    "print(sum())#теперь sum стал вызываться без аргументов"
   ]
  },
  {
   "cell_type": "markdown",
   "metadata": {},
   "source": [
    "## Элементы функционального программирования в `Python`"
   ]
  },
  {
   "cell_type": "markdown",
   "metadata": {},
   "source": [
    "### **lambda**-функции\n",
    "\n",
    "`Python` поддерживает синтаксис, позволяющий определять *анонимные функции*, т. е. функции без идентификатора. Также, подобные функции принято называть **lambda**-функциями или **lambda**-выражениями."
   ]
  },
  {
   "cell_type": "code",
   "execution_count": null,
   "metadata": {},
   "outputs": [],
   "source": [
    "lambda параметры: выражение"
   ]
  },
  {
   "cell_type": "markdown",
   "metadata": {},
   "source": [
    "#### Особенности применения\n",
    "\n",
    "- часть параметры является необязательной, и если она присутствует, то обычно представляет собой простой список имен переменных, разделенных запятыми (позиционных аргументов);\n",
    "\n",
    "- выражение не может содержать условных инструкций или циклов (условные выражения - допустимы), а также не может содержать инструкцию return;\n",
    "\n",
    "- результатом **lambda**-выражения является анонимная функция.\n",
    "\n",
    "Когда **lambda**-функция вызывается, она возвращает результат вычисления выражения."
   ]
  },
  {
   "cell_type": "markdown",
   "metadata": {},
   "source": [
    "#### Пример"
   ]
  },
  {
   "cell_type": "markdown",
   "metadata": {},
   "source": [
    "##### lambda-функция, которая добавляет к переданному аргументу 1 и возвращает результат."
   ]
  },
  {
   "cell_type": "code",
   "execution_count": null,
   "metadata": {},
   "outputs": [],
   "source": [
    "add_1 = lambda x: x + 1\n",
    "add_1(8) "
   ]
  },
  {
   "cell_type": "code",
   "execution_count": null,
   "metadata": {},
   "outputs": [],
   "source": [
    "print(type(add_1))"
   ]
  },
  {
   "cell_type": "markdown",
   "metadata": {},
   "source": [
    "##### Сложение двух чисел с помощью **lambda**-функции"
   ]
  },
  {
   "cell_type": "code",
   "execution_count": null,
   "metadata": {},
   "outputs": [],
   "source": [
    "add_2 = lambda x, y: x + y\n",
    "add_2(3, 4)"
   ]
  },
  {
   "cell_type": "markdown",
   "metadata": {},
   "source": [
    "Идентификаторами аргументов могут быть не только $x$ и $y$, но и любые другие допустимые идентификаторы"
   ]
  },
  {
   "cell_type": "code",
   "execution_count": null,
   "metadata": {},
   "outputs": [],
   "source": [
    "add_2 = lambda f123, er45: f123 + er45\n",
    "add_2(3, 4)"
   ]
  },
  {
   "cell_type": "markdown",
   "metadata": {},
   "source": [
    "Во всех трех примерах мы все-таки присвоили имя каждой из функций. Для полной анонимности,  аргументы передаются в скобках после скобок, содержащих определение **lambda**-функции"
   ]
  },
  {
   "cell_type": "code",
   "execution_count": null,
   "metadata": {},
   "outputs": [],
   "source": [
    "(lambda x, y: x * y)(3, 5)"
   ]
  },
  {
   "cell_type": "markdown",
   "metadata": {},
   "source": [
    "##### Использование **lambda**-функции совместно со строками"
   ]
  },
  {
   "cell_type": "code",
   "execution_count": null,
   "metadata": {},
   "outputs": [],
   "source": [
    "(lambda x, y: x * y)(\"Ха-\",3)"
   ]
  },
  {
   "cell_type": "code",
   "execution_count": null,
   "metadata": {},
   "outputs": [],
   "source": [
    "(lambda x, y: x + y)(\"Первая\",\"Вторая\")"
   ]
  },
  {
   "cell_type": "markdown",
   "metadata": {},
   "source": [
    "##### **lambda**-функция без аргументов"
   ]
  },
  {
   "cell_type": "code",
   "execution_count": null,
   "metadata": {},
   "outputs": [],
   "source": [
    "(lambda: [0,1,2,3])()"
   ]
  },
  {
   "cell_type": "markdown",
   "metadata": {},
   "source": [
    "##### Значения аргументов по умолчанию"
   ]
  },
  {
   "cell_type": "code",
   "execution_count": null,
   "metadata": {},
   "outputs": [],
   "source": [
    "(lambda x = 3, y = 5: x + y)()"
   ]
  },
  {
   "cell_type": "markdown",
   "metadata": {},
   "source": [
    "Здесь в качестве первого аргумента пришел список, а второй использовался по умолчанию. Функция должна вернуть первый элемент первого списка $+3$."
   ]
  },
  {
   "cell_type": "code",
   "execution_count": null,
   "metadata": {},
   "outputs": [],
   "source": [
    "(lambda x,y=3: x[0] + y)([1,2,3])"
   ]
  },
  {
   "cell_type": "markdown",
   "metadata": {},
   "source": [
    "##### Список **lambda**-функций"
   ]
  },
  {
   "cell_type": "code",
   "execution_count": null,
   "metadata": {},
   "outputs": [],
   "source": [
    "lambda_list = [\n",
    "    lambda x: x ** 2,\n",
    "    lambda x, y: x < y,\n",
    "    lambda s: s.strip().split(),\n",
    "    lambda *a: len(a),\n",
    "    lambda **a: key in a,\n",
    "    lambda *a, **b: len(a) + len(b)\n",
    "]"
   ]
  },
  {
   "cell_type": "code",
   "execution_count": null,
   "metadata": {},
   "outputs": [],
   "source": [
    "print(lambda_list)"
   ]
  },
  {
   "cell_type": "markdown",
   "metadata": {},
   "source": [
    "### Функция **map**"
   ]
  },
  {
   "cell_type": "markdown",
   "metadata": {},
   "source": [
    "Функция `map(func, iter_obj)` применяет функцию *func* ко всем элементам *iter_obj*\n",
    "\n",
    "**lambda**-функции очень часто применяются для преобразования каких-то последовательностей. Для этого **lambda**-функции можно подавать в функцию `map()`. Давайте возьмем список и возведем все его элементы в квадрат с помощью `map()` и **lambda**-функции."
   ]
  },
  {
   "cell_type": "code",
   "execution_count": null,
   "metadata": {},
   "outputs": [],
   "source": [
    "a = [1,3,4,6]\n",
    "list(map(lambda x: x ** 2, a))"
   ]
  },
  {
   "cell_type": "code",
   "execution_count": null,
   "metadata": {},
   "outputs": [],
   "source": [
    "import re\n",
    "re.findall(r'\\d',str(234))"
   ]
  },
  {
   "cell_type": "code",
   "execution_count": null,
   "metadata": {},
   "outputs": [],
   "source": [
    "# Список\n",
    "a = [1,2,3,4,6,34,6,335,777,876]\n",
    "\n",
    "# Функция, которая возвращает число, цифры которого разделены символом _ и превращены в строку\n",
    "import re\n",
    "\n",
    "def to_str(x):\n",
    "    return '_'.join(re.findall(r'\\d',str(x)))\n",
    "\n",
    "list(map(to_str,a))"
   ]
  },
  {
   "cell_type": "markdown",
   "metadata": {},
   "source": [
    "Обнулим в списке все числа, не кратные 3"
   ]
  },
  {
   "cell_type": "code",
   "execution_count": null,
   "metadata": {},
   "outputs": [],
   "source": [
    "a = [1,3,4,6]\n",
    "list(map(lambda x: x if x % 3 == 0 else 0, a))"
   ]
  },
  {
   "cell_type": "markdown",
   "metadata": {},
   "source": [
    "Заметим, что в if здесь используется синтаксис тернарной операции."
   ]
  },
  {
   "cell_type": "markdown",
   "metadata": {},
   "source": [
    "### Функция `filter()`"
   ]
  },
  {
   "cell_type": "markdown",
   "metadata": {},
   "source": [
    "Функция для фильтрации списков, которая работает аналогично `map()`."
   ]
  },
  {
   "cell_type": "markdown",
   "metadata": {},
   "source": [
    "#### Пример"
   ]
  },
  {
   "cell_type": "markdown",
   "metadata": {},
   "source": [
    "Отфильтровать все числа меньше 4 из списка."
   ]
  },
  {
   "cell_type": "markdown",
   "metadata": {},
   "source": [
    "Видно, что синтаксис такой же, как и у `map()`. первый аргумент - функция, которую надо применять, а второй $-$ коллекция, на которую надо применять. Но как и для map, функция возвращает итератор, поэтому, чтобы получить список, его нужно обернуть функцией `list()`."
   ]
  },
  {
   "cell_type": "code",
   "execution_count": null,
   "metadata": {},
   "outputs": [],
   "source": [
    "# Решение с помощью цикла\n",
    "numbers = [1,2,3,4,5]\n",
    "numbers_under_4 = []\n",
    "for number in numbers:\n",
    "    if number < 4:\n",
    "        numbers_under_4.append(number)\n",
    "numbers_under_4"
   ]
  },
  {
   "cell_type": "code",
   "execution_count": null,
   "metadata": {},
   "outputs": [],
   "source": [
    "# Решение с помощью спискового включения вот так:\n",
    "numbers = [1,2,3,4,5]\n",
    "numbers_under_4 = [number for number in numbers if number < 4]\n",
    "numbers_under_4"
   ]
  },
  {
   "cell_type": "code",
   "execution_count": null,
   "metadata": {},
   "outputs": [],
   "source": [
    "# Решение с помощью filter:\n",
    "numbers = [1,2,3,4,5]\n",
    "numbers_under_4 = list(filter(lambda x: x < 4, numbers))\n",
    "numbers_under_4"
   ]
  },
  {
   "cell_type": "markdown",
   "metadata": {},
   "source": [
    "### Функция zip (молния)"
   ]
  },
  {
   "cell_type": "markdown",
   "metadata": {},
   "source": [
    "Объединяет два и более итерируемых объектов в один список кортежей, в которых 1-й элемент берется из 1-го объекта, 2-й из 2-го и т. д. Длина списка определяется самым коротким из итерируемымых объектов"
   ]
  },
  {
   "cell_type": "code",
   "execution_count": null,
   "metadata": {},
   "outputs": [],
   "source": [
    "zip(range(10), 'параллелепипед')"
   ]
  },
  {
   "cell_type": "code",
   "execution_count": null,
   "metadata": {},
   "outputs": [],
   "source": [
    "list(zip(range(10), \"параллелепипед\"))"
   ]
  },
  {
   "cell_type": "code",
   "execution_count": null,
   "metadata": {},
   "outputs": [],
   "source": [
    "list(zip(\n",
    "    'параллелепипед',\n",
    "    range(10),\n",
    "    [True, True, False, True, False, False, False]\n",
    "    ))"
   ]
  },
  {
   "cell_type": "code",
   "execution_count": null,
   "metadata": {},
   "outputs": [],
   "source": [
    "#нерекомендуемое решение\n",
    "s = 'параллелепипед'\n",
    "list(zip(range(len(s)), s))"
   ]
  },
  {
   "cell_type": "markdown",
   "metadata": {},
   "source": [
    "Для данной задачи существует функция *enumerate*"
   ]
  },
  {
   "cell_type": "code",
   "execution_count": null,
   "metadata": {},
   "outputs": [],
   "source": [
    "enumerate('параллелепипед')"
   ]
  },
  {
   "cell_type": "code",
   "execution_count": null,
   "metadata": {},
   "outputs": [],
   "source": [
    "list(enumerate('параллелепипед'))"
   ]
  },
  {
   "cell_type": "code",
   "execution_count": null,
   "metadata": {
    "tags": []
   },
   "outputs": [],
   "source": [
    "for i, c in enumerate('параллелепипед'):\n",
    "    print(i, c, sep='\\t')"
   ]
  },
  {
   "cell_type": "markdown",
   "metadata": {},
   "source": [
    "`zip_longest()` эквивалентна `zip()` с той разницей, что длина списка определяется наиболее длинным объектом. Отсутствующие элементы кортежа определяются *fillvalue*"
   ]
  },
  {
   "cell_type": "code",
   "execution_count": null,
   "metadata": {},
   "outputs": [],
   "source": [
    "from itertools import zip_longest\n",
    "\n",
    "list(zip_longest(range(10), 'параллелепипед'))"
   ]
  },
  {
   "cell_type": "code",
   "execution_count": null,
   "metadata": {},
   "outputs": [],
   "source": [
    "list(zip_longest(range(10), 'параллелепипед', fillvalue='null'))"
   ]
  },
  {
   "cell_type": "markdown",
   "metadata": {},
   "source": [
    "## Рекурсия\n",
    "\n",
    "Рекурсия $-$ это техника в `Computer Science`, когда функция вызывает сама себя."
   ]
  },
  {
   "cell_type": "markdown",
   "metadata": {},
   "source": [
    "### Пример\n",
    "\n",
    "Самый известный пример $—$ вычисление факториала $n! = n \\cdot (n — 1) \\cdot (n - 2) \\cdot\\dots\\cdot 2 \\cdot 1$.\n",
    "\n",
    "Определив, что $0! = 1$ и $1! = 1$, факториал можно вычислить следующим образом:"
   ]
  },
  {
   "cell_type": "code",
   "execution_count": null,
   "metadata": {},
   "outputs": [],
   "source": [
    "def factorial(n):\n",
    "    if n > 1:\n",
    "        return n * factorial(n-1)\n",
    "    else:\n",
    "        return 1"
   ]
  },
  {
   "cell_type": "code",
   "execution_count": null,
   "metadata": {},
   "outputs": [],
   "source": [
    "factorial(5)"
   ]
  },
  {
   "cell_type": "markdown",
   "metadata": {},
   "source": [
    "Используя, **lambda**-функции:"
   ]
  },
  {
   "cell_type": "code",
   "execution_count": null,
   "metadata": {},
   "outputs": [],
   "source": [
    "#factorial = None\n",
    "factorial = lambda n : n * factorial(n-1) if n > 1 else 1"
   ]
  },
  {
   "cell_type": "code",
   "execution_count": null,
   "metadata": {},
   "outputs": [],
   "source": [
    "factorial(5)"
   ]
  },
  {
   "cell_type": "markdown",
   "metadata": {},
   "source": [
    "Каждый раз, когда функция вызывает себя и сохраняет некоторую память. Таким образом, рекурсивная функция может содержать гораздо больше памяти, чем традиционная функция. `Python` останавливает вызовы функций после глубины в $1000$ вызовов. Если вы запустите этот пример, получите ошибку."
   ]
  },
  {
   "cell_type": "code",
   "execution_count": null,
   "metadata": {
    "scrolled": true
   },
   "outputs": [],
   "source": [
    "def factorial(n):\n",
    "    if n > 1:\n",
    "        return n * factorial(n-1)\n",
    "    else:\n",
    "        return 1\n",
    "\n",
    "print(factorial(3000))"
   ]
  },
  {
   "cell_type": "markdown",
   "metadata": {},
   "source": [
    "#### Пример"
   ]
  },
  {
   "cell_type": "markdown",
   "metadata": {},
   "source": [
    "Подобным способом можно вычислить $N$-ое число Фибоначчи (они вычисляются по рекурсивному правилу).\n",
    "\n",
    "Заодно здесь мы видим, что выражений **return** может быть несколько (для различных условий)"
   ]
  },
  {
   "cell_type": "code",
   "execution_count": 1,
   "metadata": {},
   "outputs": [],
   "source": [
    "def fibonacci(n):\n",
    "    if n in (1, 2):\n",
    "        return 1\n",
    "    return fibonacci(n - 1) + fibonacci(n - 2)"
   ]
  },
  {
   "cell_type": "code",
   "execution_count": 2,
   "metadata": {},
   "outputs": [
    {
     "data": {
      "text/plain": [
       "2"
      ]
     },
     "execution_count": 2,
     "metadata": {},
     "output_type": "execute_result"
    }
   ],
   "source": [
    "fibonacci(3)"
   ]
  },
  {
   "cell_type": "markdown",
   "metadata": {},
   "source": [
    "#### Пример\n",
    "\n",
    "Рекурсивно посчитать сумму чисел от $1$ до $N$\n",
    "\n",
    "Вход: $N$\n",
    "\n",
    "Выход: $\\sum\\limits_{n=1}^N n$\n",
    "\n",
    "\n",
    "Вход: 3\n",
    "\n",
    "Выход: 6"
   ]
  },
  {
   "cell_type": "code",
   "execution_count": 3,
   "metadata": {},
   "outputs": [],
   "source": [
    "def summa(n):\n",
    "    if n == 0:\n",
    "        return 0\n",
    "    return n + summa(n - 1)"
   ]
  },
  {
   "cell_type": "code",
   "execution_count": 4,
   "metadata": {},
   "outputs": [
    {
     "data": {
      "text/plain": [
       "6"
      ]
     },
     "execution_count": 4,
     "metadata": {},
     "output_type": "execute_result"
    }
   ],
   "source": [
    "summa(3)"
   ]
  },
  {
   "cell_type": "markdown",
   "metadata": {},
   "source": [
    "#### Пример\n",
    "\n",
    "Одним из полезных применений рекурсии является алгоритм быстрого возведения в степень. Если вычислять степень $a^n$ при помощи простого цикла, то понадобится $n-1$ умножение. Но можно решить все это быстрее, воспользовавшись рекуррентными соотношениями:\n",
    "\n",
    "Для нечетных n:\n",
    "$$\n",
    "    a^n = a^{n-1}a\n",
    "$$\n",
    "\n",
    "Для четных n: \n",
    "$$\n",
    "    a^n = (a^{n/2})^2\n",
    "$$\n",
    "\n",
    "Это позволяет записать алгоритм, который будет выполнять не более чем за: $2\\cdot\\log_2(n)$ умножений"
   ]
  },
  {
   "cell_type": "code",
   "execution_count": 5,
   "metadata": {},
   "outputs": [],
   "source": [
    "def power(a, n):\n",
    "    if n == 0:\n",
    "        return 1\n",
    "    elif n % 2 == 1:\n",
    "        return power(a, n - 1) * a\n",
    "    else:\n",
    "        return power(a, n // 2) ** 2"
   ]
  },
  {
   "cell_type": "code",
   "execution_count": 6,
   "metadata": {},
   "outputs": [
    {
     "data": {
      "text/plain": [
       "1048576"
      ]
     },
     "execution_count": 6,
     "metadata": {},
     "output_type": "execute_result"
    }
   ],
   "source": [
    "power(2,20)"
   ]
  },
  {
   "cell_type": "code",
   "execution_count": 7,
   "metadata": {},
   "outputs": [
    {
     "data": {
      "text/plain": [
       "1048576"
      ]
     },
     "execution_count": 7,
     "metadata": {},
     "output_type": "execute_result"
    }
   ],
   "source": [
    "2**20"
   ]
  },
  {
   "cell_type": "markdown",
   "metadata": {},
   "source": [
    "## Декораторы\n",
    "\n",
    "Декоратор $-$ функция, получающая аргументом функцию и возвращающая функцию.\n",
    "\n",
    "Декоратор может выступать в качестве обертки функции, для чего в `Python` есть специфические языковые возможности."
   ]
  },
  {
   "cell_type": "markdown",
   "metadata": {},
   "source": [
    "### Пример"
   ]
  },
  {
   "cell_type": "code",
   "execution_count": 8,
   "metadata": {},
   "outputs": [
    {
     "name": "stdout",
     "output_type": "stream",
     "text": [
      "Hello world!\n",
      "greetings\n"
     ]
    }
   ],
   "source": [
    "def decorator(func):\n",
    "    return func\n",
    "\n",
    "@decorator\n",
    "def greetings():\n",
    "    return 'Hello world!'\n",
    "\n",
    "print(greetings())\n",
    "print(greetings.__name__)"
   ]
  },
  {
   "cell_type": "markdown",
   "metadata": {},
   "source": [
    "Подмена вызываемой функции с помощью декоратора"
   ]
  },
  {
   "cell_type": "code",
   "execution_count": 9,
   "metadata": {},
   "outputs": [
    {
     "name": "stdout",
     "output_type": "stream",
     "text": [
      "Bonjour le monde!\n",
      "func_new\n"
     ]
    }
   ],
   "source": [
    "def decorator(func):\n",
    "    def func_new():\n",
    "        return \"Bonjour le monde!\"\n",
    "    return func_new\n",
    "\n",
    "@decorator\n",
    "def greetings():\n",
    "    return \"Hello world!\"\n",
    "\n",
    "print(greetings())\n",
    "print(greetings.__name__)"
   ]
  },
  {
   "cell_type": "markdown",
   "metadata": {},
   "source": [
    "Интерпретатор `Python` при вызове декорируемой функции, фактически осуществляет вызов `greetings_2()`"
   ]
  },
  {
   "cell_type": "code",
   "execution_count": 10,
   "metadata": {},
   "outputs": [
    {
     "name": "stdout",
     "output_type": "stream",
     "text": [
      "Hello world!\n",
      "Bonjour le monde!\n"
     ]
    }
   ],
   "source": [
    "def decorator(func):\n",
    "    def func_new():\n",
    "        return \"Bonjour le monde!\"\n",
    "    return func_new\n",
    "\n",
    "def greetings():\n",
    "    return \"Hello world!\"\n",
    "\n",
    "print(greetings())\n",
    "greetings_2 = decorator(greetings)\n",
    "print(greetings_2())"
   ]
  },
  {
   "cell_type": "markdown",
   "metadata": {},
   "source": [
    "Декораторы могут быть использованы для расширения возможностей функций из сторонних библиотек (код которых мы не можем изменять), или для упрощения отладки (мы не хотим изменять код, который ещё не устоялся).\n",
    "\n",
    "Также полезно использовать декораторы для расширения различных функций одним и тем же кодом, без повторного его переписывания каждый раз."
   ]
  },
  {
   "cell_type": "markdown",
   "metadata": {},
   "source": [
    "### Пример\n",
    "\n",
    "Классическое применение декораторов: ведение *log-файлов*"
   ]
  },
  {
   "cell_type": "code",
   "execution_count": 11,
   "metadata": {},
   "outputs": [
    {
     "data": {
      "text/plain": [
       "25"
      ]
     },
     "execution_count": 11,
     "metadata": {},
     "output_type": "execute_result"
    }
   ],
   "source": [
    "def logger(func):\n",
    "    def wrapper(a):\n",
    "        # обертка необходима, чтобы получить доступ к аргументам,\n",
    "        # передаваемым декорируемой функции\n",
    "        res = func(a)\n",
    "        with open('decorator.log', 'a') as f_output:\n",
    "            #Способ 1 записать в файл\n",
    "            #f_output.write(\"num = {}, result = {}\\n\".format(len(a),result))\n",
    "            #Способ 2 записать в файл\n",
    "            print(f\"num = {len(a)}, result = {res}\", file=f_output)\n",
    "        return res\n",
    "    return wrapper\n",
    "\n",
    "@logger\n",
    "def summator(a):\n",
    "    return sum(a)\n",
    "\n",
    "summator([1, 8, 4, 12])"
   ]
  },
  {
   "cell_type": "markdown",
   "metadata": {},
   "source": [
    "Эквивалентный синтаксис"
   ]
  },
  {
   "cell_type": "code",
   "execution_count": 12,
   "metadata": {},
   "outputs": [
    {
     "data": {
      "text/plain": [
       "14"
      ]
     },
     "execution_count": 12,
     "metadata": {},
     "output_type": "execute_result"
    }
   ],
   "source": [
    "def summator(a):\n",
    "    return sum(a)\n",
    "\n",
    "logger(summator)([5,2,7])"
   ]
  },
  {
   "cell_type": "markdown",
   "metadata": {},
   "source": [
    "Функцию, играющую роль обертки, реализуют таким образом, чтобы она могла принимать любые параметры"
   ]
  },
  {
   "cell_type": "code",
   "execution_count": 13,
   "metadata": {},
   "outputs": [],
   "source": [
    "def logger(func):\n",
    "    def wrapper(*args, **kvargs):\n",
    "        r = func(*args, **kvargs)\n",
    "        with open('decorator.log', 'a') as f_output:\n",
    "            f_output.write('func = \"{}\"; result = {}\\n'.format(func.__name__,r))\n",
    "        return r\n",
    "    return wrapper\n",
    "\n",
    "@logger\n",
    "def summator(a):\n",
    "    return sum(a)\n",
    "\n",
    "@logger\n",
    "def mod_taker(a, mod):\n",
    "    return list(map(lambda x: x % mod, a))"
   ]
  },
  {
   "cell_type": "code",
   "execution_count": 14,
   "metadata": {},
   "outputs": [
    {
     "data": {
      "text/plain": [
       "10"
      ]
     },
     "execution_count": 14,
     "metadata": {},
     "output_type": "execute_result"
    }
   ],
   "source": [
    "summator([1, 2, 3, 4])"
   ]
  },
  {
   "cell_type": "code",
   "execution_count": 15,
   "metadata": {},
   "outputs": [
    {
     "data": {
      "text/plain": [
       "[1, 2, 0, 1]"
      ]
     },
     "execution_count": 15,
     "metadata": {},
     "output_type": "execute_result"
    }
   ],
   "source": [
    "mod_taker([1, 2, 3, 4], 3)"
   ]
  },
  {
   "cell_type": "markdown",
   "metadata": {},
   "source": [
    "#### Кеширование результатов вызова функции\n",
    "\n",
    "Одна из важных задач, изящно решаемая с помощью  декоратора $–$ [мемоизация](https://ru.wikipedia.org/wiki/Мемоизация) или *кэширование*. По сути, это способ использовать предыдущие результаты вычисления функции вместо того, чтобы многократно повторять один и тот же вычислительный процесс, см. например [здесь](https://habr.com/ru/post/335866/)."
   ]
  },
  {
   "cell_type": "code",
   "execution_count": 16,
   "metadata": {},
   "outputs": [],
   "source": [
    "def memo(f):\n",
    "    \"\"\"\n",
    "    Запомнить результаты исполнения функции f,\n",
    "    чьи аргументы args должны быть кешируемыми.\n",
    "    \"\"\"\n",
    "    cache = {}\n",
    "    def fmemo(*args):\n",
    "        if args not in cache:\n",
    "            cache[args] = f(*args)\n",
    "        return cache[args]\n",
    "    fmemo.cache = cache\n",
    "    return fmemo"
   ]
  },
  {
   "cell_type": "markdown",
   "metadata": {},
   "source": [
    "Иллюстрацию полезности мемоизации можно произвести на примере расчета чисел Фибоначчи."
   ]
  },
  {
   "cell_type": "code",
   "execution_count": 17,
   "metadata": {},
   "outputs": [
    {
     "name": "stdout",
     "output_type": "stream",
     "text": [
      "fib(40) = 102334155\n",
      "48.27471679999999\n"
     ]
    }
   ],
   "source": [
    "import time\n",
    "\n",
    "def fib(n):\n",
    "    if n < 2:\n",
    "        return n\n",
    "    return fib(n-2) + fib(n-1)\n",
    "\n",
    "# Какое число мы хотим посчитать\n",
    "x = 40\n",
    "\n",
    "t1 = time.perf_counter()\n",
    "print(f'fib({x}) = {fib(x)}')\n",
    "print(time.perf_counter() - t1)"
   ]
  },
  {
   "cell_type": "markdown",
   "metadata": {},
   "source": [
    "Теперь, проведем сравнение с кешируемыми вызовами"
   ]
  },
  {
   "cell_type": "code",
   "execution_count": 18,
   "metadata": {},
   "outputs": [
    {
     "name": "stdout",
     "output_type": "stream",
     "text": [
      "fib(40) = 102334155\n",
      "0.00044359999999699085\n"
     ]
    }
   ],
   "source": [
    "import time\n",
    "@memo\n",
    "def fib(n):\n",
    "    if n < 2:\n",
    "        return n\n",
    "    return fib(n-2) + fib(n-1)\n",
    "\n",
    "# Какое число мы хотим посчитать\n",
    "x = 40\n",
    "\n",
    "t1 = time.perf_counter()\n",
    "print(f'fib({x}) =', fib(x))\n",
    "print(time.perf_counter() - t1)"
   ]
  },
  {
   "cell_type": "markdown",
   "metadata": {},
   "source": [
    "Затрачиваемое время уменьшилось на порядки."
   ]
  },
  {
   "cell_type": "markdown",
   "metadata": {},
   "source": [
    "#### Пользовательский параметрический декоратор\n",
    "\n",
    "Пусть теперь необходимо иметь возможность изменить имя *log-файла*. Для этого будет удобно воспользоваться параметрическим декоратором"
   ]
  },
  {
   "cell_type": "code",
   "execution_count": 19,
   "metadata": {},
   "outputs": [
    {
     "data": {
      "text/plain": [
       "10"
      ]
     },
     "execution_count": 19,
     "metadata": {},
     "output_type": "execute_result"
    }
   ],
   "source": [
    "def logger(filename):\n",
    "    def decorator(func):\n",
    "        def wrapper(*args, **kvargs):\n",
    "            r = func(*args, **kvargs)\n",
    "            with open(filename, 'a') as f_output:\n",
    "                f_output.write('func = \"{}\"; result = {}\\n'.format(func.__name__,r))\n",
    "            return r\n",
    "        return wrapper\n",
    "    return decorator\n",
    "\n",
    "@logger('decorator2.log')\n",
    "def summator(a):\n",
    "    return sum(a)\n",
    "\n",
    "summator([1, 2, 3, 4])"
   ]
  },
  {
   "cell_type": "markdown",
   "metadata": {},
   "source": [
    "#### Использование нескольких пользовательских декораторов"
   ]
  },
  {
   "cell_type": "code",
   "execution_count": 20,
   "metadata": {},
   "outputs": [],
   "source": [
    "# Декоратор 1\n",
    "def benchmark(func):\n",
    "    \"\"\"\n",
    "    Декоратор, выводящий время, которое заняло\n",
    "    выполнение декорируемой функции.\n",
    "    \"\"\"\n",
    "    import time\n",
    "    def wrapper(*args, **kwargs):\n",
    "        t = time.perf_counter() # Засекли время начала выполнения\n",
    "        res = func(*args, **kwargs) # Запустили\n",
    "        print(func.__name__, time.perf_counter() - t) # Засекли время окончания исполнения и вывели время конца- время начала\n",
    "        return res\n",
    "    return wrapper\n",
    "\n",
    "# Декоратор 2\n",
    "def logging(func):\n",
    "    \"\"\"\n",
    "    Декоратор, который выводит вызовы функции.\n",
    "    \"\"\"\n",
    "    def wrapper(*args, **kwargs):\n",
    "        res = func(*args, **kwargs)\n",
    "        print(func.__name__, args, kwargs)\n",
    "        return res\n",
    "    return wrapper\n",
    "\n",
    "# Декоратор 3\n",
    "def counter(func):\n",
    "    \"\"\"\n",
    "    Декоратор, считающий и выводящий количество вызовов\n",
    "    декорируемой функции.\n",
    "    \"\"\"\n",
    "    def wrapper(*args, **kwargs):\n",
    "        wrapper.count += 1\n",
    "        res = func(*args, **kwargs)\n",
    "        print (\"{0} была вызвана: {1}x\".format(func.__name__, wrapper.count))\n",
    "        return res\n",
    "    wrapper.count = 0\n",
    "    return wrapper"
   ]
  },
  {
   "cell_type": "markdown",
   "metadata": {},
   "source": [
    "Данные декораторы можно запустить для любой функции.\n",
    "\n",
    "Например, для функции, которая считает количество вхождений некоторого слова в текст романа Достоевского \"Идиот\"."
   ]
  },
  {
   "cell_type": "code",
   "execution_count": 21,
   "metadata": {},
   "outputs": [
    {
     "name": "stdout",
     "output_type": "stream",
     "text": [
      "get_random_idiot_word_count была вызвана: 1x\n",
      "wrapper ('the',) {}\n",
      "wrapper 1.7051245999999907\n"
     ]
    },
    {
     "data": {
      "text/plain": [
       "15904"
      ]
     },
     "execution_count": 21,
     "metadata": {},
     "output_type": "execute_result"
    }
   ],
   "source": [
    "import requests\n",
    "import re\n",
    "from random import randint\n",
    "@benchmark\n",
    "@logging\n",
    "@counter\n",
    "def get_random_idiot_word_count(word):\n",
    "    the_idiot_url = 'https://www.gutenberg.org/files/2638/2638-0.txt'\n",
    "    # Отправляем запрос в библиотеку Gutenberg и забираем текст\n",
    "    raw = requests.get(the_idiot_url).text\n",
    "    #Заменим в тексте все небуквенные символы на пробелы\n",
    "    processed_book = re.sub('[\\W]+' , ' ', raw).lower()\n",
    "    return len(re.findall(word.lower(),processed_book))\n",
    "\n",
    "get_random_idiot_word_count('the')"
   ]
  },
  {
   "cell_type": "markdown",
   "metadata": {},
   "source": [
    "## Итерируемые объекты\n",
    "\n",
    "**Определение.** Итерация $-$ это общий термин, который описывает процедуру взятия элементов чего-то по очереди.\n",
    "\n",
    "В более общем смысле, это последовательность инструкций, которая повторяется определенное количество раз или до выполнения указанного условия.\n",
    "\n",
    "**Определение.** Итерируемый объект (`iterable`) $-$ это объект, который способен возвращать элементы по одному (не обязательно по порядку). Кроме того, это объект, из которого можно получить *итератор*.\n",
    "\n",
    "Примеры итерируемых объектов:\n",
    "\n",
    "- все последовательности: список, строка, кортеж;\n",
    "- словари и множества;\n",
    "- файлы.\n",
    "\n",
    "**Определение.** Итератор (`iterator`) $-$ это объект, который возвращает свои элементы по одному за раз.\n",
    "\n",
    "С точки зрения Python $-$ это любой объект, у которого есть метод `__next__`. Этот метод возвращает следующий элемент, если он есть, или возвращает исключение *StopIteration*, когда элементы закончились.\n",
    "\n",
    "Кроме того, итератор запоминает, на каком объекте он остановился в последнюю итерацию."
   ]
  },
  {
   "cell_type": "markdown",
   "metadata": {},
   "source": [
    "Функционирование цикла **for** осуществляется благодаря механизму итератора"
   ]
  },
  {
   "cell_type": "code",
   "execution_count": null,
   "metadata": {},
   "outputs": [],
   "source": [
    "for объект in iterable:\n",
    "    тело цикла"
   ]
  },
  {
   "cell_type": "markdown",
   "metadata": {},
   "source": [
    "При выполнении оператора цикла **for**:\n",
    "\n",
    "- интерпретатор сначала вызывает функцию `iter()` которая возвращает итератор;\n",
    "\n",
    "- далее, до тех пор пока не возникнет исключение *StopIteration*, вызывается функция `next()`, возвращающая следующий элемент итератора;\n",
    "\n",
    "- после генерации исключения *StopIteration*, цикл **for** завершает работу. Пока представим себе исключения, как объект специального типа, который генерируется в момент ошибки или какого-то терминального события. Например, они появляются, когда мы пытаемся делить на ноль или когда что-то напутали с типами."
   ]
  },
  {
   "cell_type": "markdown",
   "metadata": {},
   "source": [
    "### Пример\n",
    "\n",
    "Выполним перебор элементов списка при помощи функции `next()`."
   ]
  },
  {
   "cell_type": "code",
   "execution_count": 22,
   "metadata": {},
   "outputs": [
    {
     "name": "stdout",
     "output_type": "stream",
     "text": [
      "foo\n",
      "bar\n",
      "baz\n"
     ]
    },
    {
     "ename": "StopIteration",
     "evalue": "",
     "output_type": "error",
     "traceback": [
      "\u001b[1;31m---------------------------------------------------------------------------\u001b[0m",
      "\u001b[1;31mStopIteration\u001b[0m                             Traceback (most recent call last)",
      "\u001b[1;32m<ipython-input-22-f2e5f0793c1b>\u001b[0m in \u001b[0;36m<module>\u001b[1;34m\u001b[0m\n\u001b[0;32m      5\u001b[0m \u001b[0mprint\u001b[0m\u001b[1;33m(\u001b[0m\u001b[0mnext\u001b[0m\u001b[1;33m(\u001b[0m\u001b[0ma_iter\u001b[0m\u001b[1;33m)\u001b[0m\u001b[1;33m)\u001b[0m\u001b[1;33m\u001b[0m\u001b[1;33m\u001b[0m\u001b[0m\n\u001b[0;32m      6\u001b[0m \u001b[0mprint\u001b[0m\u001b[1;33m(\u001b[0m\u001b[0mnext\u001b[0m\u001b[1;33m(\u001b[0m\u001b[0ma_iter\u001b[0m\u001b[1;33m)\u001b[0m\u001b[1;33m)\u001b[0m\u001b[1;33m\u001b[0m\u001b[1;33m\u001b[0m\u001b[0m\n\u001b[1;32m----> 7\u001b[1;33m \u001b[0mprint\u001b[0m\u001b[1;33m(\u001b[0m\u001b[0mnext\u001b[0m\u001b[1;33m(\u001b[0m\u001b[0ma_iter\u001b[0m\u001b[1;33m)\u001b[0m\u001b[1;33m)\u001b[0m\u001b[1;33m\u001b[0m\u001b[1;33m\u001b[0m\u001b[0m\n\u001b[0m",
      "\u001b[1;31mStopIteration\u001b[0m: "
     ]
    }
   ],
   "source": [
    "a = ['foo', 'bar', 'baz']\n",
    "\n",
    "a_iter = iter(a)\n",
    "print(next(a_iter))\n",
    "print(next(a_iter))\n",
    "print(next(a_iter))\n",
    "print(next(a_iter))"
   ]
  },
  {
   "cell_type": "markdown",
   "metadata": {},
   "source": [
    "Иллюстрацию данного перебора можно представить в виде схемы:"
   ]
  },
  {
   "cell_type": "markdown",
   "metadata": {},
   "source": [
    "<center>\n",
    "    <img src=\"img/iterable_object.png\">\n",
    "</center>"
   ]
  },
  {
   "cell_type": "markdown",
   "metadata": {},
   "source": [
    "Теперь осуществим перебор элементов итерируемого объекта-множества при помощи функции `next()`."
   ]
  },
  {
   "cell_type": "code",
   "execution_count": 23,
   "metadata": {},
   "outputs": [
    {
     "name": "stdout",
     "output_type": "stream",
     "text": [
      "1\n",
      "2\n",
      "3\n"
     ]
    }
   ],
   "source": [
    "s = {1,2,3,4,5}\n",
    "s_iter = iter(s)\n",
    "print(next(s_iter))\n",
    "print(next(s_iter))\n",
    "print(next(s_iter))"
   ]
  },
  {
   "cell_type": "code",
   "execution_count": 24,
   "metadata": {},
   "outputs": [
    {
     "name": "stdout",
     "output_type": "stream",
     "text": [
      "4\n",
      "5\n"
     ]
    },
    {
     "ename": "StopIteration",
     "evalue": "",
     "output_type": "error",
     "traceback": [
      "\u001b[1;31m---------------------------------------------------------------------------\u001b[0m",
      "\u001b[1;31mStopIteration\u001b[0m                             Traceback (most recent call last)",
      "\u001b[1;32m<ipython-input-24-739a12fceabf>\u001b[0m in \u001b[0;36m<module>\u001b[1;34m\u001b[0m\n\u001b[0;32m      1\u001b[0m \u001b[0mprint\u001b[0m\u001b[1;33m(\u001b[0m\u001b[0mnext\u001b[0m\u001b[1;33m(\u001b[0m\u001b[0ms_iter\u001b[0m\u001b[1;33m)\u001b[0m\u001b[1;33m)\u001b[0m\u001b[1;33m\u001b[0m\u001b[1;33m\u001b[0m\u001b[0m\n\u001b[0;32m      2\u001b[0m \u001b[0mprint\u001b[0m\u001b[1;33m(\u001b[0m\u001b[0mnext\u001b[0m\u001b[1;33m(\u001b[0m\u001b[0ms_iter\u001b[0m\u001b[1;33m)\u001b[0m\u001b[1;33m)\u001b[0m\u001b[1;33m\u001b[0m\u001b[1;33m\u001b[0m\u001b[0m\n\u001b[1;32m----> 3\u001b[1;33m \u001b[0mprint\u001b[0m\u001b[1;33m(\u001b[0m\u001b[0mnext\u001b[0m\u001b[1;33m(\u001b[0m\u001b[0ms_iter\u001b[0m\u001b[1;33m)\u001b[0m\u001b[1;33m)\u001b[0m\u001b[1;33m\u001b[0m\u001b[1;33m\u001b[0m\u001b[0m\n\u001b[0m",
      "\u001b[1;31mStopIteration\u001b[0m: "
     ]
    }
   ],
   "source": [
    "print(next(s_iter))\n",
    "print(next(s_iter))\n",
    "print(next(s_iter))"
   ]
  },
  {
   "cell_type": "markdown",
   "metadata": {},
   "source": [
    "#### Функция `enumerate()`"
   ]
  },
  {
   "cell_type": "markdown",
   "metadata": {},
   "source": [
    "К таким, итерируемым объектам как множествам нельзя обратиться по индексу, но индексация необходима, то к любому итерируемому объекту можно применить функцию `enumerate()`.\n",
    "\n",
    "Функция `enumerate()`, как следует из названия, выполняет нумерацию коллекции и генерирует последовательность кортежей вида (*индекс*, *элемент*)."
   ]
  },
  {
   "cell_type": "code",
   "execution_count": 25,
   "metadata": {
    "scrolled": false
   },
   "outputs": [
    {
     "name": "stdout",
     "output_type": "stream",
     "text": [
      "0 1\n",
      "1 2\n",
      "2 3\n",
      "3 4\n",
      "4 5\n",
      "5 6\n"
     ]
    }
   ],
   "source": [
    "set_of_numbers = {1,2,3,4,5,6}\n",
    "for ind, val in enumerate(set_of_numbers):\n",
    "    print(ind,val)"
   ]
  },
  {
   "cell_type": "markdown",
   "metadata": {},
   "source": [
    "### Особенности\n",
    "\n",
    "- Любой объект, передаваемый функции `iter()` без исключения *TypeError* $-$ итерируемый объект;\n",
    "\n",
    "- Любой объект, передаваемый функции `next()` без исключения *TypeError* $—$ итератор;\n",
    "\n",
    "- Любой объект, передаваемый функции `iter()` и возвращающий сам себя $-$ итератор."
   ]
  },
  {
   "cell_type": "markdown",
   "metadata": {},
   "source": [
    "### Преимущества использования итераторов\n",
    "\n",
    "Итераторы работают *лениво* (`en. lazy`), это значит, что они не выполняют какой-либо работы, до тех пор, пока не требуется. Это важное свойство, потому что загрузка больших объемов данных в память компьютера отрицательно скажется на производительности, а *ленивый* итератор позволяет читать данные по частям. Так, например, можно посчитать количество строк в текстовом файле на несколько гигабайт.\n",
    "\n",
    "Таким образом, оптимизируется потребление ресурсов *ОЗУ* и `CPU`."
   ]
  },
  {
   "cell_type": "markdown",
   "metadata": {},
   "source": [
    "## Включения для списков, множеств и словарей"
   ]
  },
  {
   "cell_type": "markdown",
   "metadata": {},
   "source": [
    "### Списковые включения"
   ]
  },
  {
   "cell_type": "markdown",
   "metadata": {},
   "source": [
    "Данная языковая конструкция (*list comprehensions*) считается \"визитной карточкой\" языка `Python`. Это возможность создания списка, без применения циклических конструкций."
   ]
  },
  {
   "cell_type": "markdown",
   "metadata": {},
   "source": [
    "#### Пример"
   ]
  },
  {
   "cell_type": "markdown",
   "metadata": {},
   "source": [
    "Генерация списка с числами $0$, $1$, $\\dots$, $19$."
   ]
  },
  {
   "cell_type": "code",
   "execution_count": 26,
   "metadata": {},
   "outputs": [
    {
     "name": "stdout",
     "output_type": "stream",
     "text": [
      "<class 'list'>\n",
      "[0, 1, 2, 3, 4, 5, 6, 7, 8, 9, 10, 11, 12, 13, 14, 15, 16, 17, 18, 19]\n"
     ]
    }
   ],
   "source": [
    "a = [i for i in range(20)]\n",
    "print(type(a))\n",
    "print(a)"
   ]
  },
  {
   "cell_type": "code",
   "execution_count": null,
   "metadata": {},
   "outputs": [],
   "source": [
    "список = [выражение for объект in iterable]"
   ]
  },
  {
   "cell_type": "markdown",
   "metadata": {},
   "source": [
    "- выражение, вызов метода или любое другое допустимое выражение, которое возвращает значение;\n",
    "- объект из итерируемого объекта (iterable);\n",
    "- *iterable* произвольный итерируемый объект."
   ]
  },
  {
   "cell_type": "markdown",
   "metadata": {},
   "source": [
    "#### Списковое включение с ветвлением"
   ]
  },
  {
   "cell_type": "markdown",
   "metadata": {},
   "source": [
    "В списковое включение можно добавить условие. Структура подобной языковой конструкции имеет вид:"
   ]
  },
  {
   "cell_type": "code",
   "execution_count": null,
   "metadata": {},
   "outputs": [],
   "source": [
    "список = [выражение for объект in iterable (if условие)]"
   ]
  },
  {
   "cell_type": "markdown",
   "metadata": {},
   "source": [
    "##### Пример"
   ]
  },
  {
   "cell_type": "markdown",
   "metadata": {},
   "source": [
    "Генерация нового списка, составленного из четных элементов исходного списка."
   ]
  },
  {
   "cell_type": "code",
   "execution_count": 29,
   "metadata": {},
   "outputs": [
    {
     "data": {
      "text/plain": [
       "[2, 4, 8, 854, 76]"
      ]
     },
     "execution_count": 29,
     "metadata": {},
     "output_type": "execute_result"
    }
   ],
   "source": [
    "lst = [1,2,3,4,5,45,67,8,765,854,76]\n",
    "x = [i for i in lst if i%2 == 0]\n",
    "x"
   ]
  },
  {
   "cell_type": "markdown",
   "metadata": {},
   "source": [
    "В структуре *спискового включения* указано `iterable`, поэтому можно попробовать построить эту конструкцию, например, для строк. Построим список из всех согласных букв некоторого текста"
   ]
  },
  {
   "cell_type": "code",
   "execution_count": 30,
   "metadata": {
    "scrolled": false
   },
   "outputs": [
    {
     "data": {
      "text/plain": [
       "['n',\n",
       " 'h',\n",
       " 'l',\n",
       " 'n',\n",
       " 't',\n",
       " 'h',\n",
       " 'g',\n",
       " 'r',\n",
       " 'n',\n",
       " 'd',\n",
       " 't',\n",
       " 'h',\n",
       " 'r',\n",
       " 'l',\n",
       " 'v',\n",
       " 'd',\n",
       " 'h',\n",
       " 'b',\n",
       " 'b',\n",
       " 't',\n",
       " 'N',\n",
       " 't',\n",
       " 'n',\n",
       " 's',\n",
       " 't',\n",
       " 'd',\n",
       " 'r',\n",
       " 't',\n",
       " 'w',\n",
       " 't',\n",
       " 'h',\n",
       " 'l',\n",
       " 'f',\n",
       " 'l',\n",
       " 'l',\n",
       " 'd',\n",
       " 'w',\n",
       " 't',\n",
       " 'h',\n",
       " 't',\n",
       " 'h',\n",
       " 'n',\n",
       " 'd',\n",
       " 's',\n",
       " 'f',\n",
       " 'w',\n",
       " 'r',\n",
       " 'm',\n",
       " 's',\n",
       " 'n',\n",
       " 'd',\n",
       " 'n',\n",
       " 'z',\n",
       " 's',\n",
       " 'm',\n",
       " 'l',\n",
       " 'l',\n",
       " 'n',\n",
       " 'r',\n",
       " 't',\n",
       " 'd',\n",
       " 'r',\n",
       " 'b',\n",
       " 'r',\n",
       " 's',\n",
       " 'n',\n",
       " 'd',\n",
       " 'h',\n",
       " 'l',\n",
       " 'w',\n",
       " 't',\n",
       " 'h',\n",
       " 'n',\n",
       " 't',\n",
       " 'h',\n",
       " 'n',\n",
       " 'g',\n",
       " 'n',\n",
       " 't',\n",
       " 't',\n",
       " 's',\n",
       " 't',\n",
       " 'd',\n",
       " 'w',\n",
       " 'n',\n",
       " 'n',\n",
       " 'r',\n",
       " 't',\n",
       " 't',\n",
       " 't',\n",
       " 'w',\n",
       " 's',\n",
       " 'h',\n",
       " 'b',\n",
       " 'b',\n",
       " 't',\n",
       " 'h',\n",
       " 'l',\n",
       " 'n',\n",
       " 'd',\n",
       " 't',\n",
       " 'h',\n",
       " 't',\n",
       " 'm',\n",
       " 'n',\n",
       " 's',\n",
       " 'c',\n",
       " 'm',\n",
       " 'f',\n",
       " 'r',\n",
       " 't']"
      ]
     },
     "execution_count": 30,
     "metadata": {},
     "output_type": "execute_result"
    }
   ],
   "source": [
    "# Текст\n",
    "sentence = '''\n",
    "            In a hole in the ground there lived a hobbit.\n",
    "            Not a nasty, dirty, wet hole,\n",
    "                filled with the ends of worms and an oozy smell,\n",
    "                nor yet a dry, bare,\n",
    "                sandy hole with nothing in it to sit down on or to eat:\n",
    "                it was a hobbit-hole, and that means comfort.\n",
    "            '''\n",
    "# Гласные английского языка\n",
    "vowels = 'aeiouy'\n",
    "# Различные символы\n",
    "marks = ' .,:;!?-\\n'\n",
    "# Согласные из текста\n",
    "consonants = [char\n",
    "              for char in sentence\n",
    "                  if char.lower() not in vowels and char not in marks]\n",
    "consonants"
   ]
  },
  {
   "cell_type": "markdown",
   "metadata": {},
   "source": [
    "Условие можно поместить не только в конец оператора для простой фильтрации, но и построить выражение на основе условного выражения, чтобы изменить полученное значение элемента. Общая структура подобной конструкции имеет форму:"
   ]
  },
  {
   "cell_type": "code",
   "execution_count": null,
   "metadata": {},
   "outputs": [],
   "source": [
    "список = [выражение (if условие) for объект in iterable]"
   ]
  },
  {
   "cell_type": "markdown",
   "metadata": {},
   "source": [
    "С помощью этого шаблона можно, например, использовать условную логику для выбора из нескольких возможных вариантов вывода. Допустим, у вас есть список цен, можно заменить отрицательные цены (это могут быть какие-то ошибки логирования) на $0$ и оставить положительные значения без изменений."
   ]
  },
  {
   "cell_type": "code",
   "execution_count": 31,
   "metadata": {},
   "outputs": [
    {
     "data": {
      "text/plain": [
       "[1.25, 0, 10.22, 3.78, 0, 1.16]"
      ]
     },
     "execution_count": 31,
     "metadata": {},
     "output_type": "execute_result"
    }
   ],
   "source": [
    "original_prices = [1.25, -9.45, 10.22, 3.78, -5.92, 1.16]\n",
    "prices = [i if i > 0 else 0 for i in original_prices if abs(i)>1]\n",
    "prices"
   ]
  },
  {
   "cell_type": "markdown",
   "metadata": {},
   "source": [
    "Здесь, выражение *i* содержит условный оператор, **if** i > 0 **else** 0. Это означает, что интерпретатор будет выводить значение *i*, если число положительное, или менять *i* на 0, если число отрицательное."
   ]
  },
  {
   "cell_type": "markdown",
   "metadata": {},
   "source": [
    "### Включения для множеств"
   ]
  },
  {
   "cell_type": "markdown",
   "metadata": {},
   "source": [
    "Включения в `Python` являются универсальным инструментоми и позволяют создавать множественные и словарные представления (*set and dictionary comprehensions*).\n",
    "\n",
    "Множественные включения отличаются от списковых тем, что результирующее множество не содержит дубликатов. С точки зрения синтаксиса, множественное включение, использует фигурные скобки вместо квадратных."
   ]
  },
  {
   "cell_type": "markdown",
   "metadata": {},
   "source": [
    "#### Пример\n",
    "\n",
    "Получение всех уникальных гласные, которые встретились в тексте."
   ]
  },
  {
   "cell_type": "code",
   "execution_count": 32,
   "metadata": {},
   "outputs": [
    {
     "data": {
      "text/plain": [
       "{'a', 'e', 'i', 'o', 'u', 'y'}"
      ]
     },
     "execution_count": 32,
     "metadata": {},
     "output_type": "execute_result"
    }
   ],
   "source": [
    "text = \"\"\"\n",
    "            When Bilbo opened his eyes, he wondered if he had;\n",
    "                for it was just as dark as with them shut.\n",
    "            No one was anywhere near him.\n",
    "            Just imagine his fright!\n",
    "            He could hear nothing, see nothing,\n",
    "                and he could feel nothing except the stone of the floor.\n",
    "    \"\"\"\n",
    "unique_vowels = {i for i in text if i.lower() in 'aeiouy'}\n",
    "unique_vowels"
   ]
  },
  {
   "cell_type": "markdown",
   "metadata": {},
   "source": [
    "### Включение для словарей"
   ]
  },
  {
   "cell_type": "markdown",
   "metadata": {},
   "source": [
    "Включение для словарей, по сути, работает так же, но с дополнительным требованием определения ключа. Ключ от значения отделяются двоеточием."
   ]
  },
  {
   "cell_type": "markdown",
   "metadata": {},
   "source": [
    "#### Пример"
   ]
  },
  {
   "cell_type": "markdown",
   "metadata": {},
   "source": [
    "Получение пар число: квадрат числа, для чисел $0$, $1$, $\\dots$, $9$."
   ]
  },
  {
   "cell_type": "code",
   "execution_count": 33,
   "metadata": {},
   "outputs": [
    {
     "data": {
      "text/plain": [
       "{0: 0, 1: 1, 2: 4, 3: 9, 4: 16, 5: 25, 6: 36, 7: 49, 8: 64, 9: 81}"
      ]
     },
     "execution_count": 33,
     "metadata": {},
     "output_type": "execute_result"
    }
   ],
   "source": [
    "squares = {i: i * i for i in range(10)}\n",
    "squares"
   ]
  },
  {
   "cell_type": "markdown",
   "metadata": {},
   "source": [
    "## Генераторы списков"
   ]
  },
  {
   "cell_type": "markdown",
   "metadata": {},
   "source": [
    "Генератор списков представляет собой схожую со списковым включением языковую конструкцию, но только возвращает не сам список, а объект `generator`."
   ]
  },
  {
   "cell_type": "code",
   "execution_count": 34,
   "metadata": {},
   "outputs": [
    {
     "name": "stdout",
     "output_type": "stream",
     "text": [
      "<class 'generator'>\n",
      "0\n",
      "1\n",
      "4\n",
      "9\n",
      "16\n",
      "25\n",
      "36\n",
      "49\n",
      "64\n",
      "81\n"
     ]
    },
    {
     "ename": "StopIteration",
     "evalue": "",
     "output_type": "error",
     "traceback": [
      "\u001b[1;31m---------------------------------------------------------------------------\u001b[0m",
      "\u001b[1;31mStopIteration\u001b[0m                             Traceback (most recent call last)",
      "\u001b[1;32m<ipython-input-34-f3f5096b1c98>\u001b[0m in \u001b[0;36m<module>\u001b[1;34m\u001b[0m\n\u001b[0;32m      3\u001b[0m \u001b[1;33m\u001b[0m\u001b[0m\n\u001b[0;32m      4\u001b[0m \u001b[1;32mwhile\u001b[0m \u001b[1;32mTrue\u001b[0m\u001b[1;33m:\u001b[0m\u001b[1;33m\u001b[0m\u001b[1;33m\u001b[0m\u001b[0m\n\u001b[1;32m----> 5\u001b[1;33m     \u001b[0mprint\u001b[0m\u001b[1;33m(\u001b[0m\u001b[0mnext\u001b[0m\u001b[1;33m(\u001b[0m\u001b[0mgen\u001b[0m\u001b[1;33m)\u001b[0m\u001b[1;33m)\u001b[0m\u001b[1;33m\u001b[0m\u001b[1;33m\u001b[0m\u001b[0m\n\u001b[0m",
      "\u001b[1;31mStopIteration\u001b[0m: "
     ]
    }
   ],
   "source": [
    "gen = (i * i for i in range(10))\n",
    "print(type(gen))\n",
    "\n",
    "while True:\n",
    "    print(next(gen))"
   ]
  },
  {
   "cell_type": "markdown",
   "metadata": {},
   "source": [
    "Для объекта `generator` можно вызвать функцию `next()` и при переборе всех элементов генерируется исключение *StopIteration*. Получается, что объект `generator`, представляет собой итератор. \n",
    "\n",
    "**Определение.** Объект `generator` $-$ это итератор, который можно получить с помощью генераторного выражения или с помощью функции-генератора.\n",
    "\n",
    "Объект `generator` поддерживает *ленивые вычисления*, выигрыш от применения которых демонстрирует следующий пример.  "
   ]
  },
  {
   "cell_type": "markdown",
   "metadata": {},
   "source": [
    "### Пример"
   ]
  },
  {
   "cell_type": "markdown",
   "metadata": {},
   "source": [
    " Вычисление суммы квадратов первого миллиона чисел"
   ]
  },
  {
   "cell_type": "code",
   "execution_count": 37,
   "metadata": {},
   "outputs": [
    {
     "name": "stdout",
     "output_type": "stream",
     "text": [
      "0.1943616999999449\n"
     ]
    }
   ],
   "source": [
    "import time\n",
    "\n",
    "t = time.perf_counter()\n",
    "sum([i * i for i in range(1000000)])\n",
    "print(time.perf_counter() - t)"
   ]
  },
  {
   "cell_type": "code",
   "execution_count": 38,
   "metadata": {},
   "outputs": [
    {
     "name": "stdout",
     "output_type": "stream",
     "text": [
      "0.1756471999999576\n"
     ]
    }
   ],
   "source": [
    "import time\n",
    "\n",
    "t = time.perf_counter()\n",
    "sum((i * i for i in range(1000000)))\n",
    "print(time.perf_counter() - t)"
   ]
  },
  {
   "cell_type": "markdown",
   "metadata": {},
   "source": [
    "### Функции генераторы\n",
    "\n",
    "Альтернативный способ создания генераторов $-$ через реализацию функций, в которых вместо оператора **return** (возвратить) используется **yield** (выдать)."
   ]
  },
  {
   "cell_type": "markdown",
   "metadata": {},
   "source": [
    "#### Пример"
   ]
  },
  {
   "cell_type": "markdown",
   "metadata": {},
   "source": [
    "Рассмотрим бесполезный с практической точки зрения, но прозрачный пример. Пусть требуется построить объект `generator`, который возвращает последовательность из 3-х элементов $3$, $30$ и $100$."
   ]
  },
  {
   "cell_type": "code",
   "execution_count": 39,
   "metadata": {},
   "outputs": [],
   "source": [
    "def createGenerator() :\n",
    "    r = 3\n",
    "    yield r\n",
    "    r += r ** 3\n",
    "    yield r\n",
    "    yield 100"
   ]
  },
  {
   "cell_type": "code",
   "execution_count": 40,
   "metadata": {},
   "outputs": [
    {
     "data": {
      "text/plain": [
       "<generator object createGenerator at 0x000002336E827BA0>"
      ]
     },
     "execution_count": 40,
     "metadata": {},
     "output_type": "execute_result"
    }
   ],
   "source": [
    "createGenerator()"
   ]
  },
  {
   "cell_type": "code",
   "execution_count": 41,
   "metadata": {},
   "outputs": [
    {
     "name": "stdout",
     "output_type": "stream",
     "text": [
      "<class 'generator'>\n",
      "3\n",
      "30\n",
      "100\n"
     ]
    }
   ],
   "source": [
    "mygenerator = createGenerator()\n",
    "print(type(mygenerator))\n",
    "for i in mygenerator:\n",
    "     print(i)"
   ]
  },
  {
   "cell_type": "markdown",
   "metadata": {},
   "source": [
    "#### Принцип работы `yield`\n",
    "\n",
    "Когда вызывается функция генератор с операторами `yield`, код внутри тела функции не выполняется, вместо этого создается объект `generator`.\n",
    "\n",
    "Сама функция будет вызываться при каждом применении функции `next()` к объекту `generator`. Причем, код будет выполняться по частям, до появления оператора `yield`. После выполнения оператора, сохраняется весь стек функции и управление возвращается к вызывающему коду. И так до выполнения последнего оператора `yield`."
   ]
  },
  {
   "cell_type": "markdown",
   "metadata": {},
   "source": [
    "Очевидно, что содержательные примеры создания генераторов заключаются в использовании циклов."
   ]
  },
  {
   "cell_type": "markdown",
   "metadata": {},
   "source": [
    "#### Пример"
   ]
  },
  {
   "cell_type": "markdown",
   "metadata": {},
   "source": [
    "Генерация бесконечной последовательности."
   ]
  },
  {
   "cell_type": "code",
   "execution_count": 42,
   "metadata": {},
   "outputs": [],
   "source": [
    "def infinite_sequence():\n",
    "    num = 0\n",
    "    while True:\n",
    "        yield num\n",
    "        num += 1"
   ]
  },
  {
   "cell_type": "code",
   "execution_count": 43,
   "metadata": {},
   "outputs": [
    {
     "name": "stdout",
     "output_type": "stream",
     "text": [
      "0\n",
      "1\n",
      "2\n",
      "3\n"
     ]
    }
   ],
   "source": [
    "gen = infinite_sequence()\n",
    "\n",
    "print(next(gen))\n",
    "print(next(gen))\n",
    "print(next(gen))\n",
    "print(next(gen))"
   ]
  },
  {
   "cell_type": "markdown",
   "metadata": {},
   "source": [
    "#### Пример"
   ]
  },
  {
   "cell_type": "markdown",
   "metadata": {},
   "source": [
    "Генерация последовательности чисел Фибоначи."
   ]
  },
  {
   "cell_type": "code",
   "execution_count": 45,
   "metadata": {},
   "outputs": [],
   "source": [
    "def fib(n):\n",
    "    a, b = 0, 1\n",
    "    for _ in range(n):\n",
    "        yield a\n",
    "        a, b = b, a + b"
   ]
  },
  {
   "cell_type": "code",
   "execution_count": 46,
   "metadata": {},
   "outputs": [
    {
     "name": "stdout",
     "output_type": "stream",
     "text": [
      "0\n",
      "1\n",
      "1\n",
      "2\n",
      "3\n",
      "5\n",
      "8\n",
      "13\n",
      "21\n",
      "34\n"
     ]
    }
   ],
   "source": [
    "for v in fib(10):\n",
    "    print(v)"
   ]
  },
  {
   "cell_type": "markdown",
   "metadata": {},
   "source": [
    "В функции генераторе мы использовали языковую конструкцию: **for** \\_ **in** iterable. Это означает, что переменную из iterable использоваться не нужно $-$ просто нужно выполнить операцию столько раз, сколько элементов в последовательности."
   ]
  },
  {
   "cell_type": "markdown",
   "metadata": {},
   "source": [
    "Также этот символ может быть использован для того, чтобы получить последнее значение из интерпретатора:"
   ]
  },
  {
   "cell_type": "code",
   "execution_count": 47,
   "metadata": {},
   "outputs": [
    {
     "data": {
      "text/plain": [
       "10"
      ]
     },
     "execution_count": 47,
     "metadata": {},
     "output_type": "execute_result"
    }
   ],
   "source": [
    "5+5"
   ]
  },
  {
   "cell_type": "code",
   "execution_count": 48,
   "metadata": {},
   "outputs": [
    {
     "data": {
      "text/plain": [
       "10"
      ]
     },
     "execution_count": 48,
     "metadata": {},
     "output_type": "execute_result"
    }
   ],
   "source": [
    "# Ожидаемо это 10\n",
    "_"
   ]
  },
  {
   "cell_type": "code",
   "execution_count": 49,
   "metadata": {},
   "outputs": [
    {
     "data": {
      "text/plain": [
       "11"
      ]
     },
     "execution_count": 49,
     "metadata": {},
     "output_type": "execute_result"
    }
   ],
   "source": [
    "# с ним можно производить стандартные операции\n",
    "_ + 1"
   ]
  },
  {
   "cell_type": "code",
   "execution_count": 50,
   "metadata": {},
   "outputs": [
    {
     "data": {
      "text/plain": [
       "11"
      ]
     },
     "execution_count": 50,
     "metadata": {},
     "output_type": "execute_result"
    }
   ],
   "source": [
    "# А тут в _ уже перезаписалось 11\n",
    "_"
   ]
  },
  {
   "cell_type": "code",
   "execution_count": 51,
   "metadata": {},
   "outputs": [
    {
     "data": {
      "text/plain": [
       "11"
      ]
     },
     "execution_count": 51,
     "metadata": {},
     "output_type": "execute_result"
    }
   ],
   "source": [
    "# А еще можно присвоить это значение новой переменной!\n",
    "x = _\n",
    "x"
   ]
  }
 ],
 "metadata": {
  "kernelspec": {
   "display_name": "Python 3",
   "language": "python",
   "name": "python3"
  },
  "language_info": {
   "codemirror_mode": {
    "name": "ipython",
    "version": 3
   },
   "file_extension": ".py",
   "mimetype": "text/x-python",
   "name": "python",
   "nbconvert_exporter": "python",
   "pygments_lexer": "ipython3",
   "version": "3.8.3"
  }
 },
 "nbformat": 4,
 "nbformat_minor": 2
}
