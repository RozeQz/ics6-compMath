{
 "cells": [
  {
   "cell_type": "markdown",
   "metadata": {},
   "source": [
    "![logo](img/jupiter.jpg)"
   ]
  },
  {
   "cell_type": "markdown",
   "metadata": {},
   "source": [
    "# Jupyter notebook"
   ]
  },
  {
   "cell_type": "markdown",
   "metadata": {},
   "source": [
    "## Что такое `Jupyter`\n",
    "[Jupyter Notebook Users Manual](https://jupyter.brynmawr.edu/services/public/dblank/Jupyter%20Notebook%20Users%20Manual.ipynb)\n",
    "![](https://jupyter.org/assets/labpreview.png)"
   ]
  },
  {
   "cell_type": "markdown",
   "metadata": {},
   "source": [
    "`Jupyter` фактически стал стандартом в области обучения программированию. Записная книжка `Jupyter` представляет собой набор ячеек следующих форматов:\n",
    "1. code\n",
    "2. markdown\n",
    "3. raw\n",
    "\n",
    "Файл записной книжки &ndash; `JSON` + `metadata`. Для примера приведем несколько первых строк из текущей записной книжки.\n",
    "```json\n",
    "{\n",
    " \"cells\": [\n",
    "  {\n",
    "   \"cell_type\": \"markdown\",\n",
    "   \"metadata\": {},\n",
    "   \"source\": [\n",
    "    \"# Jupyter notebook\"\n",
    "   ]\n",
    "  },\n",
    "  {\n",
    "   \"cell_type\": \"markdown\",\n",
    "   \"metadata\": {},\n",
    "   \"source\": [\n",
    "    \"## Что такое `Jupyter`\\n\",\n",
    "    \"[Jupyter Notebook Users Manual](https://jupyter.brynmawr.edu/services/public/dblank/Jupyter%20Notebook%20Users%20Manual.ipynb)\\n\",\n",
    "    \"![](https://jupyter.org/assets/labpreview.png)\"\n",
    "   ]\n",
    "  },\n",
    "```\n",
    "> **Замечание**\n",
    ">\n",
    "> JSON (англ. JavaScript Object Notation) &ndash; текстовый формат обмена данными, основанный на JavaScript.\n",
    "> Как и многие другие текстовые форматы, JSON легко читается людьми. Формат JSON был разработан Дугласом Крокфордом.\n",
    ">\n",
    "> [Read more about JSON](https://www.json.org/json-en.html)"
   ]
  },
  {
   "cell_type": "markdown",
   "metadata": {},
   "source": [
    "## Ячейки\n",
    "\n",
    "### Ячейки `Markdown`\n",
    "\n",
    "Вся текстовая часть записной книжки содержится в ячейках `markdown`. `Jupyter` поддердивает богатые возможности по поддержке `markdown`. Например, приведем некоторые способы форматирования.\n",
    "\n",
    "`**This is bold text**`\n",
    "\n",
    "**This is bold text**\n",
    "\n",
    "`__This is bold text__`\n",
    "\n",
    "__This is bold text__\n",
    "\n",
    "`*This is italic text*`\n",
    "\n",
    "*This is italic text*\n",
    "\n",
    "`_This is italic text_`\n",
    "\n",
    "_This is italic text_\n",
    "\n",
    "`~~Strikethrough~~`\n",
    "\n",
    "~~Strikethrough~~\n",
    "\n",
    "`![logo](https://www.bmstu.ru/assets/images/logo.png)`\n",
    "\n",
    "![logo](https://www.bmstu.ru/assets/images/logo.png)\n",
    "\n",
    "`$$\\int_{-\\infty}^{+\\infty} e^{-x^2}\\,dx = \\sqrt{\\pi}$$`\n",
    "\n",
    "$$\n",
    "    \\int_{-\\infty}^{+\\infty} e^{-x^2}\\,dx = \\sqrt{\\pi}\n",
    "$$\n",
    "\n",
    "> **Замечание** \n",
    ">\n",
    "> `Markdown` &ndash; простой язык разметки с синтаксисом базового текстового форматирования.\n",
    ">\n",
    "> [Read more about markdown features in Jupyter](https://athena.brynmawr.edu/jupyter/hub/dblank/public/Jupyter%20Notebook%20Users%20Manual.ipynb)"
   ]
  },
  {
   "cell_type": "markdown",
   "metadata": {},
   "source": [
    "### Ячейки `Code`\n",
    "\n",
    "Ячейки `code` позволяют пользователям работать с серверной частью программирования в режиме `REPL`.\n",
    "\n",
    "> **Note**\n",
    ">\n",
    "> `REPL` (`read–eval–print loop`) простая интерактивная среда программирования, которая по введенному пользователем программному коду, выполняет его и возвращает результат пользователю.\n",
    "> Программа написанная в окружении `REPL` выполняется по частям.  \n",
    ">\n",
    "> [Read more about REPL](https://en.wikipedia.org/wiki/Read%E2%80%93eval%E2%80%93print_loop)\n",
    "\n",
    "Если ввести код в ячейку и нажать `Shift` + `Enter` (`Ctrl` + `Enter`), то он выполнится и будет возвращен результат."
   ]
  },
  {
   "cell_type": "code",
   "execution_count": null,
   "metadata": {},
   "outputs": [],
   "source": [
    "1+2+3"
   ]
  },
  {
   "cell_type": "markdown",
   "metadata": {},
   "source": [
    "При использовании символа `!` перед кодом, ячейка будет выполнена оболочкой."
   ]
  },
  {
   "cell_type": "code",
   "execution_count": null,
   "metadata": {},
   "outputs": [],
   "source": [
    "!python --version"
   ]
  },
  {
   "cell_type": "markdown",
   "metadata": {},
   "source": [
    "### Ячейки `Raw`"
   ]
  },
  {
   "cell_type": "raw",
   "metadata": {},
   "source": [
    "This is a raw cell"
   ]
  },
  {
   "cell_type": "markdown",
   "metadata": {},
   "source": [
    "`Jupyter` отображает `Raw` ячейки в необработанном виде. В файле записной книжки эти ячейки выглядят так\n",
    "```json\n",
    "{\n",
    "   \"cell_type\": \"raw\",\n",
    "   \"metadata\": {},\n",
    "   \"source\": [\n",
    "    \"This is a raw cell\"\n",
    "   ]\n",
    "}\n",
    "```"
   ]
  },
  {
   "cell_type": "markdown",
   "metadata": {},
   "source": [
    "## Магические команды\n",
    "\n",
    "`Jupyter` предоставляет набор команд, которые называют магическими. Эти команды не относятся к `Python` или к оболочке. Магическе команды вставляются в ячейки `Code` и начинаются с символа `%`. Чтобы получить полный список поддерживаемых магических команд, выполните следующую ячейку."
   ]
  },
  {
   "cell_type": "code",
   "execution_count": null,
   "metadata": {},
   "outputs": [],
   "source": [
    "%lsmagic"
   ]
  },
  {
   "cell_type": "markdown",
   "metadata": {},
   "source": [
    "Например, следующая команда изменяет рабочий каталог."
   ]
  },
  {
   "cell_type": "code",
   "execution_count": null,
   "metadata": {},
   "outputs": [],
   "source": [
    "%who_ls"
   ]
  },
  {
   "cell_type": "markdown",
   "metadata": {},
   "source": [
    "Данная команда запускает `Python` код несколько раз, чтобы исключить влияние других процессов на компьютере, например, таких как очистка диска и планирование ОС."
   ]
  },
  {
   "cell_type": "code",
   "execution_count": null,
   "metadata": {},
   "outputs": [],
   "source": [
    "%timeit 2**128"
   ]
  },
  {
   "cell_type": "markdown",
   "metadata": {},
   "source": [
    "Следующая функция осуществляет установку дополнительных пакетов `Python`. Она запускает менеджер пакетов `pip`."
   ]
  },
  {
   "cell_type": "code",
   "execution_count": null,
   "metadata": {},
   "outputs": [],
   "source": [
    "%pip install matplotlib"
   ]
  },
  {
   "cell_type": "markdown",
   "metadata": {},
   "source": [
    "> **Замечание**\n",
    ">\n",
    "> [Read more aboute magic commands](https://ipython.readthedocs.io/en/stable/interactive/magics.html)"
   ]
  }
 ],
 "metadata": {
  "kernelspec": {
   "display_name": "Python 3",
   "language": "python",
   "name": "python3"
  },
  "language_info": {
   "codemirror_mode": {
    "name": "ipython",
    "version": 3
   },
   "file_extension": ".py",
   "mimetype": "text/x-python",
   "name": "python",
   "nbconvert_exporter": "python",
   "pygments_lexer": "ipython3",
   "version": "3.8.3"
  }
 },
 "nbformat": 4,
 "nbformat_minor": 4
}
