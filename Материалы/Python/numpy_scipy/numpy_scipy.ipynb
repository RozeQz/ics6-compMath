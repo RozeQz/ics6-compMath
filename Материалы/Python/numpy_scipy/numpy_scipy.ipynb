{
 "cells": [
  {
   "cell_type": "markdown",
   "metadata": {},
   "source": [
    "<center>\n",
    "    <img src=\"img/1920px-NumPy_logo.svg.png\">\n",
    "</center>"
   ]
  },
  {
   "cell_type": "markdown",
   "metadata": {},
   "source": [
    "# Библиотека `NumPy`"
   ]
  },
  {
   "cell_type": "markdown",
   "metadata": {},
   "source": [
    "- Библиотека `NumPy`\n",
    "    * Введение\n",
    "    * Создание одномерных массивов `ndarray` и индексация по ним\n",
    "    * Создание многомерных массивов `ndarray` и индексация по ним\n",
    "    * Представление данных, хранящихся в массиве `ndarray`\n",
    "    * Операции над массивами\n",
    "    * Подпрограммы `NumPy` для работы с массивами\n",
    "- Библиотека `SciPy`\n",
    "    * Интегрирование\n",
    "    * Оптимизация\n",
    "    * Интерполяция\n",
    "    * Статистика"
   ]
  },
  {
   "cell_type": "markdown",
   "metadata": {},
   "source": [
    "`NumPy` $–$  библиотека с открытым исходным кодом для языка программирования `Python`. Предназначена для поддержки векторизованных вычислений. Написана на `C` и `Fortran`.\n",
    "\n",
    "`SciPy` $–$ библиотека для языка программирования `Python` с открытым исходным кодом, предназначенная для выполнения научных и инженерных расчётов. Написана на `C`, `C++` и `Fortran`."
   ]
  },
  {
   "cell_type": "markdown",
   "metadata": {},
   "source": [
    "## Библиотека `NumPy`"
   ]
  },
  {
   "cell_type": "markdown",
   "metadata": {},
   "source": [
    "### Введение"
   ]
  },
  {
   "cell_type": "markdown",
   "metadata": {},
   "source": [
    "Базовым классом пакета `numpy` является `ndarray` $-$ класс $n$-мерных массивов (сокращение от *n-dimensional array*), структура данных, которая позволяет хранить набор элементов одного типа: либо только целые числа, либо числа с плавающей точкой, либо строки, либо логические значения. Поскольку это массивы, то, в отличие от стандартного `Python` `list` в них нельзя вставлять или удалять элементы в произвольном месте.\n",
    "\n",
    "В `numpy` реализовано много операций над массивами в целом. Если задачу можно решить, произведя некоторую последовательность операций над массивами, то это будет столь же эффективно, как в `C` или `matlab`, в котором львиная доля времени тратится в библиотечных функциях, написанных на `C`."
   ]
  },
  {
   "cell_type": "code",
   "execution_count": null,
   "metadata": {},
   "outputs": [],
   "source": [
    "import numpy as np"
   ]
  },
  {
   "cell_type": "markdown",
   "metadata": {},
   "source": [
    "#### Зачем нужен пакет `NumPy`"
   ]
  },
  {
   "cell_type": "markdown",
   "metadata": {},
   "source": [
    "Рассмотрим список из $1000000$ элементов и сгенерируем из него список, состоящий из квадратов элементов исходного"
   ]
  },
  {
   "cell_type": "code",
   "execution_count": null,
   "metadata": {},
   "outputs": [],
   "source": [
    "a = list(range(1_000_000))"
   ]
  },
  {
   "cell_type": "code",
   "execution_count": null,
   "metadata": {},
   "outputs": [],
   "source": [
    "%%timeit\n",
    "\n",
    "[e * e for e in a]"
   ]
  },
  {
   "cell_type": "code",
   "execution_count": null,
   "metadata": {},
   "outputs": [],
   "source": [
    "a = np.arange(1_000_000)"
   ]
  },
  {
   "cell_type": "code",
   "execution_count": null,
   "metadata": {},
   "outputs": [],
   "source": [
    "%%timeit\n",
    "\n",
    "a * a"
   ]
  },
  {
   "cell_type": "markdown",
   "metadata": {},
   "source": [
    "Узким местом, с точки зрения производительности, в языке программирования `Python` являются циклы. Построим двумерный массив размера $1000\\times 1000$ и вычислим по нему массив состоящий из элементов исходного умноженных на $2$."
   ]
  },
  {
   "cell_type": "code",
   "execution_count": null,
   "metadata": {},
   "outputs": [],
   "source": [
    "rows, cols = 1_000, 1_000\n",
    "\n",
    "a = [list(range(i, i + cols)) for i in range(rows)]\n",
    "b = [[0 for j in range(cols)] for i in range(rows)]"
   ]
  },
  {
   "cell_type": "code",
   "execution_count": null,
   "metadata": {},
   "outputs": [],
   "source": [
    "%%timeit\n",
    "\n",
    "for i in range(rows):\n",
    "    for j in range(cols):\n",
    "        b[i][j] = 2 * a[i][j]"
   ]
  },
  {
   "cell_type": "code",
   "execution_count": null,
   "metadata": {},
   "outputs": [],
   "source": [
    "a = np.asarray(a)"
   ]
  },
  {
   "cell_type": "code",
   "execution_count": null,
   "metadata": {},
   "outputs": [],
   "source": [
    "%%timeit\n",
    "\n",
    "b = 2 * a #numpy намного быстрее"
   ]
  },
  {
   "cell_type": "markdown",
   "metadata": {},
   "source": [
    "Комментарии излишни."
   ]
  },
  {
   "cell_type": "markdown",
   "metadata": {},
   "source": [
    "### Создание одномерных массивов `ndarray` и индексация по ним"
   ]
  },
  {
   "cell_type": "markdown",
   "metadata": {},
   "source": [
    "#### Создание одномерных массивов"
   ]
  },
  {
   "cell_type": "markdown",
   "metadata": {},
   "source": [
    "Создание одномерного массива `ndarray` из списка "
   ]
  },
  {
   "cell_type": "code",
   "execution_count": null,
   "metadata": {},
   "outputs": [],
   "source": [
    "a = np.array([1, 2, 3, 4, 5])\n",
    "a, type(a)"
   ]
  },
  {
   "cell_type": "markdown",
   "metadata": {},
   "source": [
    "Возврат размера массива"
   ]
  },
  {
   "cell_type": "code",
   "execution_count": null,
   "metadata": {},
   "outputs": [],
   "source": [
    "a.shape"
   ]
  },
  {
   "cell_type": "markdown",
   "metadata": {},
   "source": [
    "Метод возвращает кортеж. А кортеж из одного элемента так и задается"
   ]
  },
  {
   "cell_type": "code",
   "execution_count": null,
   "metadata": {},
   "outputs": [],
   "source": [
    "tuple_1 = ('Hello'); print(tuple_1) #это не кортеж, а строка"
   ]
  },
  {
   "cell_type": "code",
   "execution_count": null,
   "metadata": {},
   "outputs": [],
   "source": [
    "tuple_1 = ('Hello', ); print(tuple_1) #получился кортеж из одного элемента"
   ]
  },
  {
   "cell_type": "markdown",
   "metadata": {},
   "source": [
    "Возврат типа элементов. Выведем тип числовых элементов, выбранных интерпретатором по умолчанию"
   ]
  },
  {
   "cell_type": "code",
   "execution_count": null,
   "metadata": {},
   "outputs": [],
   "source": [
    "a.dtype"
   ]
  },
  {
   "cell_type": "markdown",
   "metadata": {},
   "source": [
    "Создать массив из вещественных чисел можно следующим образом"
   ]
  },
  {
   "cell_type": "code",
   "execution_count": null,
   "metadata": {},
   "outputs": [],
   "source": [
    "a = np.array([1., 2., 3., 4., 5.])\n",
    "a, a.dtype"
   ]
  },
  {
   "cell_type": "markdown",
   "metadata": {},
   "source": [
    "Также можно передать аргумент `dtype` функции `numpy.array()`"
   ]
  },
  {
   "cell_type": "code",
   "execution_count": null,
   "metadata": {},
   "outputs": [],
   "source": [
    "a = np.array([1, 2, 3, 4, 5], dtype=np.float32)\n",
    "a,a.dtype"
   ]
  },
  {
   "cell_type": "markdown",
   "metadata": {},
   "source": [
    "##### Типы данных\n",
    "\n",
    "* np.int32 — Signed 32-bit integer types\n",
    "* np.int64 — Signed 64-bit integer types\n",
    "* np.float32 — Standard single-precision floating point\n",
    "* np.float64 — Standard double-precision floating point\n",
    "* np.complex — Complex numbers represented by 128 floats\n",
    "* np.bool — Boolean type storing TRUE and FALSE values\n",
    "* np.object — Python object type\n",
    "* np.string_ — Fixed-length string type\n",
    "* np.unicode_ — Fixed-length unicode type"
   ]
  },
  {
   "cell_type": "markdown",
   "metadata": {},
   "source": [
    "Преобразование типов:"
   ]
  },
  {
   "cell_type": "code",
   "execution_count": null,
   "metadata": {},
   "outputs": [],
   "source": [
    "a.astype(np.complex), a.astype(np.int64)"
   ]
  },
  {
   "cell_type": "markdown",
   "metadata": {},
   "source": [
    "#### Индексация в одномерных массивах"
   ]
  },
  {
   "cell_type": "markdown",
   "metadata": {},
   "source": [
    "Индексация используется для получения значений и присваивания."
   ]
  },
  {
   "cell_type": "code",
   "execution_count": null,
   "metadata": {},
   "outputs": [],
   "source": [
    "a = np.arange(15)\n",
    "\n",
    "a[10] = 100\n",
    "a"
   ]
  },
  {
   "cell_type": "code",
   "execution_count": null,
   "metadata": {},
   "outputs": [],
   "source": [
    "a[0], a[5], a[len(a) - 1]"
   ]
  },
  {
   "cell_type": "markdown",
   "metadata": {},
   "source": [
    "#### Отрицательные индексы"
   ]
  },
  {
   "cell_type": "markdown",
   "metadata": {},
   "source": [
    "Также допустима отрицательная индексация массивов."
   ]
  },
  {
   "cell_type": "code",
   "execution_count": null,
   "metadata": {},
   "outputs": [],
   "source": [
    "a[len(a) - 1], a[-1]"
   ]
  },
  {
   "cell_type": "code",
   "execution_count": null,
   "metadata": {},
   "outputs": [],
   "source": [
    "a[len(a) - 5], a[-5]"
   ]
  },
  {
   "cell_type": "markdown",
   "metadata": {},
   "source": [
    "#### Срезы"
   ]
  },
  {
   "cell_type": "markdown",
   "metadata": {},
   "source": [
    "Объекты `ndarray` поддерживают инструментарий генерации срезов, который позволяет вернуть часть массива своих данных."
   ]
  },
  {
   "cell_type": "markdown",
   "metadata": {},
   "source": [
    "Общая форма инструкции"
   ]
  },
  {
   "cell_type": "code",
   "execution_count": null,
   "metadata": {},
   "outputs": [],
   "source": [
    "array[start=0:stop=len(array)-1:step=1]"
   ]
  },
  {
   "cell_type": "markdown",
   "metadata": {},
   "source": [
    "- `start` $-$ первый индекс среза;\n",
    "- `stop` $-$ последний индекс среза;\n",
    "- `step` $-$ шаг среза."
   ]
  },
  {
   "cell_type": "markdown",
   "metadata": {},
   "source": [
    "Рассмотрим на примере массива из $15$ элементов"
   ]
  },
  {
   "cell_type": "code",
   "execution_count": null,
   "metadata": {},
   "outputs": [],
   "source": [
    "a = np.arange(15)\n",
    "a"
   ]
  },
  {
   "cell_type": "markdown",
   "metadata": {},
   "source": [
    "Первые $5$ элементов."
   ]
  },
  {
   "cell_type": "code",
   "execution_count": null,
   "metadata": {},
   "outputs": [],
   "source": [
    "variants = [ a[0:5:1], a[0:5], a[:5] ]\n",
    "\n",
    "variants"
   ]
  },
  {
   "cell_type": "markdown",
   "metadata": {},
   "source": [
    "При необходимости передать срез, как аргумент функции, или сохранить в переменной используется объект `slice()`"
   ]
  },
  {
   "cell_type": "code",
   "execution_count": null,
   "metadata": {},
   "outputs": [],
   "source": [
    "slice(stop) или slice(start, stop[, step])"
   ]
  },
  {
   "cell_type": "markdown",
   "metadata": {},
   "source": [
    "- start $-$ Начальный индекс среза. Если не указан, используется индекс первого элемента \"разрезаемого\" объекта $=$ `0`;\n",
    "\n",
    "- stop $-$ Конечный индекс. Если не указан, используется индекс последнего элемента \"разрезаемого\" объекта;\n",
    "\n",
    "- step $-$ Шаг выборки. Отрицательное значение позволяет строить срез из элементов в обратном порядке."
   ]
  },
  {
   "cell_type": "code",
   "execution_count": null,
   "metadata": {},
   "outputs": [],
   "source": [
    "variants = [ a[slice(0, 5, 1)], a[slice(0, 5)], a[slice(5)] ]\n",
    "variants"
   ]
  },
  {
   "cell_type": "markdown",
   "metadata": {},
   "source": [
    "Возврат элементов на четных позициях."
   ]
  },
  {
   "cell_type": "code",
   "execution_count": null,
   "metadata": {},
   "outputs": [],
   "source": [
    "variants = [ a[0:len(a):2], a[0::2], a[::2] ]\n",
    "\n",
    "variants"
   ]
  },
  {
   "cell_type": "markdown",
   "metadata": {},
   "source": [
    "Получить все элементы, стоящие на нечетных позициях."
   ]
  },
  {
   "cell_type": "code",
   "execution_count": null,
   "metadata": {},
   "outputs": [],
   "source": [
    "variants = [ a[1:len(a):2], a[1::2] ]\n",
    "\n",
    "variants"
   ]
  },
  {
   "cell_type": "markdown",
   "metadata": {},
   "source": [
    "Взять все элементы с $3$ по $12$ (не включительно) с шагом $3$."
   ]
  },
  {
   "cell_type": "code",
   "execution_count": null,
   "metadata": {},
   "outputs": [],
   "source": [
    "variants = [ a[3:12:3], a[3:-3:3] ]\n",
    "\n",
    "variants"
   ]
  },
  {
   "cell_type": "markdown",
   "metadata": {},
   "source": [
    "Взять все элементы с $3$ по $12$ (включительно) с шагом $3$ в обратном порядке."
   ]
  },
  {
   "cell_type": "code",
   "execution_count": null,
   "metadata": {},
   "outputs": [],
   "source": [
    "variants = [ a[3:13:3][::-1], a[12:2:-3], a[-3:2:-3] ]\n",
    "\n",
    "variants"
   ]
  },
  {
   "cell_type": "markdown",
   "metadata": {},
   "source": [
    "#### Фильтрация по булевым маскам"
   ]
  },
  {
   "cell_type": "markdown",
   "metadata": {},
   "source": [
    "Объекты `ndarray` поддерживают булеву индексацию. В качестве индекса можно передать объект `ndarray` из логических элементов  (булеву маску), согласованного размера с исходным. Рассмотрим это на примере:"
   ]
  },
  {
   "cell_type": "code",
   "execution_count": null,
   "metadata": {},
   "outputs": [],
   "source": [
    "a = np.array([1, 2, 3, 4, 5])\n",
    "mask = np.array([False, True, True, False, True])\n",
    "mask, a, a[mask]"
   ]
  },
  {
   "cell_type": "markdown",
   "metadata": {},
   "source": [
    "В результате получаем массив, построенный по принципу:\n",
    "\n",
    "- в массиве `mask` на $j$-й позиции **True**, следовательно элемент `a[j]` включается в результирующий массив;\n",
    "- в массиве `mask` на $k$-й позиции **False**, следовательно элемент `a[k]` не включается в результирующий массив."
   ]
  },
  {
   "cell_type": "markdown",
   "metadata": {},
   "source": [
    "Для объектов `ndarray` определены операции сравнения, которые в результате возвращают массивы логических значений, которые можно использовать для булевой индексации."
   ]
  },
  {
   "cell_type": "code",
   "execution_count": null,
   "metadata": {},
   "outputs": [],
   "source": [
    "np.random.seed(1024)\n",
    "\n",
    "a = np.random.randint(-2, 7, 34)\n",
    "a"
   ]
  },
  {
   "cell_type": "markdown",
   "metadata": {},
   "source": [
    "Получить все элементы, обладающие некоторым свойством."
   ]
  },
  {
   "cell_type": "code",
   "execution_count": null,
   "metadata": {},
   "outputs": [],
   "source": [
    "a[a < 0]"
   ]
  },
  {
   "cell_type": "markdown",
   "metadata": {},
   "source": [
    "Получить все элементы, кратные $3$-м."
   ]
  },
  {
   "cell_type": "code",
   "execution_count": null,
   "metadata": {},
   "outputs": [],
   "source": [
    "variants = [ a[a % 3 == 0],\n",
    "            a[np.logical_not(a % 3)],\n",
    "            a[~((a % 3).astype(bool))] ]\n",
    "\n",
    "variants"
   ]
  },
  {
   "cell_type": "code",
   "execution_count": null,
   "metadata": {},
   "outputs": [],
   "source": [
    "np.random.seed(1234)\n",
    "\n",
    "a = np.random.randint(0, 9, 23)\n",
    "a"
   ]
  },
  {
   "cell_type": "markdown",
   "metadata": {},
   "source": [
    "Найти все элементы, кратные или $3$, или $5$."
   ]
  },
  {
   "cell_type": "code",
   "execution_count": null,
   "metadata": {},
   "outputs": [],
   "source": [
    "mask_3 = a % 3 == 0\n",
    "mask_5 = a % 5 == 0\n",
    "\n",
    "variants = [ a[np.logical_or(mask_3, mask_5)],\n",
    "            a[mask_3 | mask_5] ] \n",
    "#маска - np массив, можно передать список, он приведется\n",
    "mask_3, mask_5, a, variants"
   ]
  },
  {
   "cell_type": "markdown",
   "metadata": {},
   "source": [
    "Получить индексы значений **True** можно с помощью функции `numpy.where()`."
   ]
  },
  {
   "cell_type": "code",
   "execution_count": null,
   "metadata": {},
   "outputs": [],
   "source": [
    "mask = np.array([True, True, False, True, False])\n",
    "\n",
    "mask, np.where(mask)"
   ]
  },
  {
   "cell_type": "markdown",
   "metadata": {},
   "source": [
    "Эту функцию тоже удобно использовать для фильтрации элементов."
   ]
  },
  {
   "cell_type": "markdown",
   "metadata": {},
   "source": [
    "#### Пример"
   ]
  },
  {
   "cell_type": "markdown",
   "metadata": {},
   "source": [
    "Индексы положительных элементов."
   ]
  },
  {
   "cell_type": "code",
   "execution_count": null,
   "metadata": {},
   "outputs": [],
   "source": [
    "np.where(a > 0)"
   ]
  },
  {
   "cell_type": "markdown",
   "metadata": {},
   "source": [
    "Альтернативный способ получения положительных элементов."
   ]
  },
  {
   "cell_type": "code",
   "execution_count": null,
   "metadata": {},
   "outputs": [],
   "source": [
    "a[np.where(a > 0)]"
   ]
  },
  {
   "cell_type": "markdown",
   "metadata": {},
   "source": [
    "### Создание многомерных массивов `ndarray` и индексация по ним"
   ]
  },
  {
   "cell_type": "markdown",
   "metadata": {},
   "source": [
    "#### Создание многомерных массивов"
   ]
  },
  {
   "cell_type": "markdown",
   "metadata": {},
   "source": [
    "Создание двумерных массивов (матриц)"
   ]
  },
  {
   "cell_type": "code",
   "execution_count": null,
   "metadata": {},
   "outputs": [],
   "source": [
    "a = np.array([[1, 2, 3, 4, 5],\n",
    "              [6, 7, 8, 9, 0]], dtype=np.float32)\n",
    "#списки должны иметь одинаковую длину\n",
    "a, a.shape, a.dtype"
   ]
  },
  {
   "cell_type": "markdown",
   "metadata": {},
   "source": [
    "Получение количества измерений (размерность кортежа `.shape`)"
   ]
  },
  {
   "cell_type": "code",
   "execution_count": null,
   "metadata": {},
   "outputs": [],
   "source": [
    "a.ndim, len(a.shape)"
   ]
  },
  {
   "cell_type": "markdown",
   "metadata": {},
   "source": [
    "Примером использования массивов размерности большей $2$ являются `OLAP`-кубы. На изображении приведен типичный `OLAP`-куб с данными о поставках товаров некоторой компанией в Западном полушарии."
   ]
  },
  {
   "cell_type": "markdown",
   "metadata": {},
   "source": [
    "<center>\n",
    "    <img src=\"img/alpero2i2.gif\">\n",
    "</center>"
   ]
  },
  {
   "cell_type": "markdown",
   "metadata": {},
   "source": [
    "Создание массивов больших размерностей рассмотрим на примере трехмерного массива"
   ]
  },
  {
   "cell_type": "code",
   "execution_count": null,
   "metadata": {},
   "outputs": [],
   "source": [
    "a = np.array(\n",
    "    [\n",
    "        [\n",
    "            [ 0,  1,  2,  3],        \n",
    "            [ 4,  5,  6,  7],\n",
    "            [ 8,  9, 10, 11]\n",
    "        ],\n",
    "        [\n",
    "           [12, 13, 14, 15],        \n",
    "           [16, 17, 18, 19],        \n",
    "           [20, 21, 22, 23]],\n",
    "        [\n",
    "            [24, 25, 26, 27],        \n",
    "            [28, 29, 30, 31],\n",
    "            [32, 33, 34, 35]\n",
    "        ],\n",
    "        [\n",
    "            [36, 37, 38, 39],        \n",
    "            [40, 41, 42, 43],        \n",
    "            [44, 45, 46, 47]\n",
    "        ]\n",
    "    ])\n",
    "a, a.shape, a.ndim, a.dtype"
   ]
  },
  {
   "cell_type": "markdown",
   "metadata": {},
   "source": [
    "<center>\n",
    "    <img src=\"img/3nd_array.jpg\" width=320>\n",
    "</center>"
   ]
  },
  {
   "cell_type": "markdown",
   "metadata": {},
   "source": [
    "#### Индексация в многомерных массивах"
   ]
  },
  {
   "cell_type": "code",
   "execution_count": null,
   "metadata": {},
   "outputs": [],
   "source": [
    "a = np.arange(30).reshape(5, -1)\n",
    "a"
   ]
  },
  {
   "cell_type": "markdown",
   "metadata": {},
   "source": [
    "Неудачный способ индексации, потому что в этом случае доступ к элементам выполняется после предварительно копирования массива при доступе по первым индексам."
   ]
  },
  {
   "cell_type": "code",
   "execution_count": null,
   "metadata": {},
   "outputs": [],
   "source": [
    "#копирование\n",
    "a[0][0], a[0][2], a[1][1], a[-1][-2]"
   ]
  },
  {
   "cell_type": "code",
   "execution_count": null,
   "metadata": {},
   "outputs": [],
   "source": [
    "a[0][0]"
   ]
  },
  {
   "cell_type": "markdown",
   "metadata": {},
   "source": [
    "В отличие от`Python` `list`, `ndarray` поддерживает индексацию по нескольким индексам. При подобной индексации выполняется прямой доступ к элементам"
   ]
  },
  {
   "cell_type": "code",
   "execution_count": null,
   "metadata": {},
   "outputs": [],
   "source": [
    "# хороший способ\n",
    "\n",
    "a[0,0], a[0,2], a[1,1], a[-1,-2]"
   ]
  },
  {
   "cell_type": "markdown",
   "metadata": {},
   "source": [
    "Получить строку с индексом $2$."
   ]
  },
  {
   "cell_type": "code",
   "execution_count": null,
   "metadata": {},
   "outputs": [],
   "source": [
    "variants = [ a[2], a[2,:] ]\n",
    "\n",
    "variants"
   ]
  },
  {
   "cell_type": "markdown",
   "metadata": {},
   "source": [
    "Получить столбец с индексом $3$."
   ]
  },
  {
   "cell_type": "code",
   "execution_count": null,
   "metadata": {},
   "outputs": [],
   "source": [
    "a[:,3]"
   ]
  },
  {
   "cell_type": "markdown",
   "metadata": {},
   "source": [
    "Получить все элементы, стоящие в четных столбцах."
   ]
  },
  {
   "cell_type": "code",
   "execution_count": null,
   "metadata": {},
   "outputs": [],
   "source": [
    "a[:,::2]"
   ]
  },
  {
   "cell_type": "markdown",
   "metadata": {},
   "source": [
    "Получить все элементы, стоящие в первой ($0$-й) строке и нечетных стоблцах."
   ]
  },
  {
   "cell_type": "code",
   "execution_count": null,
   "metadata": {},
   "outputs": [],
   "source": [
    "a[0,1::2]"
   ]
  },
  {
   "cell_type": "markdown",
   "metadata": {},
   "source": [
    "Получить все элементы `a[i,j]`, такие что:\n",
    "\n",
    "- i $–$ нечетные;\n",
    "- j $–$ дающие остаток $2$ при делении на $3$;\n",
    "\n",
    "индексация по строкам, должна быть обратной."
   ]
  },
  {
   "cell_type": "code",
   "execution_count": null,
   "metadata": {},
   "outputs": [],
   "source": [
    "a, a[1::2,2::3][::-1]"
   ]
  },
  {
   "cell_type": "markdown",
   "metadata": {},
   "source": [
    "#### Индексирование по списку индексов (fancy Indexing)"
   ]
  },
  {
   "cell_type": "markdown",
   "metadata": {},
   "source": [
    "Получение $2$, $4$ и $3$ строк двумерного массива."
   ]
  },
  {
   "cell_type": "code",
   "execution_count": null,
   "metadata": {},
   "outputs": [],
   "source": [
    "a = np.arange(30).reshape(5, -1)\n",
    "\n",
    "a, a[[2, 4, 3]]"
   ]
  },
  {
   "cell_type": "markdown",
   "metadata": {},
   "source": [
    "Получить элементы в $0$-м и последнем столбце. "
   ]
  },
  {
   "cell_type": "code",
   "execution_count": null,
   "metadata": {},
   "outputs": [],
   "source": [
    "a, a[:,[0, -1]]"
   ]
  },
  {
   "cell_type": "markdown",
   "metadata": {},
   "source": [
    "Чтобы получить элементы на пересечении $2$, $4$, $3$ строк и $0$, $5$ столбцов."
   ]
  },
  {
   "cell_type": "code",
   "execution_count": null,
   "metadata": {},
   "outputs": [],
   "source": [
    "a[[2, 4, 3]][:,[0, -1]]"
   ]
  },
  {
   "cell_type": "markdown",
   "metadata": {},
   "source": [
    "#### Сокращенная индексация"
   ]
  },
  {
   "cell_type": "markdown",
   "metadata": {},
   "source": [
    "Получение всех элементов последним индексом равным $0$"
   ]
  },
  {
   "cell_type": "code",
   "execution_count": null,
   "metadata": {},
   "outputs": [],
   "source": [
    "a = np.arange(24).reshape(2, 3, 4)\n",
    "a, a[...,0],a[:,:,0]#синоним"
   ]
  },
  {
   "cell_type": "markdown",
   "metadata": {},
   "source": [
    "Получение всех элементов с первым индексом равным $1$"
   ]
  },
  {
   "cell_type": "code",
   "execution_count": null,
   "metadata": {},
   "outputs": [],
   "source": [
    "a,a[1, ...]\n",
    "#a[1,:,:]#синоним"
   ]
  },
  {
   "cell_type": "markdown",
   "metadata": {},
   "source": [
    "Получение всех элементов со вторым индексом равным $0$"
   ]
  },
  {
   "cell_type": "code",
   "execution_count": null,
   "metadata": {},
   "outputs": [],
   "source": [
    "a,a[..., 0, :]"
   ]
  },
  {
   "cell_type": "markdown",
   "metadata": {},
   "source": [
    "### Представление данных, хранящихся в массиве `ndarray`"
   ]
  },
  {
   "cell_type": "markdown",
   "metadata": {},
   "source": [
    "Данные в памяти хранятся последовательно. А объекты `ndarray` реализуют различные варианты представления этих данных."
   ]
  },
  {
   "cell_type": "markdown",
   "metadata": {},
   "source": [
    "<img src=\"files/data.png\" width=\"450px\">"
   ]
  },
  {
   "cell_type": "code",
   "execution_count": null,
   "metadata": {},
   "outputs": [],
   "source": [
    "a = np.array([\n",
    "        [ 1.,  2.,  3.,  4.,  5., 6.],\n",
    "        [ 7.,  8.,  9.,  10.,  11., 12.]]\n",
    "    )\n",
    "a"
   ]
  },
  {
   "cell_type": "markdown",
   "metadata": {},
   "source": [
    "Получение количества элементов в массиве"
   ]
  },
  {
   "cell_type": "code",
   "execution_count": null,
   "metadata": {},
   "outputs": [],
   "source": [
    "count = a.size\n",
    "print(count)"
   ]
  },
  {
   "cell_type": "markdown",
   "metadata": {},
   "source": [
    "Размер элементов массива в байтах."
   ]
  },
  {
   "cell_type": "code",
   "execution_count": null,
   "metadata": {},
   "outputs": [],
   "source": [
    "item_size = a.dtype.itemsize   # sizeof(float64)\n",
    "print(item_size)"
   ]
  },
  {
   "cell_type": "markdown",
   "metadata": {},
   "source": [
    "Требуемая память для хранения массива."
   ]
  },
  {
   "cell_type": "code",
   "execution_count": null,
   "metadata": {},
   "outputs": [],
   "source": [
    "array_size = count* item_size\n",
    "print(array_size)\n",
    "print(a.nbytes)"
   ]
  },
  {
   "cell_type": "markdown",
   "metadata": {},
   "source": [
    "Кортеж в котором приведены количество байтов, на которые надо сместиться, чтобы перейти к следующей строке ($6\\cdot 8=48$ байт) и к следующему элементу строки ($8$ байт)"
   ]
  },
  {
   "cell_type": "code",
   "execution_count": null,
   "metadata": {},
   "outputs": [],
   "source": [
    "a, a.strides"
   ]
  },
  {
   "cell_type": "markdown",
   "metadata": {},
   "source": [
    "#### Полные и частичные копии массивов"
   ]
  },
  {
   "cell_type": "markdown",
   "metadata": {},
   "source": [
    "При работе с массивами требуется создавать их копии. При этом возможны два варианта:\n",
    "\n",
    "- Полная копия. Осуществляется полная копия хранящихся данных и создается объект `ndarray` для их представления;\n",
    "\n",
    "- Частичная копия. Создается новый объект `ndarray`, в общем случае выполняющих иное представление данных. Например с другой размерностью.\n",
    "\n",
    "Различные объекты `ndarray`, оперирующие с одними и теми же данными, называются их представлениями (*view*)."
   ]
  },
  {
   "cell_type": "markdown",
   "metadata": {},
   "source": [
    "#### Пример"
   ]
  },
  {
   "cell_type": "code",
   "execution_count": null,
   "metadata": {},
   "outputs": [],
   "source": [
    "a = np.array([1, 2, 3, 4, 5], dtype=np.float32)"
   ]
  },
  {
   "cell_type": "markdown",
   "metadata": {},
   "source": [
    "Частичная копия массива, объект указывает на те же данные, на которые указывает *a*"
   ]
  },
  {
   "cell_type": "code",
   "execution_count": null,
   "metadata": {},
   "outputs": [],
   "source": [
    "b = np.asarray(a)\n",
    "b"
   ]
  },
  {
   "cell_type": "markdown",
   "metadata": {},
   "source": [
    "Полная копия массива, объект указывает на копию данных"
   ]
  },
  {
   "cell_type": "code",
   "execution_count": null,
   "metadata": {},
   "outputs": [],
   "source": [
    "c = np.array(a)\n",
    "\n",
    "a[2]=-2\n",
    "\n",
    "a, c"
   ]
  },
  {
   "cell_type": "markdown",
   "metadata": {},
   "source": [
    "Копия с изменением типа данных"
   ]
  },
  {
   "cell_type": "code",
   "execution_count": null,
   "metadata": {},
   "outputs": [],
   "source": [
    "b = np.asarray(a, dtype=np.int32)#скопируютися данные\n",
    "\n",
    "a[1]=-1000\n",
    "a,b"
   ]
  },
  {
   "cell_type": "markdown",
   "metadata": {},
   "source": [
    "Метод `ndarray.view([dtype][, type])`, создает новое представление массива с теми же самыми данными.\n",
    "\n",
    "Передача **None** для dtype отличается от пропуска параметра, поскольку первый вызывает `dtype(None)` который является псевдонимом для `dtype('float_')`.\n",
    "\n",
    "Параметры\n",
    "        \n",
    "- `dtype` $-$ тип данных возвращаемого представления, например `float32` или `int16`. Если его опустить, представление будет иметь тот же тип данных, что и базовый массив.\n",
    "\n",
    "- `type` $-$ тип возвращаемого представления, например, `ndarray` или `matrix`. Отсутствие параметра приводит к сохранению типа."
   ]
  },
  {
   "cell_type": "code",
   "execution_count": null,
   "metadata": {},
   "outputs": [],
   "source": [
    "a = np.array([1, 2, 3, 4, 5], dtype=np.float32)\n",
    "b = a.view(np.int32)\n",
    "\n",
    "a[2] = -2\n",
    "a,b"
   ]
  },
  {
   "cell_type": "markdown",
   "metadata": {},
   "source": [
    "#### Изменение формы представления"
   ]
  },
  {
   "cell_type": "code",
   "execution_count": null,
   "metadata": {},
   "outputs": [],
   "source": [
    "b = a.reshape(6, 2)\n",
    "b, b.shape, b.strides #2*8=16 для перехода к следующей строке"
   ]
  },
  {
   "cell_type": "code",
   "execution_count": null,
   "metadata": {},
   "outputs": [],
   "source": [
    "c = a.reshape(3, 2, 2) \n",
    "c, c.shape, c.strides#4*8=32 для перехода к следующему двумерному массиву,\n",
    "#2*8=16 для перехода к следующей строке в двумерном массиве,\n",
    "#8 для перехода к следующему элементу"
   ]
  },
  {
   "cell_type": "markdown",
   "metadata": {},
   "source": [
    "Некорректные размеры преобразованного массива приводят к генерации исключения"
   ]
  },
  {
   "cell_type": "code",
   "execution_count": null,
   "metadata": {},
   "outputs": [],
   "source": [
    "a.reshape(2, 3) "
   ]
  },
  {
   "cell_type": "markdown",
   "metadata": {},
   "source": [
    "Массив из $3$-х столбцов, $-1$ означает автоматическое вычисление согласованного числа строк"
   ]
  },
  {
   "cell_type": "code",
   "execution_count": null,
   "metadata": {},
   "outputs": [],
   "source": [
    "a.reshape(-1, 3) "
   ]
  },
  {
   "cell_type": "markdown",
   "metadata": {},
   "source": [
    "При выполнении метода `.reshape()`, не выполняется копирования данных, а создается представление, работающее с теми же данными."
   ]
  },
  {
   "cell_type": "code",
   "execution_count": null,
   "metadata": {},
   "outputs": [],
   "source": [
    "b = a.reshape(3, -1)   # same memory\n",
    "\n",
    "a[0, 1] = -10\n",
    "b #объект указывает на те же данные"
   ]
  },
  {
   "cell_type": "markdown",
   "metadata": {},
   "source": [
    "Создает копию данных, с которыми оперирует объект `ndarray`, и возвращает новый объект, который представляет их в виде одномерного массива."
   ]
  },
  {
   "cell_type": "code",
   "execution_count": null,
   "metadata": {},
   "outputs": [],
   "source": [
    "b = a.flatten() #данные копируются\n",
    "a[0, 1] = -20\n",
    "\n",
    "b"
   ]
  },
  {
   "cell_type": "markdown",
   "metadata": {},
   "source": [
    "Создает новый объект представляющий данные в виде одномерного массива"
   ]
  },
  {
   "cell_type": "code",
   "execution_count": null,
   "metadata": {},
   "outputs": [],
   "source": [
    "b = a.ravel()     #копия данных не выполняется\n",
    "a[0, 1] = -30\n",
    "\n",
    "b"
   ]
  },
  {
   "cell_type": "markdown",
   "metadata": {},
   "source": [
    "Транспонирование матрицы, результирующий объект представляет исходные данные без копирования."
   ]
  },
  {
   "cell_type": "code",
   "execution_count": null,
   "metadata": {},
   "outputs": [],
   "source": [
    "c = a.T          # same as a.transpose() транспонирование\n",
    "a[0, 1] = -40\n",
    "\n",
    "c, c.strides, a.strides"
   ]
  },
  {
   "cell_type": "markdown",
   "metadata": {},
   "source": [
    "Для некоторых подпрограмм требуется преобразование одномерных массивов в двумерные, но состоящих из одной строки. Такое преобразование можно осуществить рядом способов. Рассмотрим их на примерах. Сгенерируем массив из равномерного ряда чисел."
   ]
  },
  {
   "cell_type": "code",
   "execution_count": null,
   "metadata": {},
   "outputs": [],
   "source": [
    "b = np.arange(10)\n",
    "b, b.shape, b.dtype"
   ]
  },
  {
   "cell_type": "markdown",
   "metadata": {},
   "source": [
    "Создание представления с новой размерностью, при помощи объекта `newaxis`. Добавим новую ось к массиву элементов."
   ]
  },
  {
   "cell_type": "code",
   "execution_count": null,
   "metadata": {},
   "outputs": [],
   "source": [
    "#a = b[np.newaxis, :]\n",
    "a = b.reshape(1, *b.shape)#синоним\n",
    "b[2] = -20\n",
    "b,a"
   ]
  },
  {
   "cell_type": "markdown",
   "metadata": {},
   "source": [
    "Этот же результат можно получить в императивном стиле"
   ]
  },
  {
   "cell_type": "code",
   "execution_count": null,
   "metadata": {},
   "outputs": [],
   "source": [
    "c = np.expand_dims(b, axis=0)\n",
    "b[3] = -30\n",
    "c, c.shape, c.dtype"
   ]
  },
  {
   "cell_type": "markdown",
   "metadata": {},
   "source": [
    "Добавление новой оси к каждому из элементов массива."
   ]
  },
  {
   "cell_type": "code",
   "execution_count": null,
   "metadata": {},
   "outputs": [],
   "source": [
    "b[:, np.newaxis]\n",
    "#b.reshape(*b.shape, 1)#синоним"
   ]
  },
  {
   "cell_type": "markdown",
   "metadata": {},
   "source": [
    "#### Добавление новых осей"
   ]
  },
  {
   "cell_type": "markdown",
   "metadata": {},
   "source": [
    "Формирование размерности представления в виде (*длина массива*, 1, 1)"
   ]
  },
  {
   "cell_type": "code",
   "execution_count": null,
   "metadata": {},
   "outputs": [],
   "source": [
    "c1 = b[:, np.newaxis, np.newaxis]\n",
    "c1, c1.shape"
   ]
  },
  {
   "cell_type": "markdown",
   "metadata": {},
   "source": [
    "Представление в форме (1, *длина массива*, 1)"
   ]
  },
  {
   "cell_type": "code",
   "execution_count": null,
   "metadata": {},
   "outputs": [],
   "source": [
    "c2 = b[np.newaxis, :, np.newaxis]\n",
    "c2, c2.shape"
   ]
  },
  {
   "cell_type": "markdown",
   "metadata": {},
   "source": [
    "Представление в форме (1, 1, *длина массива*)"
   ]
  },
  {
   "cell_type": "code",
   "execution_count": null,
   "metadata": {},
   "outputs": [],
   "source": [
    "c3 = b[np.newaxis, np.newaxis, :]\n",
    "\n",
    "c3, c3.shape"
   ]
  },
  {
   "cell_type": "markdown",
   "metadata": {},
   "source": [
    "#### Создание массивов с особыми свойствами"
   ]
  },
  {
   "cell_type": "markdown",
   "metadata": {},
   "source": [
    "Массив нулей"
   ]
  },
  {
   "cell_type": "code",
   "execution_count": null,
   "metadata": {},
   "outputs": [],
   "source": [
    "a = np.zeros(shape=(3, 2))\n",
    "a, a.shape"
   ]
  },
  {
   "cell_type": "markdown",
   "metadata": {},
   "source": [
    "Копия массива нулей такой же размерности как *a*"
   ]
  },
  {
   "cell_type": "code",
   "execution_count": null,
   "metadata": {},
   "outputs": [],
   "source": [
    "b = np.zeros_like(a)\n",
    "\n",
    "a[0][1] = -0.1\n",
    "b, b.shape"
   ]
  },
  {
   "cell_type": "markdown",
   "metadata": {},
   "source": [
    "Одномерный массив из $1$"
   ]
  },
  {
   "cell_type": "code",
   "execution_count": null,
   "metadata": {},
   "outputs": [],
   "source": [
    "np.ones(5)   # синоним np.ones(shape=(5, )) ones_like()"
   ]
  },
  {
   "cell_type": "markdown",
   "metadata": {},
   "source": [
    "Единичные матрицы размера $4\\times 4$"
   ]
  },
  {
   "cell_type": "code",
   "execution_count": null,
   "metadata": {},
   "outputs": [],
   "source": [
    "np.eye(4)"
   ]
  },
  {
   "cell_type": "markdown",
   "metadata": {},
   "source": [
    "Генерация монотонных последовательностей `arange(fin)` или `arange(start, fin, step=1, endpoint=False)`:\n",
    "\n",
    "- *start* $-$ начальное значение;\n",
    "- *fin* $-$ конечное значение;\n",
    "- *step* $-$ шаг;\n",
    "- *endpoint* $-$ включать или не включать последнюю точку последовательности"
   ]
  },
  {
   "cell_type": "code",
   "execution_count": null,
   "metadata": {},
   "outputs": [],
   "source": [
    "np.arange(1, 10) #последовательный список элементов, сохраняет в память"
   ]
  },
  {
   "cell_type": "code",
   "execution_count": null,
   "metadata": {},
   "outputs": [],
   "source": [
    "np.arange(1, 10, 2)#шаг"
   ]
  },
  {
   "cell_type": "code",
   "execution_count": null,
   "metadata": {},
   "outputs": [],
   "source": [
    "np.arange(1, 10, 0.5)"
   ]
  },
  {
   "cell_type": "code",
   "execution_count": null,
   "metadata": {},
   "outputs": [],
   "source": [
    "np.linspace(0, 1, 5, endpoint=True)#разбивает отрезок на нужное число частей"
   ]
  },
  {
   "cell_type": "markdown",
   "metadata": {},
   "source": [
    "### Операции над массивами"
   ]
  },
  {
   "cell_type": "markdown",
   "metadata": {},
   "source": [
    "#### Поэлементные операции над массивами"
   ]
  },
  {
   "cell_type": "markdown",
   "metadata": {},
   "source": [
    "##### Операции со скалярами и унарные операции"
   ]
  },
  {
   "cell_type": "code",
   "execution_count": null,
   "metadata": {},
   "outputs": [],
   "source": [
    "a = np.arange(10).reshape(2, -1)\n",
    "a"
   ]
  },
  {
   "cell_type": "code",
   "execution_count": null,
   "metadata": {},
   "outputs": [],
   "source": [
    "a ** 3   # синоним np.power(a, 3)"
   ]
  },
  {
   "cell_type": "code",
   "execution_count": null,
   "metadata": {},
   "outputs": [],
   "source": [
    "a + 2    #  np.add(a, 2) прибавить 2 к каждому элементу"
   ]
  },
  {
   "cell_type": "code",
   "execution_count": null,
   "metadata": {},
   "outputs": [],
   "source": [
    "2 * a    # синоним np.multiply(2, a)"
   ]
  },
  {
   "cell_type": "code",
   "execution_count": null,
   "metadata": {},
   "outputs": [],
   "source": [
    "2 ** a   # синоним np.power(2, a)"
   ]
  },
  {
   "cell_type": "code",
   "execution_count": null,
   "metadata": {},
   "outputs": [],
   "source": [
    "np.sqrt(a)"
   ]
  },
  {
   "cell_type": "code",
   "execution_count": null,
   "metadata": {},
   "outputs": [],
   "source": [
    "np.exp(a)"
   ]
  },
  {
   "cell_type": "code",
   "execution_count": null,
   "metadata": {},
   "outputs": [],
   "source": [
    "np.log(1 + a)"
   ]
  },
  {
   "cell_type": "code",
   "execution_count": null,
   "metadata": {},
   "outputs": [],
   "source": [
    "np.log2(1 + a)"
   ]
  },
  {
   "cell_type": "code",
   "execution_count": null,
   "metadata": {},
   "outputs": [],
   "source": [
    "np.sin(a)"
   ]
  },
  {
   "cell_type": "code",
   "execution_count": null,
   "metadata": {},
   "outputs": [],
   "source": [
    "np.greater(a, 0) #синоним a > 0"
   ]
  },
  {
   "cell_type": "markdown",
   "metadata": {},
   "source": [
    "##### Агрегирующие операции"
   ]
  },
  {
   "cell_type": "markdown",
   "metadata": {},
   "source": [
    "Рассмотрим применение агрегирующих операций на примере одномерного случайного массива из семи элементов"
   ]
  },
  {
   "cell_type": "code",
   "execution_count": null,
   "metadata": {},
   "outputs": [],
   "source": [
    "np.random.seed(128)#начальные условия для создания псевдослучайной последовательности\n",
    "a = np.random.randint(0, 10, size=(7, ))#генерация массива из 7 псевдослучайных\n",
    "#целых чисел в диапазоне от 0 до 10\n",
    "a[3] = 10\n",
    "a"
   ]
  },
  {
   "cell_type": "markdown",
   "metadata": {},
   "source": [
    "Максимальное значение, аргумент максимального значения, сумма, произведение, среднее"
   ]
  },
  {
   "cell_type": "code",
   "execution_count": null,
   "metadata": {},
   "outputs": [],
   "source": [
    "a.min(), a.max(), a.argmax(), a.sum(), a.prod(), a.mean()"
   ]
  },
  {
   "cell_type": "markdown",
   "metadata": {},
   "source": [
    "Императивные синонимы"
   ]
  },
  {
   "cell_type": "code",
   "execution_count": null,
   "metadata": {},
   "outputs": [],
   "source": [
    "np.min(a), np.max(a), np.argmax(a), np.sum(a), np.prod(a), np.mean(a)"
   ]
  },
  {
   "cell_type": "markdown",
   "metadata": {},
   "source": [
    "Эти операции выполняются на низком уровне, сразу по всем хранимым данным, вне зависимости от их представления. Поэтому агрегирующие операции можно применять и к многомерным массивам"
   ]
  },
  {
   "cell_type": "code",
   "execution_count": null,
   "metadata": {},
   "outputs": [],
   "source": [
    "np.random.seed(16)\n",
    "\n",
    "a = np.random.randint(0, 10, size=(4, 4))\n",
    "a[2, 2] = 25\n",
    "\n",
    "a"
   ]
  },
  {
   "cell_type": "code",
   "execution_count": null,
   "metadata": {},
   "outputs": [],
   "source": [
    "a.argmax()"
   ]
  },
  {
   "cell_type": "markdown",
   "metadata": {},
   "source": [
    "Получить элемент по порядковому номеру можно с помощью преобразования представления в одномерный массив:"
   ]
  },
  {
   "cell_type": "code",
   "execution_count": null,
   "metadata": {},
   "outputs": [],
   "source": [
    "a.ravel()[a.argmax()]"
   ]
  },
  {
   "cell_type": "markdown",
   "metadata": {},
   "source": [
    "Или найти путем нехитрых вычислений:"
   ]
  },
  {
   "cell_type": "code",
   "execution_count": null,
   "metadata": {},
   "outputs": [],
   "source": [
    "i = np.argmax(a)\n",
    "i, j = i // a.shape[1], i % a.shape[1]\n",
    "\n",
    "print(\"value =\", a[i, j])\n",
    "print(\"index =\", (i, j))"
   ]
  },
  {
   "cell_type": "markdown",
   "metadata": {},
   "source": [
    "Или при помощи функции `unravel_index()`, получающей в качестве аргументов линейный индекс и размерность массива."
   ]
  },
  {
   "cell_type": "code",
   "execution_count": null,
   "metadata": {},
   "outputs": [],
   "source": [
    "np.unravel_index(np.argmax(a), a.shape)"
   ]
  },
  {
   "cell_type": "markdown",
   "metadata": {},
   "source": [
    "В `Python` есть стандартные агрегирующие функции, предназначенные для работы с итерируемыми объектами, а объекты `ndarray` итерируемы. Для примера проведем сравнения производительности `numpy.max()` и стандартной функции `max()`."
   ]
  },
  {
   "cell_type": "code",
   "execution_count": null,
   "metadata": {},
   "outputs": [],
   "source": [
    "b = np.random.randint(0, 10, size=(1_000, 1_000))\n",
    "b[36, 42] = 20\n",
    "b = b.ravel()"
   ]
  },
  {
   "cell_type": "code",
   "execution_count": null,
   "metadata": {},
   "outputs": [],
   "source": [
    "%%timeit\n",
    "\n",
    "np.max(b)"
   ]
  },
  {
   "cell_type": "code",
   "execution_count": null,
   "metadata": {},
   "outputs": [],
   "source": [
    "%%timeit\n",
    "\n",
    "max(b)#с многомерными массивами, без преобразования\n",
    "#в одномерные, не работает"
   ]
  },
  {
   "cell_type": "markdown",
   "metadata": {},
   "source": [
    "##### Агрегирующие операции вдоль осей"
   ]
  },
  {
   "cell_type": "markdown",
   "metadata": {},
   "source": [
    "<img src=\"files/axis.png\" width=\"320px\">"
   ]
  },
  {
   "cell_type": "markdown",
   "metadata": {},
   "source": [
    "`a.agg(axis=axis)` – агрегирующая операция вдоль оси `axis`:\n",
    "\n",
    "* выполняет агрегирующую операцию по оси `axis`;\n",
    "* удаляет ось `axis` из исходного массива.\n",
    "\n",
    "При этом, `axis=0` отвечает строкам, `axis=1` отвечает столбцам"
   ]
  },
  {
   "cell_type": "code",
   "execution_count": null,
   "metadata": {},
   "outputs": [],
   "source": [
    "np.random.seed(32)\n",
    "\n",
    "a = np.random.randint(0, 10, size=(3, 7))\n",
    "a[1, 3] = 15\n",
    "\n",
    "a"
   ]
  },
  {
   "cell_type": "markdown",
   "metadata": {},
   "source": [
    "Выполнение аггрегирующей операции вдоль оси `axis=0` (по столбцам)"
   ]
  },
  {
   "cell_type": "code",
   "execution_count": null,
   "metadata": {},
   "outputs": [],
   "source": [
    "a.max(axis=0)"
   ]
  },
  {
   "cell_type": "markdown",
   "metadata": {},
   "source": [
    "Выполнение аггрегирующей операции вдоль оси `axis=1` (по строкам)"
   ]
  },
  {
   "cell_type": "code",
   "execution_count": null,
   "metadata": {},
   "outputs": [],
   "source": [
    "a.sum(axis=1)"
   ]
  },
  {
   "cell_type": "markdown",
   "metadata": {},
   "source": [
    "#### Бинарные операции над числовыми массивами"
   ]
  },
  {
   "cell_type": "markdown",
   "metadata": {},
   "source": [
    "Для демонстрации поэлементных операций над числовыми массивами создадим два случайных массива согласованных размеров."
   ]
  },
  {
   "cell_type": "code",
   "execution_count": null,
   "metadata": {},
   "outputs": [],
   "source": [
    "np.random.seed(8)\n",
    "\n",
    "a = np.random.randint(0, 10, size=(4, 2))\n",
    "a[2][1]=21\n",
    "\n",
    "np.random.seed(64)\n",
    "\n",
    "b = np.random.randint(0, 10, size=a.shape)\n",
    "\n",
    "a, b"
   ]
  },
  {
   "cell_type": "markdown",
   "metadata": {},
   "source": [
    "##### Поэлементное произведение"
   ]
  },
  {
   "cell_type": "code",
   "execution_count": null,
   "metadata": {},
   "outputs": [],
   "source": [
    "a * b\n",
    "#np.multiply(a, b)#синоним"
   ]
  },
  {
   "cell_type": "markdown",
   "metadata": {},
   "source": [
    "##### Поэлементная сумма"
   ]
  },
  {
   "cell_type": "code",
   "execution_count": null,
   "metadata": {},
   "outputs": [],
   "source": [
    "a,b,a + b\n",
    "#np.add(a, b)#синоним"
   ]
  },
  {
   "cell_type": "markdown",
   "metadata": {},
   "source": [
    "##### Поэлементное сравнение двух массивов и создание массива из соответствующих максимальных элементов"
   ]
  },
  {
   "cell_type": "code",
   "execution_count": null,
   "metadata": {},
   "outputs": [],
   "source": [
    "a,b"
   ]
  },
  {
   "cell_type": "code",
   "execution_count": null,
   "metadata": {},
   "outputs": [],
   "source": [
    "np.fmax(a, b)"
   ]
  },
  {
   "cell_type": "markdown",
   "metadata": {},
   "source": [
    "##### Поэлементное сравнение массивов и создание массива из результатов сравнений элементов"
   ]
  },
  {
   "cell_type": "code",
   "execution_count": null,
   "metadata": {},
   "outputs": [],
   "source": [
    "a,b,a > b\n",
    "#np.greater(a, b)#синоним"
   ]
  },
  {
   "cell_type": "markdown",
   "metadata": {},
   "source": [
    "Поэлементное сравнение двух вещественных массивов с заданной точностью"
   ]
  },
  {
   "cell_type": "markdown",
   "metadata": {},
   "source": [
    "`numpy.isclose(a, b, rtol=1e-05, atol=1e-08, equal_nan=False)`\n",
    "\n",
    "Возвращает булевский массив результатов поэлементного сравнения массивов.\n",
    "\n",
    "`numpy.allclose(a, b, rtol=1e-05, atol=1e-08, equal_nan=False)`\n",
    "\n",
    "Возвращает булевский массив результов поэлементного сравнения массивов.\n",
    "\n",
    "- `a`, `b` $-$ массивы для сравнения\n",
    "\n",
    "- `rtol`, `atol` $-$ относительная и абсолютная погрешности, соответственно\n",
    "\n",
    "- `equal_nan` $-$ сравнивать ли **NaN** как равные. Если **True**, **NaN** в `a` будет считаться равным **NaN** в `b` в выходном массиве. \n",
    "\n",
    "Поэлементное сравнение осуществляется по формуле:\n",
    "$$\n",
    "    |a - b| \\le atol + rtol * |b|\n",
    "$$"
   ]
  },
  {
   "cell_type": "code",
   "execution_count": null,
   "metadata": {},
   "outputs": [],
   "source": [
    "np.random.seed(256)\n",
    "\n",
    "a = np.random.random(size=(2, 5))#генерация вещественного случайного массива\n",
    "b = a + np.random.random(size=(2, 5)) * 1e-6"
   ]
  },
  {
   "cell_type": "code",
   "execution_count": null,
   "metadata": {},
   "outputs": [],
   "source": [
    "a,b"
   ]
  },
  {
   "cell_type": "code",
   "execution_count": null,
   "metadata": {},
   "outputs": [],
   "source": [
    "np.isclose(a,b)"
   ]
  },
  {
   "cell_type": "code",
   "execution_count": null,
   "metadata": {},
   "outputs": [],
   "source": [
    "np.allclose(a, b)\n",
    "# синоним np.isclose(a, b).all()"
   ]
  },
  {
   "cell_type": "markdown",
   "metadata": {},
   "source": [
    "Сравнение элементов массива со скаляром, нулем в примере"
   ]
  },
  {
   "cell_type": "code",
   "execution_count": null,
   "metadata": {},
   "outputs": [],
   "source": [
    "np.random.seed(4)\n",
    "\n",
    "a = (np.random.random(size=(5, )) - 0.5) * 1e-7\n",
    "a,np.isclose(a, 0, atol=1e-6)"
   ]
  },
  {
   "cell_type": "markdown",
   "metadata": {},
   "source": [
    "#### Унарные операции над булевыми массивами"
   ]
  },
  {
   "cell_type": "code",
   "execution_count": null,
   "metadata": {},
   "outputs": [],
   "source": [
    "a = np.asarray([True, True, False, False, True])\n",
    "a"
   ]
  },
  {
   "cell_type": "markdown",
   "metadata": {},
   "source": [
    "Возвращает **True** если есть хотя бы один элемент **True**"
   ]
  },
  {
   "cell_type": "code",
   "execution_count": null,
   "metadata": {},
   "outputs": [],
   "source": [
    "a.any(), np.any(a)"
   ]
  },
  {
   "cell_type": "markdown",
   "metadata": {},
   "source": [
    "Возвращает **True** если все элементы **True**"
   ]
  },
  {
   "cell_type": "code",
   "execution_count": null,
   "metadata": {},
   "outputs": [],
   "source": [
    "a.all(), np.all(a)"
   ]
  },
  {
   "cell_type": "markdown",
   "metadata": {},
   "source": [
    "Методы `.all()` и `any()` можно применять и для многомерных массивов, передавая им оси вдоль которых требуется выполнять эти операции."
   ]
  },
  {
   "cell_type": "code",
   "execution_count": null,
   "metadata": {},
   "outputs": [],
   "source": [
    "a = np.asarray([[True, True,  False, False, True ],\n",
    "                [True, False, False, True,  False]])\n",
    "a, a.any(axis=0), a.all(axis=1)"
   ]
  },
  {
   "cell_type": "markdown",
   "metadata": {},
   "source": [
    "Логическое и побитовое отрицания. Синонимы для булевых массивов."
   ]
  },
  {
   "cell_type": "code",
   "execution_count": null,
   "metadata": {},
   "outputs": [],
   "source": [
    "np.logical_not(a), ~a"
   ]
  },
  {
   "cell_type": "markdown",
   "metadata": {},
   "source": [
    "##### Пример"
   ]
  },
  {
   "cell_type": "markdown",
   "metadata": {},
   "source": [
    "Получить строки массива, в которых есть хотя бы один $0$."
   ]
  },
  {
   "cell_type": "code",
   "execution_count": null,
   "metadata": {},
   "outputs": [],
   "source": [
    "np.random.seed(256)\n",
    "\n",
    "a = np.random.randint(-5, 5, size=(5, 5))\n",
    "\n",
    "a, (a == 0).any(axis=1), a[(a == 0).any(axis=1)]"
   ]
  },
  {
   "cell_type": "markdown",
   "metadata": {},
   "source": [
    "#### Бинарные операции над булевыми массивами"
   ]
  },
  {
   "cell_type": "markdown",
   "metadata": {},
   "source": [
    "Логические операции `and`, `or` и `xor`"
   ]
  },
  {
   "cell_type": "code",
   "execution_count": null,
   "metadata": {},
   "outputs": [],
   "source": [
    "a = np.asarray([True, True,  False, False, True ])\n",
    "b = np.asarray([True, False, False, True,  False])\n",
    "\n",
    "a, b"
   ]
  },
  {
   "cell_type": "code",
   "execution_count": null,
   "metadata": {},
   "outputs": [],
   "source": [
    "np.logical_and(a, b), np.logical_or(a, b), np.logical_xor(a, b)"
   ]
  },
  {
   "cell_type": "markdown",
   "metadata": {},
   "source": [
    "Побитовые операции `&`, `|` и `^`, являющиеся синонимами логических, при применении к булевым массивам реализованы двумя способами: через символы операций и через функции."
   ]
  },
  {
   "cell_type": "code",
   "execution_count": null,
   "metadata": {},
   "outputs": [],
   "source": [
    "a & b, a | b, a ^ b"
   ]
  },
  {
   "cell_type": "code",
   "execution_count": null,
   "metadata": {},
   "outputs": [],
   "source": [
    "np.bitwise_and(a, b),np.bitwise_or(a, b),np.bitwise_xor(a, b) #битовые функции"
   ]
  },
  {
   "cell_type": "markdown",
   "metadata": {},
   "source": [
    "Получите столбцы, в которых число положительных элементов больше числа отрицательных."
   ]
  },
  {
   "cell_type": "code",
   "execution_count": null,
   "metadata": {},
   "outputs": [],
   "source": [
    "np.random.seed(256)\n",
    "\n",
    "a = np.random.randint(-5, 5, size=(5, 5))\n",
    "\n",
    "a, (a == 0).any(axis=1), a[(a == 0).any(axis=1)]"
   ]
  },
  {
   "cell_type": "code",
   "execution_count": null,
   "metadata": {},
   "outputs": [],
   "source": [
    "a > 0,a < 0"
   ]
  },
  {
   "cell_type": "code",
   "execution_count": null,
   "metadata": {},
   "outputs": [],
   "source": [
    "a[:, (a > 0).sum(axis=0) > (a < 0).sum(axis=0)]\n",
    "#true конвертируется в 1 автоматически"
   ]
  },
  {
   "cell_type": "markdown",
   "metadata": {},
   "source": [
    "### Подпрограммы `NumPy` для работы с массивами"
   ]
  },
  {
   "cell_type": "markdown",
   "metadata": {},
   "source": [
    "#### Линейная алгебра"
   ]
  },
  {
   "cell_type": "code",
   "execution_count": null,
   "metadata": {},
   "outputs": [],
   "source": [
    "A = np.random.randint(0,5, size=(3, 2))\n",
    "B = np.random.randint(5,10, size=(2,3))\n",
    "A,B"
   ]
  },
  {
   "cell_type": "markdown",
   "metadata": {},
   "source": [
    "##### Произведение матриц"
   ]
  },
  {
   "cell_type": "code",
   "execution_count": null,
   "metadata": {},
   "outputs": [],
   "source": [
    "np.matmul(A, B)"
   ]
  },
  {
   "cell_type": "code",
   "execution_count": null,
   "metadata": {},
   "outputs": [],
   "source": [
    "A@B"
   ]
  },
  {
   "cell_type": "markdown",
   "metadata": {},
   "source": [
    "##### Скалярное произведение векторов и произведение матриц"
   ]
  },
  {
   "cell_type": "code",
   "execution_count": null,
   "metadata": {},
   "outputs": [],
   "source": [
    "a=np.random.randint(0,5, size=(4,))\n",
    "b=np.random.randint(5,10, size=(4,))\n",
    "a,b"
   ]
  },
  {
   "cell_type": "code",
   "execution_count": null,
   "metadata": {},
   "outputs": [],
   "source": [
    "np.dot(a, b), np.dot(A,B)"
   ]
  },
  {
   "cell_type": "markdown",
   "metadata": {},
   "source": [
    "Для работы с матрицами можно использовать класс `numpy.matrix`, в котором операция умножения реализуется как матричное умножение."
   ]
  },
  {
   "cell_type": "code",
   "execution_count": null,
   "metadata": {},
   "outputs": [],
   "source": [
    "C = np.asmatrix(A)#создается представление\n",
    "D = np.matrix(B)#создается новый массив\n",
    "A[0][0] = 12\n",
    "B[0][0] = 24\n",
    "\n",
    "C, D"
   ]
  },
  {
   "cell_type": "code",
   "execution_count": null,
   "metadata": {},
   "outputs": [],
   "source": [
    "F = C * D\n",
    "F"
   ]
  },
  {
   "cell_type": "markdown",
   "metadata": {},
   "source": [
    "Поэлементное возведение в квадрат"
   ]
  },
  {
   "cell_type": "code",
   "execution_count": null,
   "metadata": {},
   "outputs": [],
   "source": [
    "A,A ** 2"
   ]
  },
  {
   "cell_type": "markdown",
   "metadata": {},
   "source": [
    "Матричный квадрат"
   ]
  },
  {
   "cell_type": "code",
   "execution_count": null,
   "metadata": {},
   "outputs": [],
   "source": [
    "F,F ** 2"
   ]
  },
  {
   "cell_type": "code",
   "execution_count": null,
   "metadata": {},
   "outputs": [],
   "source": [
    "np.random.seed(512)\n",
    "\n",
    "A = np.random.randint(0,5, size=(3, 3))\n",
    "A"
   ]
  },
  {
   "cell_type": "markdown",
   "metadata": {},
   "source": [
    "##### Определитель"
   ]
  },
  {
   "cell_type": "code",
   "execution_count": null,
   "metadata": {},
   "outputs": [],
   "source": [
    "np.linalg.det(A)"
   ]
  },
  {
   "cell_type": "markdown",
   "metadata": {},
   "source": [
    "##### Обратная матрица"
   ]
  },
  {
   "cell_type": "code",
   "execution_count": null,
   "metadata": {},
   "outputs": [],
   "source": [
    "A1 = np.linalg.inv(A)\n",
    "A1"
   ]
  },
  {
   "cell_type": "code",
   "execution_count": null,
   "metadata": {},
   "outputs": [],
   "source": [
    "A @ A1, A1 @ A"
   ]
  },
  {
   "cell_type": "markdown",
   "metadata": {},
   "source": [
    "##### Решение линейных систем $Ax=b$"
   ]
  },
  {
   "cell_type": "code",
   "execution_count": null,
   "metadata": {},
   "outputs": [],
   "source": [
    "b = np.array([1, -2, 1], dtype=np.float64)\n",
    "A,b"
   ]
  },
  {
   "cell_type": "code",
   "execution_count": null,
   "metadata": {},
   "outputs": [],
   "source": [
    "x = np.linalg.solve(A, b)\n",
    "x"
   ]
  },
  {
   "cell_type": "markdown",
   "metadata": {},
   "source": [
    "Проверка"
   ]
  },
  {
   "cell_type": "code",
   "execution_count": null,
   "metadata": {},
   "outputs": [],
   "source": [
    "A @ x - b"
   ]
  },
  {
   "cell_type": "markdown",
   "metadata": {},
   "source": [
    "##### Собственные числа и собственные векторы"
   ]
  },
  {
   "cell_type": "markdown",
   "metadata": {},
   "source": [
    "$$\n",
    "    Av_k=\\lambda_k v_k,\\quad \\lambda_k\\neq 0\n",
    "$$\n",
    "- $\\lambda_k$ $-$ собственные числа;\n",
    "- $v_k$ $-$ собственные векторы."
   ]
  },
  {
   "cell_type": "code",
   "execution_count": null,
   "metadata": {},
   "outputs": [],
   "source": [
    "lam, V = np.linalg.eig(A)\n",
    "lam, V"
   ]
  },
  {
   "cell_type": "markdown",
   "metadata": {},
   "source": [
    "- `lam` $-$ одномерный массив собственных значений;\n",
    "\n",
    "- `V` $-$ массив собственных векторов."
   ]
  },
  {
   "cell_type": "markdown",
   "metadata": {},
   "source": [
    "##### Пример"
   ]
  },
  {
   "cell_type": "markdown",
   "metadata": {},
   "source": [
    "Найти решение задачи регрессии\n",
    "$\n",
    "    X = \\left(\\begin{array}{cc}\n",
    "        3 & 4\\\\\n",
    "        2 & 7\\\\\n",
    "        1 & 5\\\\\n",
    "    \\end{array}\\right)\n",
    "$,\n",
    "$y = \\left(\\begin{array}{c}\n",
    "        1\\\\\n",
    "        4\\\\\n",
    "        2\\\\\n",
    "    \\end{array}\\right)$\n",
    "по формуле $\\widehat{w}=(X^T\\cdot X + \\lambda E)^{-1}X^T y$, в которой $E$ $-$ единичная матрица размера $2$, коэффициент регуляризации $\\lambda=0.01$."
   ]
  },
  {
   "cell_type": "code",
   "execution_count": null,
   "metadata": {},
   "outputs": [],
   "source": [
    "X = np.array([[3, 4], [2, 7], [1, 5]])\n",
    "y = np.array([1, 4, 2])\n",
    "E = np.eye(2)\n",
    "lam = 0.01\n",
    "w = np.linalg.inv(X.T @ X + lam * E) @ X.T @ y\n",
    "w"
   ]
  },
  {
   "cell_type": "markdown",
   "metadata": {},
   "source": [
    "#### Генерация случайных чисел"
   ]
  },
  {
   "cell_type": "markdown",
   "metadata": {},
   "source": [
    "Генерация массива из $10$ псевдослучайных чисел распределенных в отрезке $[0,1]$"
   ]
  },
  {
   "cell_type": "code",
   "execution_count": null,
   "metadata": {},
   "outputs": [],
   "source": [
    "np.random.rand(10)"
   ]
  },
  {
   "cell_type": "markdown",
   "metadata": {},
   "source": [
    "Генерация от $0$ до $10$, массив из $10$ элементов"
   ]
  },
  {
   "cell_type": "code",
   "execution_count": null,
   "metadata": {},
   "outputs": [],
   "source": [
    "np.random.randint(0, 10, 10)"
   ]
  },
  {
   "cell_type": "markdown",
   "metadata": {},
   "source": [
    "Перестановка из 10 элементов"
   ]
  },
  {
   "cell_type": "code",
   "execution_count": null,
   "metadata": {},
   "outputs": [],
   "source": [
    "np.random.permutation(10)"
   ]
  },
  {
   "cell_type": "markdown",
   "metadata": {},
   "source": [
    "Выбор $10$ элементов из $0$, $\\dots$, $10$"
   ]
  },
  {
   "cell_type": "code",
   "execution_count": null,
   "metadata": {},
   "outputs": [],
   "source": [
    "np.random.choice(10, size=10)\n",
    "#выбор из подмножества на каждом шаге"
   ]
  },
  {
   "cell_type": "markdown",
   "metadata": {},
   "source": [
    "#### Сортировка"
   ]
  },
  {
   "cell_type": "code",
   "execution_count": null,
   "metadata": {},
   "outputs": [],
   "source": [
    "np.random.seed(2048)\n",
    "\n",
    "a = np.random.choice(10, size=(3, 10))\n",
    "a"
   ]
  },
  {
   "cell_type": "markdown",
   "metadata": {},
   "source": [
    "Возврат отсортированного массива"
   ]
  },
  {
   "cell_type": "code",
   "execution_count": null,
   "metadata": {},
   "outputs": [],
   "source": [
    "np.sort(a.ravel())"
   ]
  },
  {
   "cell_type": "markdown",
   "metadata": {},
   "source": [
    "Сортировка элементов массива вдоль `axis=0`"
   ]
  },
  {
   "cell_type": "code",
   "execution_count": null,
   "metadata": {},
   "outputs": [],
   "source": [
    "a.sort(axis=0)\n",
    "a"
   ]
  },
  {
   "cell_type": "markdown",
   "metadata": {},
   "source": [
    "Сортировка элементов массива вдоль `axis=1`"
   ]
  },
  {
   "cell_type": "code",
   "execution_count": null,
   "metadata": {},
   "outputs": [],
   "source": [
    "a.sort(axis=1)\n",
    "a"
   ]
  },
  {
   "cell_type": "code",
   "execution_count": null,
   "metadata": {},
   "outputs": [],
   "source": [
    "np.random.seed(32)\n",
    "\n",
    "a = np.random.choice(10, size=(3, 10))\n",
    "a"
   ]
  },
  {
   "cell_type": "markdown",
   "metadata": {},
   "source": [
    "Массивы перестановок индексов (на соответствующих позициях указаны номера элементов, которые необходимо переставить на нее при сортировке), при сортировке по вертикали и по горизонтали."
   ]
  },
  {
   "cell_type": "code",
   "execution_count": null,
   "metadata": {
    "scrolled": true
   },
   "outputs": [],
   "source": [
    "a, a.argsort(axis=0), a.argsort(axis=1)"
   ]
  },
  {
   "cell_type": "markdown",
   "metadata": {},
   "source": [
    "#### Получение уникальных элементов"
   ]
  },
  {
   "cell_type": "code",
   "execution_count": null,
   "metadata": {},
   "outputs": [],
   "source": [
    "a,np.unique(a)"
   ]
  },
  {
   "cell_type": "markdown",
   "metadata": {},
   "source": [
    "## Библиотека `SciPy`"
   ]
  },
  {
   "cell_type": "markdown",
   "metadata": {},
   "source": [
    "Пакет `SciPy` построен на базе низкоуровневой библиотеки `NumPy` для многомерных массивов и предоставляет большое количество научных алгоритмов более высокого уровня. Вот некоторые из разделов математики, подпрограммы для численного анализа в которых охватывает `SciPy`:\n",
    "\n",
    "* Специальные функции ([scipy.special] (http://docs.scipy.org/doc/scipy/reference/special.html))\n",
    "* Интегрирование и решение дифференциальных уравнений ([scipy.integrate] (http://docs.scipy.org/doc/scipy/reference/integrate.html))\n",
    "* Оптимизация ([scipy.optimize] (http://docs.scipy.org/doc/scipy/reference/optimize.html))\n",
    "* Интерполяция ([scipy.interpolate] (http://docs.scipy.org/doc/scipy/reference/interpolate.html))\n",
    "* Преобразования Фурье ([scipy.fftpack] (http://docs.scipy.org/doc/scipy/reference/fftpack.html))\n",
    "* Обработка сигналов ([scipy.signal] (http://docs.scipy.org/doc/scipy/reference/signal.html))\n",
    "* Линейная алгебра ([scipy.linalg] (http://docs.scipy.org/doc/scipy/reference/linalg.html))\n",
    "* Проблемы с разреженными собственными значениями ([scipy.sparse] (http://docs.scipy.org/doc/scipy/reference/sparse.html))\n",
    "* Статистика ([scipy.stats] (http://docs.scipy.org/doc/scipy/reference/stats.html))\n",
    "* Обработка многомерных изображений ([scipy.ndimage] (http://docs.scipy.org/doc/scipy/reference/ndimage.html))\n",
    "* Файловый ввод-вывод ([scipy.io] (http://docs.scipy.org/doc/scipy/reference/io.html))\n",
    "\n",
    "Далее, мы рассмотрим, как использовать часть данного математического обеспечения.\n",
    "\n",
    "Чтобы получить доступ к пакету `SciPy` в `Python`, мы начинаем с импорта всего из модуля `scipy`."
   ]
  },
  {
   "cell_type": "code",
   "execution_count": null,
   "metadata": {},
   "outputs": [],
   "source": [
    "import scipy\n",
    "\n",
    "scipy.__version__"
   ]
  },
  {
   "cell_type": "markdown",
   "metadata": {},
   "source": [
    "### Интегрирование"
   ]
  },
  {
   "cell_type": "code",
   "execution_count": null,
   "metadata": {},
   "outputs": [],
   "source": [
    "from scipy.integrate import quad, dblquad, tplquad"
   ]
  },
  {
   "cell_type": "markdown",
   "metadata": {},
   "source": [
    "Численное вычисление определенного интеграла\n",
    "$$\n",
    "    \\displaystyle \\int_a^b f(x) dx\n",
    "$$\n",
    "называется *числовой квадратурой* или просто *квадратурой*. `SciPy` предоставляет ряд функций для различных видов *квадратур*, например, `quad`, `dblquad` и `tplquad` для одиночных, двойных и тройных интегралов соответственно. "
   ]
  },
  {
   "cell_type": "code",
   "execution_count": null,
   "metadata": {},
   "outputs": [],
   "source": [
    "f = lambda x: np.exp(-x**2)\n",
    "a = 0; b = 1\n",
    "\n",
    "integr, abs_err = quad(f, a, b)\n",
    "print(f\"Значение {integr}, абсолютная погрешность {abs_err}\")"
   ]
  },
  {
   "cell_type": "markdown",
   "metadata": {},
   "source": [
    "При необходимости передать дополнительные аргументы используется кортеж `args`, передаваемый функции `quad()`"
   ]
  },
  {
   "cell_type": "code",
   "execution_count": null,
   "metadata": {},
   "outputs": [],
   "source": [
    "f = lambda x,n: x**n\n",
    "\n",
    "a = 0; b = 1\n",
    "\n",
    "integr, abs_err = quad(f, a, b, args=(3,))\n",
    "\n",
    "print(f\"Значение {integr}, абсолютная погрешность {abs_err}\")"
   ]
  },
  {
   "cell_type": "markdown",
   "metadata": {},
   "source": [
    "Кратные интегралы реализуются по схожей схеме."
   ]
  },
  {
   "cell_type": "code",
   "execution_count": null,
   "metadata": {},
   "outputs": [],
   "source": [
    "f = lambda x,y: np.exp(-x**2-y**2)\n",
    "\n",
    "integr, abs_err = dblquad(f, -np.Inf, np.Inf, lambda x : -np.Inf, lambda x: x)\n",
    "print(f\"Значение {integr}, абсолютная погрешность {abs_err}\")"
   ]
  },
  {
   "cell_type": "markdown",
   "metadata": {},
   "source": [
    "`SciPy` предоставляет два разных способа решения дифференциальных уравнений: в императивном подходе, основанном на функции `odeint`, и объектно-ориентированный подходе, основанном на классе `ode`.\n",
    "\n",
    "Мы будем использовать функцию `odeint`. Для получения информации о классе `ode` можно выполнить `help(ode)`. Объекты этого класса делают почти то же самое, что и `odeint`, но в рамках объектно-ориентированной парадигмы.\n",
    "\n",
    "Чтобы использовать `odeint`, сначала необходимо импортировать его из модуля `scipy.integrate`."
   ]
  },
  {
   "cell_type": "code",
   "execution_count": null,
   "metadata": {},
   "outputs": [],
   "source": [
    "from scipy.integrate import odeint, ode"
   ]
  },
  {
   "cell_type": "markdown",
   "metadata": {},
   "source": [
    "Система записывается в нормальной форме\n",
    "$$\n",
    "    y′ = f(y,t)\n",
    "$$\n",
    "где\n",
    "$y = [y_1(t), y_2(t), \\dots, y_n(t)]$ и $f$ $-$ некоторая функция описывающая правую часть системы. Чтобы решить систему дифференциальных уравнений, необходимо задать функцию $f$ и начальные условия $y(0)$.\n",
    "\n",
    "После определения функции `Python` f и массива $y_0$ (для описания $f(y,t)$ и $y(0)$), можно использовать функцию `odeint`:\n",
    "\n",
    "y_t = odeint(f, y_0, t)\n",
    "\n",
    "где $t$ $-$ массив с координатами времени, для которых необходимо решить задачу Коши. y_t - это массив с одной строкой для каждого момента времени в $t$, где каждый столбец соответствует решению $y_i(t)$ в этот момент времени."
   ]
  },
  {
   "cell_type": "markdown",
   "metadata": {},
   "source": [
    "#### Пример. Затухающий осцилятор"
   ]
  },
  {
   "cell_type": "markdown",
   "metadata": {},
   "source": [
    "Уравнение затухающего осциллятора:\n",
    "\n",
    "$$\n",
    "    \\displaystyle\\frac{\\mathrm{d}^2 x} {\\mathrm{d} t^2} + 2\\zeta\\omega_0 \\frac{\\mathrm{d} x} {\\mathrm{d} t} + \\omega^2_0x = 0\n",
    "$$\n",
    "\n",
    "где $x$ $-$ положение осциллятора, $\\omega_0$ $-$ частота, а $\\zeta$ $-$ коэффициент затухания. Чтобы записать это дифференциальное уравнение второго порядка в нормальной форме, введем $p = \\frac{\\mathrm{d} x}{\\mathrm{d} t}$:\n",
    "\n",
    "$\\displaystyle\\frac{\\mathrm{d} p}{\\mathrm{d} t} = -2\\zeta\\omega_0 p - \\omega^2_0 x$\n",
    "\n",
    "$\\displaystyle\\frac{\\mathrm{d}x}{\\mathrm{d}t} = p$"
   ]
  },
  {
   "cell_type": "code",
   "execution_count": null,
   "metadata": {},
   "outputs": [],
   "source": [
    "def f(y, t, zeta, w0):\n",
    "    \"\"\"\n",
    "    Правая часть уравнения\n",
    "    \"\"\"\n",
    "    x, p = y[0], y[1]\n",
    "    \n",
    "    dx = p\n",
    "    dp = -2 * zeta * w0 * p - w0**2 * x\n",
    "\n",
    "    return [dx, dp]"
   ]
  },
  {
   "cell_type": "code",
   "execution_count": null,
   "metadata": {},
   "outputs": [],
   "source": [
    "# начальные условия\n",
    "y0 = [1.0, 0.0]"
   ]
  },
  {
   "cell_type": "code",
   "execution_count": null,
   "metadata": {},
   "outputs": [],
   "source": [
    "#сетка по времени для интегрирования\n",
    "t = np.linspace(0, 10, 1000)\n",
    "w0 = 2*np.pi*1.0"
   ]
  },
  {
   "cell_type": "code",
   "execution_count": null,
   "metadata": {},
   "outputs": [],
   "source": [
    "#Решение задачи Коши для различных значений коэффициента демпфирования\n",
    "\n",
    "y1 = odeint(f, y0, t, args=(0.0, w0)) # undamped\n",
    "y2 = odeint(f, y0, t, args=(0.2, w0)) # under damped\n",
    "y3 = odeint(f, y0, t, args=(1.0, w0)) # critial damping\n",
    "y4 = odeint(f, y0, t, args=(5.0, w0)) # over damped"
   ]
  },
  {
   "cell_type": "code",
   "execution_count": null,
   "metadata": {},
   "outputs": [],
   "source": [
    "%matplotlib inline\n",
    "import matplotlib.pyplot as plt\n",
    "from IPython.display import Image"
   ]
  },
  {
   "cell_type": "code",
   "execution_count": null,
   "metadata": {},
   "outputs": [],
   "source": [
    "fig, ax = plt.subplots()\n",
    "ax.plot(t, y1[:,0], 'k', label=\"незатухающий\", linewidth=0.25)\n",
    "ax.plot(t, y2[:,0], 'r', label=\"демпфирование\")\n",
    "ax.plot(t, y3[:,0], 'b', label=\"критическое затухание\")\n",
    "ax.plot(t, y4[:,0], 'g', label=\"чрезмерное демпфирование\")\n",
    "ax.legend();"
   ]
  },
  {
   "cell_type": "markdown",
   "metadata": {},
   "source": [
    "### Оптимизация"
   ]
  },
  {
   "cell_type": "markdown",
   "metadata": {},
   "source": [
    "Оптимизация (поиск экстемумов функции) $-$ важная область математики. Задача многомерной оптимизации может быть достаточно непростой. Рассмотрим только несколько очень простых случаев. "
   ]
  },
  {
   "cell_type": "markdown",
   "metadata": {},
   "source": [
    "Чтобы использовать модуль оптимизации в `scipy`, необходим модуль `optimize`:"
   ]
  },
  {
   "cell_type": "code",
   "execution_count": null,
   "metadata": {},
   "outputs": [],
   "source": [
    "from scipy import optimize"
   ]
  },
  {
   "cell_type": "markdown",
   "metadata": {},
   "source": [
    "#### Нахождение минимального значения"
   ]
  },
  {
   "cell_type": "markdown",
   "metadata": {},
   "source": [
    "Минимум функции одной переменной"
   ]
  },
  {
   "cell_type": "code",
   "execution_count": null,
   "metadata": {},
   "outputs": [],
   "source": [
    "def f(x):\n",
    "    return 4*x**3 + (x-2)**2 + x**4"
   ]
  },
  {
   "cell_type": "code",
   "execution_count": null,
   "metadata": {
    "scrolled": true
   },
   "outputs": [],
   "source": [
    "fig, ax  = plt.subplots()\n",
    "x = np.linspace(-5, 3, 100)\n",
    "ax.plot(x, f(x));"
   ]
  },
  {
   "cell_type": "markdown",
   "metadata": {},
   "source": [
    "Для нахождения минимума функции используется `fmin_bfgs`."
   ]
  },
  {
   "cell_type": "code",
   "execution_count": null,
   "metadata": {},
   "outputs": [],
   "source": [
    "x_min = optimize.fmin_bfgs(f, -2)\n",
    "x_min "
   ]
  },
  {
   "cell_type": "code",
   "execution_count": null,
   "metadata": {},
   "outputs": [],
   "source": [
    "optimize.fmin_bfgs(f, 0.5) "
   ]
  },
  {
   "cell_type": "markdown",
   "metadata": {},
   "source": [
    "Мы также можем использовать функции `brent()` или `fminbound()`. У них немного другой синтаксис и используют другие алгоритмы. "
   ]
  },
  {
   "cell_type": "code",
   "execution_count": null,
   "metadata": {},
   "outputs": [],
   "source": [
    "optimize.brent(f)"
   ]
  },
  {
   "cell_type": "code",
   "execution_count": null,
   "metadata": {},
   "outputs": [],
   "source": [
    "optimize.fminbound(f, -4, 2)"
   ]
  },
  {
   "cell_type": "markdown",
   "metadata": {},
   "source": [
    "#### Нахождение корней функции"
   ]
  },
  {
   "cell_type": "markdown",
   "metadata": {},
   "source": [
    "Для нахождения корней функции $f(x)=0$ используется функция `fsolve()`, которая требует начального приближения."
   ]
  },
  {
   "cell_type": "code",
   "execution_count": null,
   "metadata": {},
   "outputs": [],
   "source": [
    "def f(x):\n",
    "    return np.tan(x) - 2.0/x"
   ]
  },
  {
   "cell_type": "code",
   "execution_count": null,
   "metadata": {},
   "outputs": [],
   "source": [
    "fig, ax  = plt.subplots(figsize=(10,4))\n",
    "x = np.linspace(-5, 5, 1000)\n",
    "y = f(x)\n",
    "mask = np.where(abs(y) > 50)\n",
    "x[mask] = y[mask] = np.NaN\n",
    "ax.plot(x, y)\n",
    "ax.plot([-5, 5], [0, 0], 'k')\n",
    "ax.set_ylim(-10,10)"
   ]
  },
  {
   "cell_type": "code",
   "execution_count": null,
   "metadata": {},
   "outputs": [],
   "source": [
    "optimize.fsolve(f, 0.1)"
   ]
  },
  {
   "cell_type": "code",
   "execution_count": null,
   "metadata": {},
   "outputs": [],
   "source": [
    "optimize.fsolve(f, 2)"
   ]
  },
  {
   "cell_type": "code",
   "execution_count": null,
   "metadata": {},
   "outputs": [],
   "source": [
    "optimize.fsolve(f, -4)"
   ]
  },
  {
   "cell_type": "markdown",
   "metadata": {},
   "source": [
    "### Интерполяция"
   ]
  },
  {
   "cell_type": "markdown",
   "metadata": {},
   "source": [
    "Интерполяция в `scipy` реализуется простой функцией `interp1d`, когда заданы массивы, описывающие данные $X$ и $Y$, возвращает и объект, который ведет себя как функция, которая может быть вызвана для произвольного значения $x$ (в диапазоне, охватываемом $X$), и возвращает соответствующее интерполированное значение $y$."
   ]
  },
  {
   "cell_type": "code",
   "execution_count": null,
   "metadata": {},
   "outputs": [],
   "source": [
    "from scipy.interpolate import *"
   ]
  },
  {
   "cell_type": "markdown",
   "metadata": {},
   "source": [
    "#### Примеры"
   ]
  },
  {
   "cell_type": "markdown",
   "metadata": {},
   "source": [
    "Построение линейной и кубической интерполяций функции $f(x)=\\sin{x}$ по $10$ точкам."
   ]
  },
  {
   "cell_type": "code",
   "execution_count": null,
   "metadata": {},
   "outputs": [],
   "source": [
    "def f(x):\n",
    "    return np.sin(x)"
   ]
  },
  {
   "cell_type": "code",
   "execution_count": null,
   "metadata": {},
   "outputs": [],
   "source": [
    "n = np.arange(0, 10)\n",
    "x = np.linspace(0, 9, 100)\n",
    "\n",
    "y_meas = f(n)\n",
    "y_real = f(x)\n",
    "\n",
    "linear_interpolation = interp1d(n, y_meas)\n",
    "y_interp1 = linear_interpolation(x)\n",
    "\n",
    "cubic_interpolation = interp1d(n, y_meas, kind='cubic')\n",
    "y_interp2 = cubic_interpolation(x)"
   ]
  },
  {
   "cell_type": "code",
   "execution_count": null,
   "metadata": {
    "scrolled": true
   },
   "outputs": [],
   "source": [
    "fig, ax = plt.subplots(figsize=(10,4))\n",
    "ax.plot(n, y_meas, 'bs', label='узлы')\n",
    "ax.plot(x, y_real, 'k', lw=2, label='функция')\n",
    "ax.plot(x, y_interp1, 'r', label='линейная интерполяция')\n",
    "ax.plot(x, y_interp2, 'g', label='кубическая интерполяция')\n",
    "ax.legend(loc=3)"
   ]
  },
  {
   "cell_type": "markdown",
   "metadata": {},
   "source": [
    "### Статистика"
   ]
  },
  {
   "cell_type": "markdown",
   "metadata": {},
   "source": [
    "Модуль `scipy.stats` содержит большое количество вероятностных распределений, статистических функций и тестов."
   ]
  },
  {
   "cell_type": "code",
   "execution_count": null,
   "metadata": {},
   "outputs": [],
   "source": [
    "from scipy import stats"
   ]
  },
  {
   "cell_type": "markdown",
   "metadata": {},
   "source": [
    "#### Пример"
   ]
  },
  {
   "cell_type": "markdown",
   "metadata": {},
   "source": [
    "Создать объект, описывающий дискретное случайное распределение Пуассона\n",
    "$$\n",
    "    P\\{X=k\\}=\\frac{\\lambda^k}{k!}e^{-\\lambda}\n",
    "$$\n",
    "с параметром $\\lambda=3.5$"
   ]
  },
  {
   "cell_type": "code",
   "execution_count": null,
   "metadata": {},
   "outputs": [],
   "source": [
    "X = stats.poisson(3.5)"
   ]
  },
  {
   "cell_type": "code",
   "execution_count": null,
   "metadata": {},
   "outputs": [],
   "source": [
    "n = np.arange(0,15)\n",
    "\n",
    "fig, axes = plt.subplots(3,1, sharex=True)\n",
    "\n",
    "# Построение ряда распределения\n",
    "axes[0].step(n, X.pmf(n))\n",
    "\n",
    "# Построение функции распределения\n",
    "axes[1].step(n, X.cdf(n))\n",
    "\n",
    "# Построение гистограмы 1000 случайных реализаций случайной величины\n",
    "axes[2].hist(X.rvs(size=1000))"
   ]
  },
  {
   "cell_type": "markdown",
   "metadata": {},
   "source": [
    "Создать объект, описывающий стандартное нормальное распределение."
   ]
  },
  {
   "cell_type": "code",
   "execution_count": null,
   "metadata": {},
   "outputs": [],
   "source": [
    "Y = stats.norm()"
   ]
  },
  {
   "cell_type": "code",
   "execution_count": null,
   "metadata": {
    "scrolled": true
   },
   "outputs": [],
   "source": [
    "x = np.linspace(-5,5,100)\n",
    "\n",
    "fig, axes = plt.subplots(3,1, sharex=True)\n",
    "\n",
    "# Построение плотности распределения вероятностей (PDF)\n",
    "axes[0].plot(x, Y.pdf(x))\n",
    "\n",
    "# Построение функции распределения вероятностей (CDF)\n",
    "axes[1].plot(x, Y.cdf(x));\n",
    "\n",
    "# Построение гистограмы 1000 случайных реализаций случайной величины\n",
    "axes[2].hist(Y.rvs(size=1000), bins=50);"
   ]
  },
  {
   "cell_type": "markdown",
   "metadata": {},
   "source": [
    "Распределение Пуассона."
   ]
  },
  {
   "cell_type": "code",
   "execution_count": null,
   "metadata": {},
   "outputs": [],
   "source": [
    "X.mean(), X.std(), X.var()"
   ]
  },
  {
   "cell_type": "markdown",
   "metadata": {},
   "source": [
    "Нормальное распределение."
   ]
  },
  {
   "cell_type": "code",
   "execution_count": null,
   "metadata": {},
   "outputs": [],
   "source": [
    "Y.mean(), Y.std(), Y.var()"
   ]
  },
  {
   "cell_type": "markdown",
   "metadata": {},
   "source": [
    "#### Статистические тесты"
   ]
  },
  {
   "cell_type": "markdown",
   "metadata": {},
   "source": [
    "#### Пример"
   ]
  },
  {
   "cell_type": "markdown",
   "metadata": {},
   "source": [
    "Проверка гипотезы о равенстве математических ожиданий двух независмых выборок с помощью критерия Стьюдента. Нулевая гипотеза: математические ожидания равны, конкурирующая гипотеза $-$ не равны."
   ]
  },
  {
   "cell_type": "code",
   "execution_count": null,
   "metadata": {},
   "outputs": [],
   "source": [
    "t_statistic, p_value = stats.ttest_ind(X.rvs(size=1000), X.rvs(size=1000))\n",
    "\n",
    "print(f\"t-statistic = {t_statistic}\")\n",
    "print(f\"p-value = {p_value}\")"
   ]
  },
  {
   "cell_type": "markdown",
   "metadata": {},
   "source": [
    "Поскольку значение $p>0.05$, мы принимаем гипотезу о равенстве средних значений."
   ]
  },
  {
   "cell_type": "markdown",
   "metadata": {},
   "source": [
    "Чтобы проверить, имеет ли среднее значение одной выборки данных среднее значение $0.1$ (истинное среднее значение равно $0.0$):"
   ]
  },
  {
   "cell_type": "code",
   "execution_count": null,
   "metadata": {},
   "outputs": [],
   "source": [
    "stats.ttest_1samp(Y.rvs(size=1000), 0.1)"
   ]
  },
  {
   "cell_type": "markdown",
   "metadata": {},
   "source": [
    "Малое значение $p$ означает, что мы можем отвергнуть гипотезу о том, что среднее значение $Y$ равно $0.1$."
   ]
  },
  {
   "cell_type": "code",
   "execution_count": null,
   "metadata": {},
   "outputs": [],
   "source": [
    "Y.mean()"
   ]
  },
  {
   "cell_type": "code",
   "execution_count": null,
   "metadata": {},
   "outputs": [],
   "source": [
    "stats.ttest_1samp(Y.rvs(size=1000), Y.mean())"
   ]
  },
  {
   "cell_type": "markdown",
   "metadata": {},
   "source": [
    "Значение $p$ велико, поэтому мы принимаем гипотезу о равенстве средних значений."
   ]
  }
 ],
 "metadata": {
  "kernelspec": {
   "display_name": "Python 3",
   "language": "python",
   "name": "python3"
  },
  "language_info": {
   "codemirror_mode": {
    "name": "ipython",
    "version": 3
   },
   "file_extension": ".py",
   "mimetype": "text/x-python",
   "name": "python",
   "nbconvert_exporter": "python",
   "pygments_lexer": "ipython3",
   "version": "3.8.3"
  }
 },
 "nbformat": 4,
 "nbformat_minor": 2
}
