{
 "cells": [
  {
   "cell_type": "markdown",
   "metadata": {},
   "source": [
    "![logo](img/oop.png)"
   ]
  },
  {
   "cell_type": "markdown",
   "metadata": {
    "slideshow": {
     "slide_type": "slide"
    }
   },
   "source": [
    "# Объектно-ориентированное программирование в Python"
   ]
  },
  {
   "cell_type": "markdown",
   "metadata": {
    "slideshow": {
     "slide_type": "slide"
    }
   },
   "source": [
    "## Содержание\n",
    "\n",
    "* Обзор основных парадигм программирования\n",
    "* Основные концепции объектно-ориентированного программирования\n",
    "* Разработка пользовательских классов в Python\n",
    "* Инкапсуляция\n",
    "* Наследование\n",
    "* Полиморфизм"
   ]
  },
  {
   "cell_type": "markdown",
   "metadata": {
    "slideshow": {
     "slide_type": "slide"
    }
   },
   "source": [
    "[Объектно-ориентированное программирование](https://ru.wikipedia.org/wiki/Объектно-ориентированное_программирование) это методология программирования, основанная на представлении программы в виде совокупности объектов."
   ]
  },
  {
   "cell_type": "markdown",
   "metadata": {
    "slideshow": {
     "slide_type": "slide"
    }
   },
   "source": [
    "**Определение.** Предметная область - часть реального мира, включающая только те предметы и понятия, которые имеют отношение к решаемой задаче."
   ]
  },
  {
   "cell_type": "markdown",
   "metadata": {
    "slideshow": {
     "slide_type": "-"
    }
   },
   "source": [
    "**Определение.** Парадигма программирования - понятийный аппарат, используемый для разработки программных моделей предметной области"
   ]
  },
  {
   "cell_type": "markdown",
   "metadata": {
    "slideshow": {
     "slide_type": "slide"
    }
   },
   "source": [
    "## Основные парадигмы программирования\n",
    "\n",
    "- Императивное (структурное) программирование\n",
    "- Объектно-ориентированное программирование\n",
    "- Функциональное программирование\n",
    "- Логическое программирование"
   ]
  },
  {
   "cell_type": "markdown",
   "metadata": {
    "slideshow": {
     "slide_type": "slide"
    }
   },
   "source": [
    "### Императивное программирование\n",
    "Предметная область рассматривается, как процесс воздействия на входные данные с целью их преобразования в выходные. Процесс обработки данных описывается в виде команд, изменяющих состояние программы\n",
    "\n",
    "Императивная программа похожа на приказы, выражаемые повелительным наклонением в естественных языках\n",
    "\n",
    "Языки программирования: `C`, `Pascal`, `Fortran`, `Algol`, `Basic` и т. д.\n"
   ]
  },
  {
   "cell_type": "markdown",
   "metadata": {
    "slideshow": {
     "slide_type": "slide"
    }
   },
   "source": [
    "### Объектно-ориентированное программирование\n",
    "\n",
    "Предметная область представляется в виде множества объектов взаимодействующих между собой.\n",
    "\n",
    "`Объект` - мыслимая или реальная сущность, обладающая характерным поведением и отличительными характеристиками, которая является важной для данной предметной области.\n",
    "\n",
    "Языки программирования: `C++`, `Object Pascal` (`Delphi`), `Java`, `Visual Basic.NET`, `C\\#`, `Python` и т. д."
   ]
  },
  {
   "cell_type": "markdown",
   "metadata": {
    "slideshow": {
     "slide_type": "slide"
    }
   },
   "source": [
    "В объектно-ориентированной парададигме определяются данные и код, которому разрешается воздействовать на эти данные. Программы написанные на подобных языках организованны вокруг данных исходя из принципа: \"данные управляют доступом к коду\"."
   ]
  },
  {
   "cell_type": "markdown",
   "metadata": {
    "slideshow": {
     "slide_type": "slide"
    }
   },
   "source": [
    "`Класс` - (пользовательский) тип данных, определяющий вид объекта. Класс описывает данные и код, который будет ими оперировать.\n",
    "\n",
    "Код и данные, определяемые классом, называются его `членами`.\n",
    "\n",
    "Данные, определяемые классом, называют `атрибутами`.\n",
    "\n",
    "`Методы` - части программного кода, определяемые классом и оперирующие атрибутами."
   ]
  },
  {
   "cell_type": "markdown",
   "metadata": {
    "slideshow": {
     "slide_type": "slide"
    }
   },
   "source": [
    "### Функциональное программирование\n",
    "\n",
    "Функциона́льное программи́рование $-$ парадигма программирования, в которой процесс вычисления трактуется как вычисление значений функций в математическом понимании последних (в отличие от функций как подпрограмм в процедурном программировании).\n",
    "\n",
    "Языки программирования:  `Common Lisp`, `Erlang`, `Haskell`, `Scheme`, `F#`, `R` (статистика), `Wolfram` (символьная математика)"
   ]
  },
  {
   "cell_type": "markdown",
   "metadata": {
    "slideshow": {
     "slide_type": "slide"
    }
   },
   "source": [
    "### Логическое программирование\n",
    "\n",
    "Логическое программирование $-$ парадигма программирования, основанная на автоматическом доказательстве теорем, а также раздел дискретной математики, изучающий принципы логического вывода информации на основе заданных фактов и правил вывода.\n",
    "\n",
    "Самым известным языком логического программирования является `Prolog`."
   ]
  },
  {
   "cell_type": "markdown",
   "metadata": {
    "slideshow": {
     "slide_type": "slide"
    }
   },
   "source": [
    "## Основные концепции ООП"
   ]
  },
  {
   "cell_type": "markdown",
   "metadata": {
    "slideshow": {
     "slide_type": "subslide"
    }
   },
   "source": [
    "### Инкапсуляция\n",
    "\n",
    "`Инкапсуляция` $-$ механизм программирования, объединяющий вместе методы и атрибуты, исключая как вмешательство извне, так и неправильное использование данных."
   ]
  },
  {
   "cell_type": "markdown",
   "metadata": {
    "slideshow": {
     "slide_type": "subslide"
    }
   },
   "source": [
    "#### Пример\n",
    "\n",
    "Можно определить класс `холодильник`, который будет содержать следующие данные: `производитель`, `объем`, `количество камер хранения`, `потребляемая мощность` и т.п., и методы: `открыть/закрыть холодильник`, `включить/выключить`, но при этом реализация того, как происходит непосредственно включение и выключение пользователю вашего класса не доступна, что позволяет ее менять без опасения, что это может отразиться на использующей класс «холодильник» программе. При этом класс становится новым типом данных в рамках разрабатываемой программы. Можно создавать переменные этого нового типа, такие переменные называются объекты."
   ]
  },
  {
   "cell_type": "markdown",
   "metadata": {
    "slideshow": {
     "slide_type": "subslide"
    }
   },
   "source": [
    "### Наследование\n",
    "\n",
    "`Наследование` $-$ процесс, в ходе которого один класс включает в себя и, вполследствии, конкретизирует другой класс. Благодаря наследованию поддерживается концепция иерархической классификации."
   ]
  },
  {
   "cell_type": "markdown",
   "metadata": {
    "slideshow": {
     "slide_type": "subslide"
    }
   },
   "source": [
    "#### Пример\n",
    "Яблоки сорта `Антоновка`, входят в классификацию сортов `яблок`, которые в свою очередь относятся к классу `фрукты`, а те $-$ к еще более крупному классу `пищевых продуктов`. Класс `пищевых продуктов` обладает свойствами (`съедобность`, `питательность` и пр.), которые распространяются и на `фрукты`. Помимо этих свойств, класс `фрукты` имеет специфические характеристики (`сочность`, `сладость` и пр.). В классе `яблок` определяются качества, специфичные для `яблок` (`растут на деревьях`, `не тропические` и пр.). Класс `Антоновка`,наследует качества всех предыдущих классов и при этом определяет качества, которые являются уникальными для этого сорта яблок."
   ]
  },
  {
   "cell_type": "markdown",
   "metadata": {
    "slideshow": {
     "slide_type": "subslide"
    }
   },
   "source": [
    "### Полиморфизм\n",
    "\n",
    "`Полиморфизм` - свойство, позволяющее одному интерфейсу получать доступ к множеству действий. Слово `полиморфизм` в греческом языке означает `множество форм`.  Это делает объекты ещё удобнее и облегчает расширение и поддержку программ, разработанных в рамках объектно-ориентированной парадигмы."
   ]
  },
  {
   "cell_type": "markdown",
   "metadata": {
    "slideshow": {
     "slide_type": "subslide"
    }
   },
   "source": [
    "#### Пример\n",
    "\n",
    "Руль (`интерфейс`) остается рулем независимо от того, какой тип рулевого механизма используется в автомобиле: автомобиль рулевым управлением прямого действия, рулевым управлением с гидроусилителем или электроусилителем. Достоинство такого единообразного интерфейса состоит в том, что, если вы знаете, как обращаться с `рулем`, вы сможете водить автомобиль с рулевым управлением любого типа."
   ]
  },
  {
   "cell_type": "markdown",
   "metadata": {
    "slideshow": {
     "slide_type": "subslide"
    }
   },
   "source": [
    "#### Пример\n",
    "\n",
    "Другим примером полиморфизма может служить функция `count()`, выполняющая одинаковое действие для различных типов обьектов: `'abc'.count('a')` и `[1, 2, 'a'].count('a')`. Оператор плюс полиморфичен при сложении чисел и при сложении строк.\n",
    "\n",
    "Объектный подход используют, когда нужно объединять функциональность в некоторую сущность со своими данными и методами работы с ними."
   ]
  },
  {
   "cell_type": "markdown",
   "metadata": {
    "slideshow": {
     "slide_type": "slide"
    }
   },
   "source": [
    "#### Примеры стандартных классов"
   ]
  },
  {
   "cell_type": "code",
   "execution_count": null,
   "metadata": {
    "slideshow": {
     "slide_type": "-"
    }
   },
   "outputs": [],
   "source": [
    "# Классы\n",
    "print(int)\n",
    "print(list)\n",
    "print(dict)\n",
    "\n",
    "# Проверка принадлежности к классу\n",
    "print(isinstance(12, int))\n",
    "print(isinstance([1, 2], list))\n",
    "print(isinstance({'a': 1}, dict))"
   ]
  },
  {
   "cell_type": "markdown",
   "metadata": {
    "slideshow": {
     "slide_type": "slide"
    }
   },
   "source": [
    "## Разработка пользовательских классов в Python\n",
    "\n",
    "Создание класса в Python начинается с инструкции `class`. Вот так будет выглядеть минимальный класс:"
   ]
  },
  {
   "cell_type": "code",
   "execution_count": null,
   "metadata": {
    "slideshow": {
     "slide_type": "-"
    }
   },
   "outputs": [],
   "source": [
    "class SpaceCraft():\n",
    "    \"\"\"\n",
    "        Класс для описания космического корабля\n",
    "        в компьютерной игре или физической симуляции.\n",
    "    \"\"\"  \n",
    "    pass"
   ]
  },
  {
   "cell_type": "markdown",
   "metadata": {
    "slideshow": {
     "slide_type": "slide"
    }
   },
   "source": [
    "Класс состоит из \n",
    "- объявления (инструкция `class`);\n",
    "- имени класса (нашем случае это имя `SpaceCraft`);\n",
    "- тела класса, которое содержит атрибуты и методы (в нашем минимальном классе есть только одна инструкция `pass`)."
   ]
  },
  {
   "cell_type": "markdown",
   "metadata": {
    "slideshow": {
     "slide_type": "slide"
    }
   },
   "source": [
    "### Создание объектов\n",
    "Чтобы создать объект класса необходимо воспользоваться следующим синтаксисом:"
   ]
  },
  {
   "cell_type": "code",
   "execution_count": null,
   "metadata": {
    "slideshow": {
     "slide_type": "-"
    }
   },
   "outputs": [],
   "source": [
    "voskhod = SpaceCraft()"
   ]
  },
  {
   "cell_type": "markdown",
   "metadata": {
    "slideshow": {
     "slide_type": "-"
    }
   },
   "source": [
    "Определив новый класс, можно создавать сколько угодно объектов на его основе. Как уже было сказано выше, такая структура данных может включать в себя некие `атрибуты`, то есть переменные, которыми будет наделен каждый экземпляр класса."
   ]
  },
  {
   "cell_type": "markdown",
   "metadata": {
    "slideshow": {
     "slide_type": "slide"
    }
   },
   "source": [
    "### Статические и динамические атрибуты класса\n",
    "\n",
    "`Атрибут` может быть\n",
    "- статическим;\n",
    "- динамическим.\n",
    "\n",
    "Для работы со статическим атрибутом, не требуется создание объекта, а для работы с динамическим $-$ требуется."
   ]
  },
  {
   "cell_type": "code",
   "execution_count": null,
   "metadata": {
    "slideshow": {
     "slide_type": "slide"
    }
   },
   "outputs": [],
   "source": [
    "class SpaceCraft():\n",
    "    default_carrier = \"Р7\"\n",
    "    \n",
    "    def __init__(self, carrier, model, сrew_capacity):\n",
    "        if carrier == None:\n",
    "            self.carrier = SpaceCraft.default_carrier\n",
    "        else:\n",
    "            self.carrier = carrier\n",
    "            \n",
    "        self.model = model\n",
    "        self.сrew_capacity = сrew_capacity"
   ]
  },
  {
   "cell_type": "markdown",
   "metadata": {
    "slideshow": {
     "slide_type": "subslide"
    }
   },
   "source": [
    "В представленном выше классе, атрибут default_carrier $-$ это статический атрибут, и доступ к нему, как было сказано выше, можно получить не создавая объект класса `SpaceCraft`"
   ]
  },
  {
   "cell_type": "code",
   "execution_count": null,
   "metadata": {
    "slideshow": {
     "slide_type": "-"
    }
   },
   "outputs": [],
   "source": [
    "SpaceCraft.default_carrier"
   ]
  },
  {
   "cell_type": "markdown",
   "metadata": {
    "slideshow": {
     "slide_type": "subslide"
    }
   },
   "source": [
    "`carrier`, `model` и `сrew_capacity` $-$ это динамические атрибуты, при их создании было использовано ключевое слово `self`. Про `self` и конструктор `def __init__` будет рассказано далее. Также обратите внимание на то, что внутри класса мы используем статический атрибут `default_carrier` для присвоения ракеты носителя по умолчанию."
   ]
  },
  {
   "cell_type": "markdown",
   "metadata": {
    "slideshow": {
     "slide_type": "subslide"
    }
   },
   "source": [
    "Для доступа к `carrier`, `model` и `сrew_capacity` предварительно нужно создать объект класса SpaceCraft:"
   ]
  },
  {
   "cell_type": "code",
   "execution_count": null,
   "metadata": {
    "slideshow": {
     "slide_type": "-"
    }
   },
   "outputs": [],
   "source": [
    "voskhod = SpaceCraft(None,\"Восход\", 2)\n",
    "print(voskhod.model)\n",
    "print(voskhod.carrier)\n",
    "print(voskhod.сrew_capacity)"
   ]
  },
  {
   "cell_type": "markdown",
   "metadata": {
    "slideshow": {
     "slide_type": "subslide"
    }
   },
   "source": [
    "Если обратиться к атрибуту через класс, то получим ошибку:"
   ]
  },
  {
   "cell_type": "code",
   "execution_count": null,
   "metadata": {
    "slideshow": {
     "slide_type": "-"
    }
   },
   "outputs": [],
   "source": [
    "SpaceCraft.model"
   ]
  },
  {
   "cell_type": "markdown",
   "metadata": {
    "slideshow": {
     "slide_type": "slide"
    }
   },
   "source": [
    "### Замечание\n",
    "*Статический атрибут* $-$ это стандартный атрибут класса, который общий для всех объектов этого класса."
   ]
  },
  {
   "cell_type": "code",
   "execution_count": null,
   "metadata": {
    "slideshow": {
     "slide_type": "-"
    }
   },
   "outputs": [],
   "source": [
    "SpaceCraft.default_carrier = \"Союз\""
   ]
  },
  {
   "cell_type": "code",
   "execution_count": null,
   "metadata": {
    "slideshow": {
     "slide_type": "-"
    }
   },
   "outputs": [],
   "source": [
    "SpaceCraft.default_carrier"
   ]
  },
  {
   "cell_type": "markdown",
   "metadata": {
    "slideshow": {
     "slide_type": "slide"
    }
   },
   "source": [
    "Создадим два объекта класса `SpaceCraft` и проверим, что `default_carrier` у них совпадает:"
   ]
  },
  {
   "cell_type": "code",
   "execution_count": null,
   "metadata": {
    "slideshow": {
     "slide_type": "-"
    }
   },
   "outputs": [],
   "source": [
    "bion = SpaceCraft(None,\"\",0)\n",
    "progress = SpaceCraft(None,\"Прогресс\", 4)"
   ]
  },
  {
   "cell_type": "code",
   "execution_count": null,
   "metadata": {
    "slideshow": {
     "slide_type": "-"
    }
   },
   "outputs": [],
   "source": [
    "bion.default_carrier"
   ]
  },
  {
   "cell_type": "code",
   "execution_count": null,
   "metadata": {
    "slideshow": {
     "slide_type": "-"
    }
   },
   "outputs": [],
   "source": [
    "progress.default_carrier"
   ]
  },
  {
   "cell_type": "markdown",
   "metadata": {
    "slideshow": {
     "slide_type": "slide"
    }
   },
   "source": [
    "Если поменять значение `default_carrier` через имя класса `SpaceCraft`, то все будет ожидаемо: у объектов `bion` и `progress` это значение изменится, но если поменять его через экземпляр класса, то у экземпляра будет создан атрибут с таким же именем как статический, а доступ к последнему будет потерян:"
   ]
  },
  {
   "cell_type": "code",
   "execution_count": null,
   "metadata": {
    "slideshow": {
     "slide_type": "-"
    }
   },
   "outputs": [],
   "source": [
    "bion.default_carrier = \"Молния\"\n",
    "bion.default_carrier"
   ]
  },
  {
   "cell_type": "markdown",
   "metadata": {
    "slideshow": {
     "slide_type": "subslide"
    }
   },
   "source": [
    "А у `progress` и класса `SpaceCraft` все останется по-прежнему:"
   ]
  },
  {
   "cell_type": "code",
   "execution_count": null,
   "metadata": {
    "slideshow": {
     "slide_type": "-"
    }
   },
   "outputs": [],
   "source": [
    "progress.default_carrier"
   ]
  },
  {
   "cell_type": "code",
   "execution_count": null,
   "metadata": {
    "slideshow": {
     "slide_type": "-"
    }
   },
   "outputs": [],
   "source": [
    "SpaceCraft.default_carrier"
   ]
  },
  {
   "cell_type": "markdown",
   "metadata": {
    "slideshow": {
     "slide_type": "slide"
    }
   },
   "source": [
    "### Параметр self\n",
    "\n",
    "Параметр `self` предназначен для передачи методу ссылки на вызывающий его объект. При вызове, методу неявно передается ссылка на вызывающий объект, значение которой записывается в переменную `self`. Благодаря этой ссылке, обеспечивается возможность обращения внутреннего кода метода к членам вызывающего его объекта."
   ]
  },
  {
   "cell_type": "code",
   "execution_count": null,
   "metadata": {
    "slideshow": {
     "slide_type": "slide"
    }
   },
   "outputs": [],
   "source": [
    "class SpaceCraft():\n",
    "    default_carrier = \"Р7\"\n",
    "    \n",
    "    def __init__(self, carrier, model, сrew_capacity):\n",
    "        if carrier == None:\n",
    "            self.carrier = SpaceCraft.default_carrier\n",
    "        else:\n",
    "            self.carrier = carrier\n",
    "            \n",
    "        self.model = model\n",
    "        self.сrew_capacity = сrew_capacity\n",
    "        \n",
    "progress = SpaceCraft('Союз',\"Прогресс\",0)\n",
    "progress.carrier"
   ]
  },
  {
   "cell_type": "markdown",
   "metadata": {
    "slideshow": {
     "slide_type": "slide"
    }
   },
   "source": [
    "Если в качестве первого параметра не будет указано `self`, то при попытке создать класс, будет сгенерировано исключение:"
   ]
  },
  {
   "cell_type": "code",
   "execution_count": null,
   "metadata": {},
   "outputs": [],
   "source": [
    "class SpaceCraft():\n",
    "    def __init__():\n",
    "        print('Battlecruiser operational!')\n",
    "        \n",
    "battlecruiser = SpaceCraft()"
   ]
  },
  {
   "cell_type": "markdown",
   "metadata": {
    "slideshow": {
     "slide_type": "notes"
    }
   },
   "source": [
    "В этом примере конструктор (или метод) не имеет ссылки на объект, к которому он обращается, а `self` передает ему интерфейс вызова того экземпляра, в котором он создается (или вызывается)."
   ]
  },
  {
   "cell_type": "markdown",
   "metadata": {
    "slideshow": {
     "slide_type": "slide"
    }
   },
   "source": [
    "### Конструктор\n",
    "\n",
    "Обычно при создании класса, нам хочется его сразу инициализировать некоторыми данными. Например, когда мы создадем список `a = []`, мы можем сразу передать в него некоторые значения $-$ `a = [1,2,3,4,5]`. Точно также можно сделать с пользовательскими классами. Для этой цели в ООП используется специальный метод-конструктор, принимающий необходимые параметры. До этого мы уже создавали его в нашем классе:"
   ]
  },
  {
   "cell_type": "code",
   "execution_count": null,
   "metadata": {
    "slideshow": {
     "slide_type": "slide"
    }
   },
   "outputs": [],
   "source": [
    "class SpaceCraft():\n",
    "    default_carrier = \"Р7\"\n",
    "    \n",
    "    def __init__(self, carrier, model, сrew_capacity):\n",
    "        if carrier == None:\n",
    "            self.carrier = SpaceCraft.default_carrier\n",
    "        else:\n",
    "            self.carrier = carrier\n",
    "            \n",
    "        self.model = model\n",
    "        self.сrew_capacity = сrew_capacity\n",
    "        \n",
    "vostok = SpaceCraft(None,\"Восток\",1)\n",
    "\n",
    "print(\"Космический корабль \" + \n",
    "      vostok.model + \" с \" + str(vostok.сrew_capacity) + \n",
    "      \" космонавтом запущен ракетой-носителем \" + vostok.carrier)"
   ]
  },
  {
   "cell_type": "markdown",
   "metadata": {
    "slideshow": {
     "slide_type": "-"
    }
   },
   "source": [
    "Для имени конструктора зарезервирован идентификатор `__init__`. Получаемые им параметры можно присвоить полям будущего объекта, воспользовавшись ключевым словом `self`."
   ]
  },
  {
   "cell_type": "markdown",
   "metadata": {
    "slideshow": {
     "slide_type": "notes"
    }
   },
   "source": [
    "Несмотря на то, что конструктор представляет собой метод, вызвать его явным образом нельзя. Вместо этого он автоматически срабатывает каждый раз, когда программа создает новый экземпляр класса, членом которого он является. Имя у каждого конструктора задается в виде идентификатора `__init__`. Получаемые им параметры можно присвоить полям будущего объекта, воспользовавшись ключевым словом `self`, как в вышеописанном примере.\n",
    "\n",
    "Например, класс `SpaceCraft` содержит три поля: `carrier` (ракета-носитель), `model` (модель) и `сrew_capacity` (количество членов экипажа). Конструктор принимает параметры для изменения этих свойств во время инициализации нового объекта. Каждый класс содержит в себе по крайней мере один конструктор по умолчанию, если ни одного из них не было задано явно (т.е. если мы не создадим конструктор в нашем классе, то будет использован пустой конструктор по умолчанию и объекты класса все равно можно будет создавать). "
   ]
  },
  {
   "cell_type": "markdown",
   "metadata": {
    "slideshow": {
     "slide_type": "slide"
    }
   },
   "source": [
    "### Методы\n",
    "\n",
    "*Метод* $-$ это подпрограмма, находящаяся внутри класса и выполняющая определенную работу.\n",
    "\n",
    "*Методы* бывают\n",
    "- статическими `@staticmethod`;\n",
    "- уровня класса `@classmethod`, первым аргументом передается `cls` (ссылка на вызывающий класс);\n",
    "- уровня объекта (по умолчанию будем называть их методами), первым аргументом передается `self`."
   ]
  },
  {
   "cell_type": "markdown",
   "metadata": {
    "slideshow": {
     "slide_type": "slide"
    }
   },
   "source": [
    "#### Пример"
   ]
  },
  {
   "cell_type": "code",
   "execution_count": null,
   "metadata": {
    "slideshow": {
     "slide_type": "-"
    }
   },
   "outputs": [],
   "source": [
    "class SpaceCraft:\n",
    "    \n",
    "    @staticmethod\n",
    "    def ex_static_method():\n",
    "        print(\"static method\")\n",
    "        \n",
    "    @classmethod\n",
    "    def ex_class_method(cls):\n",
    "        print(\"class method\")\n",
    "        \n",
    "    def ex_method(self):\n",
    "        print(\"method\")"
   ]
  },
  {
   "cell_type": "markdown",
   "metadata": {
    "slideshow": {
     "slide_type": "slide"
    }
   },
   "source": [
    "Статический и метод класса можно вызвать, не создавая экземпляр класса:"
   ]
  },
  {
   "cell_type": "code",
   "execution_count": null,
   "metadata": {
    "slideshow": {
     "slide_type": "-"
    }
   },
   "outputs": [],
   "source": [
    "SpaceCraft.ex_static_method()\n",
    "\n",
    "SpaceCraft.ex_class_method()"
   ]
  },
  {
   "cell_type": "markdown",
   "metadata": {
    "slideshow": {
     "slide_type": "slide"
    }
   },
   "source": [
    "Для вызова метода уровня объекта необходим объект:"
   ]
  },
  {
   "cell_type": "code",
   "execution_count": null,
   "metadata": {
    "slideshow": {
     "slide_type": "-"
    }
   },
   "outputs": [],
   "source": [
    "SpaceCraft.ex_method()"
   ]
  },
  {
   "cell_type": "code",
   "execution_count": null,
   "metadata": {
    "slideshow": {
     "slide_type": "-"
    }
   },
   "outputs": [],
   "source": [
    "m = SpaceCraft()\n",
    "m.ex_method()"
   ]
  },
  {
   "cell_type": "markdown",
   "metadata": {
    "slideshow": {
     "slide_type": "slide"
    }
   },
   "source": [
    "#### Статические методы\n",
    "\n",
    "*Статическим методам* не нужен определённый первый аргумент (ни `self`, ни `cls`). Их можно воспринимать как методы, которым *безразлично, к какому классу они относятся*.\n",
    "\n",
    "Таким образом, статические методы прикреплены к классу лишь для удобства и не могут менять состояние ни класса, ни его экземпляра. То есть статические методы не могут получить доступ к параметрам класса или объекта. Они работают только с теми данными, которые им передаются в качестве аргументов."
   ]
  },
  {
   "cell_type": "markdown",
   "metadata": {
    "slideshow": {
     "slide_type": "slide"
    }
   },
   "source": [
    "#### Методы класса\n",
    "\n",
    "*Методы класса* принимают класс в качестве параметра, который принято обозначать как `cls`. В примере он указывает на класс `SpaceCraft`, а не на объект этого класса.\n",
    "\n",
    "*Методы класса* привязаны к самому классу, а не его экземпляру. Они могут менять состояние класса, что отразится на всех объектах этого класса, но не могут менять конкретный объект.\n",
    "\n",
    "Пример метода встроенного класса  $-$ `dict.fromkeys()` — возвращает новый словарь с переданными элементами в качестве ключей."
   ]
  },
  {
   "cell_type": "code",
   "execution_count": null,
   "metadata": {
    "slideshow": {
     "slide_type": "subslide"
    }
   },
   "outputs": [],
   "source": [
    "dict.fromkeys('AEIOU')  # вызывается при помощи класса dict"
   ]
  },
  {
   "cell_type": "markdown",
   "metadata": {
    "slideshow": {
     "slide_type": "slide"
    }
   },
   "source": [
    "#### Методы объектов\n",
    "\n",
    "*Методы экземпляров* $-$ это наиболее часто используемый тип методов. *Метод экземпляра класса* принимают объект класса как первый аргумент, который принято называть `self` и который указывает на сам экземпляр. Количество параметров метода не ограничено."
   ]
  },
  {
   "cell_type": "markdown",
   "metadata": {
    "slideshow": {
     "slide_type": "subslide"
    }
   },
   "source": [
    "- используя параметр `self`, мы можем менять состояние объекта и обращаться к другим его методам и параметрам; \n",
    "- при помощи атрибута `self.__class__`, мы получаем доступ к атрибутам класса и возможности менять состояние самого класса. То есть методы экземпляров класса позволяют менять как состояние определённого объекта, так и класса."
   ]
  },
  {
   "cell_type": "markdown",
   "metadata": {
    "slideshow": {
     "slide_type": "subslide"
    }
   },
   "source": [
    "Пример метода экземпляра встроенного класса $-$  `str.upper()`:"
   ]
  },
  {
   "cell_type": "code",
   "execution_count": null,
   "metadata": {
    "slideshow": {
     "slide_type": "-"
    }
   },
   "outputs": [],
   "source": [
    "\"welcome\".upper()   # вызывается на строковых данных"
   ]
  },
  {
   "cell_type": "markdown",
   "metadata": {
    "slideshow": {
     "slide_type": "slide"
    }
   },
   "source": [
    "#### Применение методов различного уровня\n",
    "\n",
    "Давайте рассмотрим более натуральный пример и выясним в чем разница между методами"
   ]
  },
  {
   "cell_type": "markdown",
   "metadata": {
    "slideshow": {
     "slide_type": "skip"
    }
   },
   "source": [
    "Метод класса $-$ `from_production_year` возвращает нам созданный внутри метода экземпляр класса `Car` с вычисленным возрастом. Подобные методы называют `фабрикой класса`.\n",
    "\n",
    "Статический метод $-$ `is_warranty_active` выясняет действительна ли еще гарантия. Как вы видете, он не обращается к возрасту машины в классе, а принимает ее в качестве аргумента - `age`.\n",
    "\n",
    "Метод экземпляра класса $-$ `info`, через `self` обращается к своим атрибутам, вызывает статическую функцию, передавая туда возраст машины."
   ]
  },
  {
   "cell_type": "code",
   "execution_count": null,
   "metadata": {
    "slideshow": {
     "slide_type": "slide"
    }
   },
   "outputs": [],
   "source": [
    "from datetime import date\n",
    "\n",
    "class Car:\n",
    "    def __init__(self, brand, age):\n",
    "        self.brand = brand\n",
    "        self.age = age\n",
    "        \n",
    "    @classmethod\n",
    "    def from_production_year(cls, brand, prod_year):\n",
    "        return cls(brand, date.today().year - prod_year)\n",
    "    \n",
    "    @staticmethod\n",
    "    def is_warranty_active(age):\n",
    "        return age < 3\n",
    "    \n",
    "    def info(self):\n",
    "        print(\"Car: \" + self.brand)\n",
    "        print(\"Age: \" + str(self.age))\n",
    "        if self.is_warranty_active(self.age):\n",
    "            print(\"Warranty is ACTIVE\")\n",
    "        else:\n",
    "            print(\"Warranty is NOT active\")"
   ]
  },
  {
   "cell_type": "code",
   "execution_count": null,
   "metadata": {
    "slideshow": {
     "slide_type": "subslide"
    }
   },
   "outputs": [],
   "source": [
    "car1 = Car('Subaru', 5)\n",
    "car2 = Car.from_production_year('Skoda', 2018)"
   ]
  },
  {
   "cell_type": "code",
   "execution_count": null,
   "metadata": {
    "slideshow": {
     "slide_type": "-"
    }
   },
   "outputs": [],
   "source": [
    "car1.brand, car1.age"
   ]
  },
  {
   "cell_type": "code",
   "execution_count": null,
   "metadata": {
    "slideshow": {
     "slide_type": "-"
    }
   },
   "outputs": [],
   "source": [
    "car2.brand, car2.age"
   ]
  },
  {
   "cell_type": "code",
   "execution_count": null,
   "metadata": {
    "slideshow": {
     "slide_type": "-"
    }
   },
   "outputs": [],
   "source": [
    "Car.is_warranty_active(25)"
   ]
  },
  {
   "cell_type": "code",
   "execution_count": null,
   "metadata": {
    "slideshow": {
     "slide_type": "subslide"
    }
   },
   "outputs": [],
   "source": [
    "car1.info()"
   ]
  },
  {
   "cell_type": "code",
   "execution_count": null,
   "metadata": {
    "slideshow": {
     "slide_type": "-"
    }
   },
   "outputs": [],
   "source": [
    "car2.info()"
   ]
  },
  {
   "cell_type": "markdown",
   "metadata": {
    "slideshow": {
     "slide_type": "subslide"
    }
   },
   "source": [
    "Выбор того, какой из методов использовать, не однозначен. Тем не менее с опытом этот выбор делать гораздо проще. Чаще всего **метод класса** используется тогда, когда нужен генерирующий метод, возвращающий объект класса. В примере, метод класса `from_production_year` используется для создания объекта класса `Car` по году производства машины, а не по указанному возрасту. \n",
    "\n",
    "Статические методы в основном используются как вспомогательные функции и работают с данными, которые им передаются."
   ]
  },
  {
   "cell_type": "markdown",
   "metadata": {
    "slideshow": {
     "slide_type": "slide"
    }
   },
   "source": [
    "#### Какой доступ имеют методы различного уровня\n",
    "\n",
    "- Методы экземпляра класса получают доступ к объекту класса через параметр `self` и к классу через `self.__class__`.\n",
    "- Методы класса не могут получить доступ к определённому объекту класса, но имеют доступ к самому классу через `cls`.\n",
    "- Статические методы работают как обычные функции, но принадлежат области имён класса. Они не имеют доступа ни к самому классу, ни к его экземплярам."
   ]
  },
  {
   "cell_type": "markdown",
   "metadata": {
    "slideshow": {
     "slide_type": "slide"
    }
   },
   "source": [
    "#### Деструктор\n",
    "\n",
    "Для объектов пользовательских классов можно реализовать метод `__del__`. После чего им станет доступен вызов деструктора. Работа с деструктором, как правило, является неотъемлимой частью языков с ручным управлением памятью. Но несмотря на грамотную работу сборщика мусора, обеспечивающего своевременное удаление ненужных объектов, вызов деструктора все еще остается доступным. Переопределить его можно, реализовав метод `__del__`."
   ]
  },
  {
   "cell_type": "markdown",
   "metadata": {
    "slideshow": {
     "slide_type": "slide"
    }
   },
   "source": [
    "#### Пример"
   ]
  },
  {
   "cell_type": "code",
   "execution_count": null,
   "metadata": {
    "slideshow": {
     "slide_type": "-"
    }
   },
   "outputs": [],
   "source": [
    "class Data:\n",
    "    def __del__(self):\n",
    "        print(\"The object is destroyed\")\n",
    "        \n",
    "data = Data()\n",
    "del(data)"
   ]
  },
  {
   "cell_type": "markdown",
   "metadata": {
    "slideshow": {
     "slide_type": "-"
    }
   },
   "source": [
    "Как и конструктор, деструктор может содержать некий пользовательский код, сообщающий об успешном завершении работы метода. В данном примере создается экземпляр класса `Data` и вызывается его деструктор, принимающий в качестве параметра сам объект."
   ]
  },
  {
   "cell_type": "markdown",
   "metadata": {
    "slideshow": {
     "slide_type": "slide"
    }
   },
   "source": [
    "## Инкапсуляция\n",
    "\n",
    "В языках программирования Java, C#, C++ можно явно указать для переменной, что доступ к ней снаружи класса запрещен, это делается с помощью ключевых слов (private, protected и т.д.). В Python таких возможностей нет, и любой может обратиться к атрибутам и методам вашего класса, если возникнет такая необходимость. Это существенный недостаток этого языка, т.к. нарушается один из ключевых принципов ООП – инкапсуляция."
   ]
  },
  {
   "cell_type": "markdown",
   "metadata": {
    "slideshow": {
     "slide_type": "subslide"
    }
   },
   "source": [
    "При этом есть соглашение, по которому хорошим тоном считается, что для чтения/изменения какого-то атрибута должны использоваться специальные методы, которые называются `getter/setter`, их можно реализовать, но ничего не помешает изменить атрибут напрямую. При этом есть соглашение, что метод или атрибут, который начинается с `нижнего подчеркивания`, является скрытым, и снаружи класса трогать его не нужно (хотя и можно).\n",
    "\n",
    "Внесем соответствующие изменения в класс SpaceCraft."
   ]
  },
  {
   "cell_type": "code",
   "execution_count": null,
   "metadata": {
    "slideshow": {
     "slide_type": "slide"
    }
   },
   "outputs": [],
   "source": [
    "class SpaceCraft():\n",
    "    def __init__(self, model, сrew_capacity):          \n",
    "        self._model = model\n",
    "        self._сrew_capacity = сrew_capacity\n",
    "    \n",
    "    def get_model(self):\n",
    "        return self._model\n",
    "    \n",
    "    def set_model(self, m):\n",
    "        self._model = m\n",
    "        \n",
    "    def get_сrew_capacity(self):\n",
    "        return self._сrew_capacity\n",
    "    \n",
    "    def set_сrew_capacity(self, c):\n",
    "        self._сrew_capacity = c\n",
    "        \n",
    "    def info(self):\n",
    "        return \"Spacecraft \" + self._model + \" with \" + str(self._сrew_capacity) + \" astronauts.\""
   ]
  },
  {
   "cell_type": "code",
   "execution_count": null,
   "metadata": {
    "slideshow": {
     "slide_type": "slide"
    }
   },
   "outputs": [],
   "source": [
    "buran = SpaceCraft(\"Буран\", 10)\n",
    "buran.get_model()"
   ]
  },
  {
   "cell_type": "code",
   "execution_count": null,
   "metadata": {
    "slideshow": {
     "slide_type": "-"
    }
   },
   "outputs": [],
   "source": [
    "buran._model"
   ]
  },
  {
   "cell_type": "markdown",
   "metadata": {
    "slideshow": {
     "slide_type": "notes"
    }
   },
   "source": [
    "В приведенном примере для доступа к `_model` и` _сrew_capacity` используются специальные методы, но ничего не мешает обратиться к этим атрибутам напрямую."
   ]
  },
  {
   "cell_type": "markdown",
   "metadata": {
    "slideshow": {
     "slide_type": "slide"
    }
   },
   "source": [
    "Если же атрибут или метод начинается с двух подчеркиваний, то обратиться к нему на прямую не представляется возможным."
   ]
  },
  {
   "cell_type": "code",
   "execution_count": null,
   "metadata": {
    "slideshow": {
     "slide_type": "slide"
    }
   },
   "outputs": [],
   "source": [
    "class SpaceCraft():\n",
    "    def __init__(self, model, сrew_capacity):\n",
    "        self.__model = model\n",
    "        self.__сrew_capacity = сrew_capacity\n",
    "    \n",
    "    def get_model(self):\n",
    "        return self.__model\n",
    "    \n",
    "    def set_model(self, m):\n",
    "        self.__model = m\n",
    "        \n",
    "    def get_сrew_capacity(self):\n",
    "        return self.__сrew_capacity\n",
    "    \n",
    "    def set_сrew_capacity(self, c):\n",
    "        self.__сrew_capacity = c\n",
    "        \n",
    "    def info(self):\n",
    "        return \"Spacecraft \" + self.__model + \" with \" + str(self.__сrew_capacity) + \" astronauts.\""
   ]
  },
  {
   "cell_type": "markdown",
   "metadata": {
    "slideshow": {
     "slide_type": "slide"
    }
   },
   "source": [
    "Попытка обратиться к `__model` напрямую вызовет ошибку:"
   ]
  },
  {
   "cell_type": "code",
   "execution_count": null,
   "metadata": {
    "slideshow": {
     "slide_type": "-"
    }
   },
   "outputs": [],
   "source": [
    "buran = SpaceCraft(\"Буран\", 10)\n",
    "buran.get_model()"
   ]
  },
  {
   "cell_type": "code",
   "execution_count": null,
   "metadata": {
    "slideshow": {
     "slide_type": "-"
    }
   },
   "outputs": [],
   "source": [
    "buran.__model"
   ]
  },
  {
   "cell_type": "markdown",
   "metadata": {
    "slideshow": {
     "slide_type": "slide"
    }
   },
   "source": [
    "Однако, возможность обратиться к нему все-таки имеется. Объекты всех классов `Python` имеют свойство `__dict__`, возвращающее словарь, который содержит все атрибуты и их значения."
   ]
  },
  {
   "cell_type": "code",
   "execution_count": null,
   "metadata": {
    "slideshow": {
     "slide_type": "-"
    }
   },
   "outputs": [],
   "source": [
    "print(buran.__dict__)"
   ]
  },
  {
   "cell_type": "markdown",
   "metadata": {},
   "source": [
    "Оказывается, что для внешнего обращения атрибут `__model` имеет идентификатор: `_SpaceCraft__model`."
   ]
  },
  {
   "cell_type": "code",
   "execution_count": null,
   "metadata": {
    "slideshow": {
     "slide_type": "-"
    }
   },
   "outputs": [],
   "source": [
    "buran._SpaceCraft__model"
   ]
  },
  {
   "cell_type": "markdown",
   "metadata": {
    "slideshow": {
     "slide_type": "slide"
    }
   },
   "source": [
    "## Наследование\n",
    "\n",
    "Возможность одного класса наследовать часть возможностей другого, перенимая тем самым его атрибуты и методы, является важным механизмом ООП. Благодаря ему пропадает необходимость переписывания кода для подобных или родственных по назначению классов.\n",
    "\n",
    "При наследовании классов в `Python` обязательно следует соблюдать одно условие: `производный` (`дочерний`) класс должен представлять собой более частный случай `класса-родителя`."
   ]
  },
  {
   "cell_type": "markdown",
   "metadata": {
    "slideshow": {
     "slide_type": "slide"
    }
   },
   "source": [
    "#### Пример\n",
    "\n",
    "Рассмотрим, как класс `SpaceCraft` наследуется классом `Shuttle`. При описании дочернего класса в `Python`, имя родительского класса записывается в круглых скобках."
   ]
  },
  {
   "cell_type": "code",
   "execution_count": null,
   "metadata": {
    "slideshow": {
     "slide_type": "subslide"
    }
   },
   "outputs": [],
   "source": [
    "from math import sqrt\n",
    "\n",
    "class SpaceCraft():\n",
    "    def __init__(self, x, y):\n",
    "        \"\"\"\n",
    "            Каждый космический корабль имеет положение в пространстве (x,y)\n",
    "        \"\"\"\n",
    "        self.x = x\n",
    "        self.y = y\n",
    "        \n",
    "    def move_spacecraft(self, x_increment, y_increment):\n",
    "        \"\"\"\n",
    "            Движение космического корабля, следуя данным параметрам.\n",
    "            \n",
    "        \"\"\"\n",
    "        self.x += x_increment\n",
    "        self.y += y_increment\n",
    "        \n",
    "    def get_distance(self, other_spacecraft):\n",
    "        \"\"\"\n",
    "            Вычисляет расстояние от космического корабля до другого\n",
    "            и возвращает значение.\n",
    "        \"\"\"\n",
    "        distance = sqrt((self.x-other_spacecraft.x)**2+(self.y-other_spacecraft.y)**2)\n",
    "        return distance"
   ]
  },
  {
   "cell_type": "code",
   "execution_count": null,
   "metadata": {
    "slideshow": {
     "slide_type": "subslide"
    }
   },
   "outputs": [],
   "source": [
    "class Shuttle(SpaceCraft):\n",
    "    \"\"\"\n",
    "        Шатл эмулирует многоразовый космический челнок\n",
    "    \"\"\"\n",
    "    def __init__(self, x, y, flights_completed):\n",
    "        super().__init__(x, y)\n",
    "        self.flights_completed = flights_completed"
   ]
  },
  {
   "cell_type": "markdown",
   "metadata": {
    "slideshow": {
     "slide_type": "-"
    }
   },
   "source": [
    "У базового класса `SpaceCraft` был определен пользовательский конструктор, поэтому метод `__init__` производного класса имеет специальный вид: в нем первым делом вызывается конструктор его базового класса: `super().__init__(x, y)`\n",
    "\n",
    "`super` $-$ это ключевое слово, которое используется для обращения к базовому классу."
   ]
  },
  {
   "cell_type": "code",
   "execution_count": null,
   "metadata": {
    "slideshow": {
     "slide_type": "slide"
    }
   },
   "outputs": [],
   "source": [
    "endeavour = Shuttle(10,0,25)\n",
    "print(endeavour)"
   ]
  },
  {
   "cell_type": "markdown",
   "metadata": {
    "slideshow": {
     "slide_type": "-"
    }
   },
   "source": [
    "Из объекта производного класса можно вызвать методы базового:"
   ]
  },
  {
   "cell_type": "code",
   "execution_count": null,
   "metadata": {
    "slideshow": {
     "slide_type": "-"
    }
   },
   "outputs": [],
   "source": [
    "progress = SpaceCraft(14,3)\n",
    "\n",
    "endeavour.get_distance(progress)"
   ]
  },
  {
   "cell_type": "markdown",
   "metadata": {
    "slideshow": {
     "slide_type": "slide"
    }
   },
   "source": [
    "### Множественное наследование\n",
    "\n",
    "Наследовать можно не только один класс, но и несколько одновременно, обретая тем самым их члены. "
   ]
  },
  {
   "cell_type": "markdown",
   "metadata": {
    "slideshow": {
     "slide_type": "slide"
    }
   },
   "source": [
    "#### Пример \n",
    "\n",
    "Рассмотрим следующую иерархию классов. Класс `Dog` выступает в роли производного для `Animal` и `Pet` , поскольку может являться и тем, и другим. От `Animal` класс `Dog` получает метод `sleep`, в то время как `Pet` дает возможность играть с хозяином (метод `play`). В свою очередь, оба родительских класса унаследовали поле `name` от `Creature`. Класс `Dog` также получил это свойство и может его использовать. Так как мы не используем конструкторы в наследованных классах, то и вызывать через `super()` ничего не надо. Конструктор родительского класса, вызовется автоматически."
   ]
  },
  {
   "cell_type": "code",
   "execution_count": null,
   "metadata": {
    "slideshow": {
     "slide_type": "slide"
    }
   },
   "outputs": [],
   "source": [
    "class Creature:\n",
    "    def __init__(self, name):\n",
    "        self.name = name\n",
    "        \n",
    "class Animal(Creature):\n",
    "    def sleep(self):\n",
    "        print(self.name + \" is sleeping\")\n",
    "        \n",
    "class Pet(Creature):\n",
    "    def play(self):\n",
    "        print(self.name + \" is playing\")\n",
    "        \n",
    "class Dog(Animal, Pet):\n",
    "    def bark(self):\n",
    "        print(self.name + \" is barking\")\n",
    "        \n",
    "beast = Dog(\"Buddy\")\n",
    "beast.sleep()\n",
    "beast.play()\n",
    "beast.bark()"
   ]
  },
  {
   "cell_type": "markdown",
   "metadata": {
    "slideshow": {
     "slide_type": "slide"
    }
   },
   "source": [
    "## Полиморфизм\n",
    "\n",
    "Полиморфизм, как правило, используется с позиции предоставляения единого интерфейса для вызова методов объектов разных классов. Проще всего это рассмотреть на примере. В нашем базовом класс `SpaceCraft` есть метод `info()`, который печатает сводную информацию по объекту класса `SpaceCraft`, переопределим этот метод в классе `Shuttle`, добавим  в него дополнительные данные:"
   ]
  },
  {
   "cell_type": "code",
   "execution_count": null,
   "metadata": {
    "slideshow": {
     "slide_type": "slide"
    }
   },
   "outputs": [],
   "source": [
    "class SpaceCraft():\n",
    "    def __init__(self, model, x, y):\n",
    "        \"\"\"\n",
    "            Каждый космический корабль имеет положение в пространстве (x,y)\n",
    "        \"\"\"\n",
    "        self.x = x\n",
    "        self.y = y\n",
    "        self.__model = model\n",
    "        \n",
    "    def get_model(self):\n",
    "        return self.__model\n",
    "    \n",
    "    def set_model(self, m):\n",
    "        self.__model = m        \n",
    "        \n",
    "    def info(self):\n",
    "        \"\"\"\n",
    "            Выводит строку - информационное сообщение\n",
    "        \"\"\"\n",
    "        return f\"Космический корабль {self.__model} имеет координаты ({self.x}, {self.y})\""
   ]
  },
  {
   "cell_type": "code",
   "execution_count": null,
   "metadata": {
    "slideshow": {
     "slide_type": "slide"
    }
   },
   "outputs": [],
   "source": [
    "class Shuttle(SpaceCraft):\n",
    "    \"\"\"\n",
    "        Шатл эмулирует многоразовый космический челнок\n",
    "    \"\"\"\n",
    "    def __init__(self, model, x, y, flights_completed):\n",
    "        super().__init__(model, x, y)\n",
    "        self.flights_completed = flights_completed\n",
    "    def info(self):\n",
    "        return f\"Космический корабль {self.get_model()}, осуществивший {self.flights_completed} полетов, имеет координаты ({self.x}, {self.y})\""
   ]
  },
  {
   "cell_type": "markdown",
   "metadata": {
    "slideshow": {
     "slide_type": "slide"
    }
   },
   "source": [
    "Теперь любая функция сможет вызвать метод `info()` для объектов обоих классов"
   ]
  },
  {
   "cell_type": "code",
   "execution_count": null,
   "metadata": {
    "slideshow": {
     "slide_type": "-"
    }
   },
   "outputs": [],
   "source": [
    "def do_smth(obj):\n",
    "    print(obj.info())"
   ]
  },
  {
   "cell_type": "code",
   "execution_count": null,
   "metadata": {
    "slideshow": {
     "slide_type": "-"
    }
   },
   "outputs": [],
   "source": [
    "endeavour = Shuttle(\"Endeavour\",10,0,25)\n",
    "progress = SpaceCraft(\"Прогресс\",14,3)\n",
    "\n",
    "do_smth(endeavour); do_smth(progress)"
   ]
  },
  {
   "cell_type": "markdown",
   "metadata": {
    "slideshow": {
     "slide_type": "slide"
    }
   },
   "source": [
    "В объектно-ориентированных языках программирования со статической типизацией, подобный прием был бы допустим только для объектов, чьи классы связаны отношением наследования (как в примере). Но, `Python` язык с динамической типизацией, по этой причине полиморфизм в нем имеет более широкую область применения. Рассмотрим класс, который никаким образом не связан со `SpaceCraft` и `Shuttle`"
   ]
  },
  {
   "cell_type": "code",
   "execution_count": null,
   "metadata": {
    "slideshow": {
     "slide_type": "slide"
    }
   },
   "outputs": [],
   "source": [
    "class Dog:\n",
    "    \"\"\"\n",
    "        Класс домашних любимцев собак\n",
    "    \"\"\"\n",
    "    def __init__(self, name):\n",
    "        self.__name = name\n",
    "    def info(self):\n",
    "        return f\"Наш любимец {self.__name}\"\n",
    "        \n",
    "sharik = Dog(\"Шарик\")"
   ]
  },
  {
   "cell_type": "code",
   "execution_count": null,
   "metadata": {
    "slideshow": {
     "slide_type": "-"
    }
   },
   "outputs": [],
   "source": [
    "do_smth(sharik)"
   ]
  },
  {
   "cell_type": "markdown",
   "metadata": {
    "slideshow": {
     "slide_type": "slide"
    }
   },
   "source": [
    "## Абстрактные базовые классы\n",
    "\n",
    "**Определение.** Абстрактным классом назывется *класс* содержательная реализация объектов которого отсутствует в данной предметной области.  Абстрактный класс может содержать абстрактные члены. Абстрактный член не реализуется для класса, в котором описан, однако должен быть реализован для его неабстрактных потомков."
   ]
  },
  {
   "cell_type": "markdown",
   "metadata": {
    "slideshow": {
     "slide_type": "subslide"
    }
   },
   "source": [
    "### Замечание \n",
    "\n",
    "Класс, содержащий хотя бы один абстрактный член, становится абстрактным.\n",
    "\n",
    "Абстрактные классы представляют собой наиболее общую далекую от конкретики конструкцию, а основная цель их применения $-$ реализация полиморфизма. Теперь, наличие необходимых методов и атрибутов объекта гарантируется наличием *абстрактного базового класса* среди предков класса."
   ]
  },
  {
   "cell_type": "markdown",
   "metadata": {
    "slideshow": {
     "slide_type": "slide"
    }
   },
   "source": [
    "### Пример\n",
    "\n",
    "Рассмотрим шахматные фигуры. У всех фигур есть общий функционал, например $-$ возможность фигуры ходить и быть отображенной на доске. Исходя из этого, мы можем создать абстрактный класс Фигура, определить в нем абстрактный метод (в нашем случае - ход, поскольку каждая фигура ходит по-своему) и реализовать общий функционал (отрисовка на доске)."
   ]
  },
  {
   "cell_type": "code",
   "execution_count": 1,
   "metadata": {
    "slideshow": {
     "slide_type": "slide"
    }
   },
   "outputs": [],
   "source": [
    "from abc import ABC, abstractmethod\n",
    " \n",
    "class ChessPiece(ABC):\n",
    "    def draw(self):\n",
    "        \"\"\"\n",
    "            Общий метод, который будут использовать все наследники этого класса\n",
    "        \"\"\"  \n",
    "        print(\"Нарисовать шахматную фигуру\")\n",
    "    @abstractmethod\n",
    "    def move(self):\n",
    "        \"\"\"\n",
    "            Абстрактный метод, который будет необходимо переопределять\n",
    "            во всех неабстрактных производных классах\n",
    "        \"\"\"\n",
    "        pass"
   ]
  },
  {
   "cell_type": "markdown",
   "metadata": {
    "slideshow": {
     "slide_type": "subslide"
    }
   },
   "source": [
    "Интерпретатор сгенерирует исключение при попытке создать экземпляр данного класса."
   ]
  },
  {
   "cell_type": "code",
   "execution_count": 2,
   "metadata": {
    "slideshow": {
     "slide_type": "-"
    }
   },
   "outputs": [
    {
     "ename": "TypeError",
     "evalue": "Can't instantiate abstract class ChessPiece with abstract method move",
     "output_type": "error",
     "traceback": [
      "\u001b[1;31m---------------------------------------------------------------------------\u001b[0m",
      "\u001b[1;31mTypeError\u001b[0m                                 Traceback (most recent call last)",
      "\u001b[1;32m<ipython-input-2-4fe1595ac4ae>\u001b[0m in \u001b[0;36m<module>\u001b[1;34m\u001b[0m\n\u001b[1;32m----> 1\u001b[1;33m \u001b[0mking\u001b[0m \u001b[1;33m=\u001b[0m \u001b[0mChessPiece\u001b[0m\u001b[1;33m(\u001b[0m\u001b[1;33m)\u001b[0m\u001b[1;33m\u001b[0m\u001b[1;33m\u001b[0m\u001b[0m\n\u001b[0m",
      "\u001b[1;31mTypeError\u001b[0m: Can't instantiate abstract class ChessPiece with abstract method move"
     ]
    }
   ],
   "source": [
    "king = ChessPiece()"
   ]
  },
  {
   "cell_type": "markdown",
   "metadata": {
    "slideshow": {
     "slide_type": "-"
    }
   },
   "source": [
    "Теперь нам необходимо создать конкретные классы, например, ферзя и коня, в котором будет реализован абстрактный метод метод `move()`."
   ]
  },
  {
   "cell_type": "markdown",
   "metadata": {
    "slideshow": {
     "slide_type": "slide"
    }
   },
   "source": [
    "Абстрактный метод может быть реализован сразу в абстрактном классе, однако, декоратор `abstractmethod`, обяжет программистов, реализующих производный класс либо реализовать собственную версию абстрактного метода, либо дополнить существующую. В таком случае, мы можем переопределять метод как в обычном наследовании, а вызывать родительский метод при помощи `super()`."
   ]
  },
  {
   "cell_type": "code",
   "execution_count": 3,
   "metadata": {
    "slideshow": {
     "slide_type": "subslide"
    }
   },
   "outputs": [
    {
     "name": "stdout",
     "output_type": "stream",
     "text": [
      "Нарисовать шахматную фигуру\n",
      "Ход ферзя e2e4\n"
     ]
    }
   ],
   "source": [
    "class Queen(ChessPiece):\n",
    "    def move(self):\n",
    "        print(\"Ход ферзя e2e4\")\n",
    "\n",
    "q = Queen()\n",
    "\n",
    "q.draw()\n",
    "q.move()"
   ]
  },
  {
   "cell_type": "code",
   "execution_count": 4,
   "metadata": {
    "slideshow": {
     "slide_type": "subslide"
    }
   },
   "outputs": [
    {
     "name": "stdout",
     "output_type": "stream",
     "text": [
      "Нарисовать шахматную фигуру\n",
      "Ход коня e5d7\n"
     ]
    }
   ],
   "source": [
    "class Knight(ChessPiece):\n",
    "    def move(self):\n",
    "        print(\"Ход коня e5d7\")\n",
    "\n",
    "k = Knight()\n",
    "\n",
    "k.draw()\n",
    "k.move()"
   ]
  },
  {
   "cell_type": "markdown",
   "metadata": {
    "slideshow": {
     "slide_type": "-"
    }
   },
   "source": [
    "Используя концепцию абстрактных классов, мы можем улучшить качество архитектуры приложения, уменьшить объем работы и при этом, обеспечить легкость дальнейшей поддержки программного кода."
   ]
  },
  {
   "cell_type": "markdown",
   "metadata": {
    "slideshow": {
     "slide_type": "slide"
    }
   },
   "source": [
    "<center>\n",
    "    <img src=\"img/scheme.png\">\n",
    "</center>"
   ]
  },
  {
   "cell_type": "markdown",
   "metadata": {
    "slideshow": {
     "slide_type": "skip"
    }
   },
   "source": [
    "## Перегрузка операторов\n",
    "\n",
    "Для обработки примитивных типов данных в языках программирования используются специальные операторы. К примеру, арифметические операции выполняются при помощи обычных знаков плюс, минус, умножить, разделить. Однако при работе с собственными типами информации вполне может потребоваться помощь этих операторов. Благодаря *операторным методам*, их можно самостоятельно настроить под свои задачи."
   ]
  },
  {
   "cell_type": "markdown",
   "metadata": {
    "slideshow": {
     "slide_type": "skip"
    }
   },
   "source": [
    "### Пример\n",
    "\n",
    "let у нас есть двумерный вектор, он описывается двумя координатами `x` и `y`."
   ]
  },
  {
   "cell_type": "code",
   "execution_count": null,
   "metadata": {
    "slideshow": {
     "slide_type": "skip"
    }
   },
   "outputs": [],
   "source": [
    "x = 5\n",
    "y = 10"
   ]
  },
  {
   "cell_type": "markdown",
   "metadata": {
    "slideshow": {
     "slide_type": "skip"
    }
   },
   "source": [
    "Но это не очень удобно, нам нужно держать в голове что для `х` является парной переменная `y`"
   ]
  },
  {
   "cell_type": "code",
   "execution_count": null,
   "metadata": {
    "slideshow": {
     "slide_type": "skip"
    }
   },
   "outputs": [],
   "source": [
    "#Давайте лучше сделаем так\n",
    "vector = [5,10] # Используем для хранения значений список\n",
    "# Уже лучше, компонетны вектора находятся рядом.\n",
    "# Давайте попробуем сделать некоторые операции\n",
    "another_vector = [-5, 5]\n",
    "sum_vector = [0,0]\n",
    "sum_vector[0] = vector[0] + another_vector[0]\n",
    "sum_vector[1] = vector[1] + another_vector[0]\n",
    "print(sum_vector) # Должен быть [0,15]"
   ]
  },
  {
   "cell_type": "markdown",
   "metadata": {
    "slideshow": {
     "slide_type": "skip"
    }
   },
   "source": [
    "Очевидно, что при сложении второй компонеты вектора была сделана ошибка с выбором индекса. И если вы думаете что с вами этого никогда не произойдет, то я могу сказать, что опыт разработки программного обеспечения показывает, что произойдет, потом ещё и ещё раз произойдет...\n",
    "\n",
    "Поскольку вектор это некая самостоятельная сущность отличная от списка, разумным будет описать её собственным типом данных и научить **Python** выполнять требуемые операции с данными этого типа"
   ]
  },
  {
   "cell_type": "code",
   "execution_count": null,
   "metadata": {
    "slideshow": {
     "slide_type": "skip"
    }
   },
   "outputs": [],
   "source": [
    "class Vector:\n",
    "    def __init__(self, x = 0, y = 0):\n",
    "        self.x = x\n",
    "        self.y = y\n",
    "\n",
    "    def __add__(self,vector):\n",
    "        \"\"\"\n",
    "        Операторный метод '+'\n",
    "        \"\"\"\n",
    "        return Vector(self.x + vector.x, self.y + vector.y)\n",
    "\n",
    "    def __iadd__(self,vector):\n",
    "        \"\"\"\n",
    "        Операторный метод '+='\n",
    "        \"\"\"\n",
    "        self.x += vector.x\n",
    "        self.y += vector.y\n",
    "        return self\n",
    "\n",
    "    def __sub__(self,vector):\n",
    "        \"\"\"\n",
    "        Операторный метод '-'\n",
    "        \"\"\"\n",
    "        return Vector(self.x - vector.x, self.y - vector.y)\n",
    "\n",
    "    def __eq__(self, other):\n",
    "        \"\"\"\n",
    "        Операторный метод '=='\n",
    "        \"\"\"\n",
    "        return self.x == other.x and self.y == other.y\n",
    "\n",
    "    def __repr__(self):\n",
    "        \"\"\"\n",
    "        Создает текстовое опредставление класса\n",
    "        \"\"\"\n",
    "        return \"x = {}, y = {}\".format(self.x, self.y)"
   ]
  },
  {
   "cell_type": "code",
   "execution_count": null,
   "metadata": {
    "slideshow": {
     "slide_type": "skip"
    }
   },
   "outputs": [],
   "source": [
    "vector = Vector(5,10)\n",
    "another_vector = Vector(-5,10)\n",
    "sum_vector = vector + another_vector\n",
    "print(sum_vector)\n",
    "print(vector == another_vector)"
   ]
  },
  {
   "cell_type": "markdown",
   "metadata": {
    "slideshow": {
     "slide_type": "skip"
    }
   },
   "source": [
    "Так же мы можем использовать класс Vector при создании других типов данных. Например создадим класс описывающий отрезок"
   ]
  },
  {
   "cell_type": "code",
   "execution_count": null,
   "metadata": {
    "slideshow": {
     "slide_type": "skip"
    }
   },
   "outputs": [],
   "source": [
    "class Line:\n",
    "    def __init__(self, vec1, vec2):\n",
    "        self.vec1 = vec1\n",
    "        self.vec2 = vec2\n",
    "    \n",
    "    def length(self):\n",
    "        p =self.vec1 - self.vec2\n",
    "        return (p.x**2 + p.y**2)**0.5"
   ]
  },
  {
   "cell_type": "code",
   "execution_count": null,
   "metadata": {
    "slideshow": {
     "slide_type": "skip"
    }
   },
   "outputs": [],
   "source": [
    "v1 = Vector(10, 10)\n",
    "v2 = Vector(20, 20)\n",
    "\n",
    "line = Line(v1, v2)\n",
    "print(line.length())"
   ]
  },
  {
   "cell_type": "markdown",
   "metadata": {
    "slideshow": {
     "slide_type": "skip"
    }
   },
   "source": [
    "## Реализация однонаправленного списка"
   ]
  },
  {
   "cell_type": "code",
   "execution_count": null,
   "metadata": {
    "slideshow": {
     "slide_type": "skip"
    }
   },
   "outputs": [],
   "source": [
    "class Element:\n",
    "    \"\"\"Класс для описания элемента последовательности\"\"\"\n",
    "    def __init__(self, val = None):\n",
    "        \"\"\"\n",
    "        Конструктор\n",
    "            val - значение, хранящееся в элементе последовательности, по умолчанию None\n",
    "        \"\"\"\n",
    "        self.__val = val\n",
    "        self.__pointer = None\n",
    "    @classmethod\n",
    "    def create(cls, val, pointer):\n",
    "        \"\"\"\n",
    "        Фабрика класса\n",
    "            val - значение, хранящееся в элементе последовательности\n",
    "            pointer - указатель на другой элемент\n",
    "        \"\"\"\n",
    "        element = cls(val)\n",
    "        element.__pointer = pointer\n",
    "        return element\n",
    "    def set_value(self, val):\n",
    "        \"\"\"\n",
    "        Установка значения элемента\n",
    "            val - значение\n",
    "        \"\"\"\n",
    "        self.__val = val\n",
    "    def get_value(self):\n",
    "        \"\"\"\n",
    "        Возврат значения\n",
    "        \"\"\"\n",
    "        return self.__val\n",
    "    def set_pointer(self, element):\n",
    "        \"\"\"\n",
    "        Установить ссылку на другой элемент\n",
    "            element - другой элемент\n",
    "        \"\"\"\n",
    "        self.__pointer = element\n",
    "    def get_pointer(self):\n",
    "        \"\"\"\n",
    "        Возвратить ссылку на следующий элемент\n",
    "        \"\"\"\n",
    "        return self.__pointer    "
   ]
  },
  {
   "cell_type": "code",
   "execution_count": null,
   "metadata": {
    "slideshow": {
     "slide_type": "skip"
    }
   },
   "outputs": [],
   "source": [
    "class UnidirList:\n",
    "    \"\"\"\n",
    "    Класс, реализующий однонаправленный список\n",
    "    \"\"\"\n",
    "    def __init__(self):\n",
    "        \"\"\"\n",
    "        Конструктор\n",
    "        \"\"\"\n",
    "        self.__last = self.__current = self.__first = Element()\n",
    "        self.__count = 0\n",
    "    def get_elements_count(self):\n",
    "        \"\"\"\n",
    "        Возвращает количество элементов в списке\n",
    "            return количество элементов\n",
    "        \"\"\"\n",
    "        return self.__count        \n",
    "    @classmethod\n",
    "    def create_empty(cls,val):\n",
    "        \"\"\"\n",
    "        Фабрика класса\n",
    "            val - значение первого элемента списка\n",
    "        \"\"\"\n",
    "        obj = cls()\n",
    "        obj.add(val)\n",
    "        return obj\n",
    "    def add(self, val):\n",
    "        \"\"\"\n",
    "        Добавление значения в список\n",
    "            val - значение\n",
    "        \"\"\"\n",
    "        self.__last.set_value(val)\n",
    "        element = Element()\n",
    "        self.__last.set_pointer(element)\n",
    "        self.__last = element\n",
    "        self.__count += 1\n",
    "    def get_value(self):\n",
    "        \"\"\"\n",
    "        Получение значения элемента списка\n",
    "            return значение\n",
    "        \"\"\"\n",
    "        element = self.__current\n",
    "        if element.get_pointer() != None:\n",
    "            self.__current = self.__current.get_pointer()\n",
    "        return element.get_value()\n",
    "    def reset(self):\n",
    "        \"\"\"\n",
    "        Сброс текущего указателя списка\n",
    "        \"\"\"\n",
    "        self.__current = self.__first\n",
    "    def is_last(self):\n",
    "        \"\"\"\n",
    "        Проверка окончания просмотра элементов списка\n",
    "            return True, если указатель списка находится на последнем элементе\n",
    "                   False в обратном случае\n",
    "        \"\"\"\n",
    "        return self.__current == self.__last\n",
    "    def __set_current_at(self, n):\n",
    "        \"\"\"\n",
    "        Устанавливает указатель списка на требуемую позицию\n",
    "            n - позиция в списке\n",
    "        \"\"\"\n",
    "        i = 0\n",
    "        element = self.__first\n",
    "        while i < n:\n",
    "            element = element.get_pointer()\n",
    "            i += 1\n",
    "        self.__current = element\n",
    "    def get_value_at(self, n):\n",
    "        \"\"\"\n",
    "        Получить значение из списка по номеру его позиции\n",
    "            n - позиция в списке\n",
    "        \"\"\"\n",
    "        if n < 0 or n > self.__count - 1:\n",
    "            raise IndexError(\"Неверное значение позиции: {0}!\".format(n))                \n",
    "        self.__set_current_at(n)\n",
    "        return self.get_value()\n",
    "    def insert_at(self, n, val):\n",
    "        \"\"\"\n",
    "        Вставка значения на позицию в списке\n",
    "            n - позиция в списке\n",
    "            val - значение\n",
    "        \"\"\"\n",
    "        if n < 0 or n > self.__count - 1:\n",
    "            raise IndexError(\"Неверное значение позиции: {0}!\".format(n))                \n",
    "        if n > 0:\n",
    "            self.__set_current_at(n-1)\n",
    "            prev_el = self.__current\n",
    "            next_el = prev_el.get_pointer()\n",
    "        else:\n",
    "            next_el = self.__first\n",
    "        new_el = Element.create(val, next_el)\n",
    "        if n > 0:\n",
    "            prev_el.set_pointer(new_el)\n",
    "        elif n == 0:\n",
    "            self.__first = new_el\n",
    "        self.__current = new_el\n",
    "        self.__count += 1\n",
    "    def del_at(self, n):\n",
    "        \"\"\"\n",
    "        Удаление элемента на позиции в списке\n",
    "            n - позиция в списке\n",
    "        \"\"\"\n",
    "        if n < 0 or n > self.__count - 1:\n",
    "            raise IndexError(\"Неверное значение позиции: {0}!\".format(n))                \n",
    "        if n > 0:\n",
    "            self.__set_current_at(n-1)\n",
    "            prev_el = self.__current\n",
    "            el2del = prev_el.get_pointer()\n",
    "            next_el = el2del.get_pointer()\n",
    "            prev_el.set_pointer(next_el)\n",
    "            self.__current = next_el\n",
    "        elif n == 0:\n",
    "            self.__current = self.__first = self.__first.get_pointer()\n",
    "        self.__count -= 1"
   ]
  },
  {
   "cell_type": "markdown",
   "metadata": {
    "slideshow": {
     "slide_type": "skip"
    }
   },
   "source": [
    "Создадим список и заполним его элементами, вводимыми с клавиатуры. Окончанием ввода считаем ввод пустой строки"
   ]
  },
  {
   "cell_type": "code",
   "execution_count": null,
   "metadata": {
    "slideshow": {
     "slide_type": "skip"
    }
   },
   "outputs": [],
   "source": [
    "my_list = UnidirList()\n",
    "\n",
    "while True:\n",
    "    s = input(\"Введите очередной элемент списка: \")\n",
    "    if s == '': break\n",
    "    my_list.add(s)"
   ]
  },
  {
   "cell_type": "markdown",
   "metadata": {
    "slideshow": {
     "slide_type": "skip"
    }
   },
   "source": [
    "Выведем в консоль элементы списка:"
   ]
  },
  {
   "cell_type": "code",
   "execution_count": null,
   "metadata": {
    "slideshow": {
     "slide_type": "skip"
    }
   },
   "outputs": [],
   "source": [
    "#my_list.reset()\n",
    "while True:\n",
    "    v = my_list.get_value()    \n",
    "    print(v)\n",
    "    if my_list.is_last(): break"
   ]
  },
  {
   "cell_type": "markdown",
   "metadata": {
    "slideshow": {
     "slide_type": "skip"
    }
   },
   "source": [
    "А теперь выведем еще несколько элементов:"
   ]
  },
  {
   "cell_type": "code",
   "execution_count": null,
   "metadata": {
    "slideshow": {
     "slide_type": "skip"
    }
   },
   "outputs": [],
   "source": [
    "v = my_list.get_value()\n",
    "print(v)\n",
    "my_list.reset()\n",
    "\n",
    "v = my_list.get_value()\n",
    "print(v)\n",
    "v = my_list.get_value_at(2)\n",
    "print(v)\n",
    "v = my_list.get_value()\n",
    "print(v)"
   ]
  },
  {
   "cell_type": "markdown",
   "metadata": {
    "slideshow": {
     "slide_type": "skip"
    }
   },
   "source": [
    "Добавление значения в список:"
   ]
  },
  {
   "cell_type": "code",
   "execution_count": null,
   "metadata": {
    "slideshow": {
     "slide_type": "skip"
    }
   },
   "outputs": [],
   "source": [
    "my_list.insert_at(4, \"hello world\")"
   ]
  },
  {
   "cell_type": "code",
   "execution_count": null,
   "metadata": {
    "slideshow": {
     "slide_type": "skip"
    }
   },
   "outputs": [],
   "source": [
    "my_list.insert_at(11, \"hello world\")"
   ]
  },
  {
   "cell_type": "code",
   "execution_count": null,
   "metadata": {
    "slideshow": {
     "slide_type": "skip"
    }
   },
   "outputs": [],
   "source": [
    "my_list.insert_at(0, \"hello world\")"
   ]
  },
  {
   "cell_type": "markdown",
   "metadata": {
    "slideshow": {
     "slide_type": "skip"
    }
   },
   "source": [
    "Выведем в консоль элементы списка:"
   ]
  },
  {
   "cell_type": "code",
   "execution_count": null,
   "metadata": {
    "slideshow": {
     "slide_type": "skip"
    }
   },
   "outputs": [],
   "source": [
    "my_list.reset()\n",
    "while True:\n",
    "    v = my_list.get_value()    \n",
    "    print(v)\n",
    "    if my_list.is_last(): break"
   ]
  },
  {
   "cell_type": "markdown",
   "metadata": {
    "slideshow": {
     "slide_type": "skip"
    }
   },
   "source": [
    "Удалим элемент из списка:"
   ]
  },
  {
   "cell_type": "code",
   "execution_count": null,
   "metadata": {
    "slideshow": {
     "slide_type": "skip"
    }
   },
   "outputs": [],
   "source": [
    "my_list.del_at(-100)\n",
    "\n",
    "my_list.reset()\n",
    "while True:\n",
    "    v = my_list.get_value()\n",
    "    if v == None: break\n",
    "    print(v)"
   ]
  }
 ],
 "metadata": {
  "celltoolbar": "Слайд-шоу",
  "kernelspec": {
   "display_name": "Python 3",
   "language": "python",
   "name": "python3"
  },
  "language_info": {
   "codemirror_mode": {
    "name": "ipython",
    "version": 3
   },
   "file_extension": ".py",
   "mimetype": "text/x-python",
   "name": "python",
   "nbconvert_exporter": "python",
   "pygments_lexer": "ipython3",
   "version": "3.8.3"
  },
  "metadata": {
   "interpreter": {
    "hash": "6d58817d7a36abfa3a827e4c983e24a2b2aeec7ad475bf8b9406aeab7b3302d2"
   }
  }
 },
 "nbformat": 4,
 "nbformat_minor": 2
}
